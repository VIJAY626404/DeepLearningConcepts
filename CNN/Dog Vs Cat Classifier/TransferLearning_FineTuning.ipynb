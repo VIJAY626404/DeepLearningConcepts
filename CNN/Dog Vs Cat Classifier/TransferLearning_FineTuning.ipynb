{
  "nbformat": 4,
  "nbformat_minor": 0,
  "metadata": {
    "colab": {
      "provenance": [],
      "gpuType": "T4"
    },
    "kernelspec": {
      "name": "python3",
      "display_name": "Python 3"
    },
    "language_info": {
      "name": "python"
    },
    "accelerator": "GPU"
  },
  "cells": [
    {
      "cell_type": "markdown",
      "source": [
        "# Transfer Learning with Fine Tuning:\n",
        "here we generaly train **most last** convolution base layer and fully connected layer.\n",
        "\n"
      ],
      "metadata": {
        "id": "d1zDye8mECeV"
      }
    },
    {
      "cell_type": "code",
      "execution_count": 1,
      "metadata": {
        "id": "4Um4z_sz2OEu"
      },
      "outputs": [],
      "source": [
        "!mkdir -p ~/.kaggle\n",
        "!cp kaggle.json ~/.kaggle/"
      ]
    },
    {
      "cell_type": "code",
      "source": [
        "!kaggle datasets download -d salader/dogs-vs-cats"
      ],
      "metadata": {
        "colab": {
          "base_uri": "https://localhost:8080/"
        },
        "id": "ijAOPfoE21s0",
        "outputId": "fa25887f-d347-4c63-b6f6-37d01b4ab3d0"
      },
      "execution_count": 2,
      "outputs": [
        {
          "output_type": "stream",
          "name": "stdout",
          "text": [
            "Warning: Your Kaggle API key is readable by other users on this system! To fix this, you can run 'chmod 600 /root/.kaggle/kaggle.json'\n",
            "Dataset URL: https://www.kaggle.com/datasets/salader/dogs-vs-cats\n",
            "License(s): unknown\n",
            "Downloading dogs-vs-cats.zip to /content\n",
            "100% 1.06G/1.06G [00:12<00:00, 128MB/s]\n",
            "100% 1.06G/1.06G [00:12<00:00, 91.6MB/s]\n"
          ]
        }
      ]
    },
    {
      "cell_type": "code",
      "source": [
        "import zipfile\n",
        "zip_ref = zipfile.ZipFile('/content/dogs-vs-cats.zip', 'r')\n",
        "zip_ref.extractall('/content')\n",
        "zip_ref.close()"
      ],
      "metadata": {
        "id": "pJUZrrzo2-BB"
      },
      "execution_count": 3,
      "outputs": []
    },
    {
      "cell_type": "code",
      "source": [
        "import tensorflow as tf\n",
        "from tensorflow.keras import Sequential\n",
        "from tensorflow.keras.layers import Dense, Flatten\n",
        "from tensorflow.keras.applications import VGG16"
      ],
      "metadata": {
        "id": "fA-pUa1l3lOE"
      },
      "execution_count": 4,
      "outputs": []
    },
    {
      "cell_type": "code",
      "source": [
        "conv_base = VGG16(\n",
        "    weights  = 'imagenet',\n",
        "    include_top = False,\n",
        "    input_shape = (150,150,3)\n",
        ")"
      ],
      "metadata": {
        "id": "e4yEYC5g4Fcb",
        "colab": {
          "base_uri": "https://localhost:8080/"
        },
        "outputId": "6c8c2c8f-389d-498d-faac-9633548ff74f"
      },
      "execution_count": 5,
      "outputs": [
        {
          "output_type": "stream",
          "name": "stdout",
          "text": [
            "Downloading data from https://storage.googleapis.com/tensorflow/keras-applications/vgg16/vgg16_weights_tf_dim_ordering_tf_kernels_notop.h5\n",
            "\u001b[1m58889256/58889256\u001b[0m \u001b[32m━━━━━━━━━━━━━━━━━━━━\u001b[0m\u001b[37m\u001b[0m \u001b[1m0s\u001b[0m 0us/step\n"
          ]
        }
      ]
    },
    {
      "cell_type": "code",
      "source": [
        "conv_base.trainable = True\n",
        "\n",
        "set_trainable = False\n",
        "\n",
        "for layer in conv_base.layers:\n",
        "  if layer.name == 'block5_conv1':\n",
        "    set_trainable = True\n",
        "  if set_trainable:\n",
        "    layer.trainable = True\n",
        "  else:\n",
        "    layer.trainable = False\n",
        "\n",
        "for layer in conv_base.layers:\n",
        "  print(layer.name,layer.trainable)"
      ],
      "metadata": {
        "colab": {
          "base_uri": "https://localhost:8080/"
        },
        "id": "Z4zK4QxZTVla",
        "outputId": "13ce8abc-3e5b-4c63-9aff-3683cb170864"
      },
      "execution_count": 6,
      "outputs": [
        {
          "output_type": "stream",
          "name": "stdout",
          "text": [
            "input_layer False\n",
            "block1_conv1 False\n",
            "block1_conv2 False\n",
            "block1_pool False\n",
            "block2_conv1 False\n",
            "block2_conv2 False\n",
            "block2_pool False\n",
            "block3_conv1 False\n",
            "block3_conv2 False\n",
            "block3_conv3 False\n",
            "block3_pool False\n",
            "block4_conv1 False\n",
            "block4_conv2 False\n",
            "block4_conv3 False\n",
            "block4_pool False\n",
            "block5_conv1 True\n",
            "block5_conv2 True\n",
            "block5_conv3 True\n",
            "block5_pool True\n"
          ]
        }
      ]
    },
    {
      "cell_type": "code",
      "source": [
        "conv_base.summary()"
      ],
      "metadata": {
        "colab": {
          "base_uri": "https://localhost:8080/",
          "height": 737
        },
        "id": "l2ZMq8qVVok0",
        "outputId": "9eb13c4c-d2df-4977-efd4-ccce2df1c920"
      },
      "execution_count": 7,
      "outputs": [
        {
          "output_type": "display_data",
          "data": {
            "text/plain": [
              "\u001b[1mModel: \"vgg16\"\u001b[0m\n"
            ],
            "text/html": [
              "<pre style=\"white-space:pre;overflow-x:auto;line-height:normal;font-family:Menlo,'DejaVu Sans Mono',consolas,'Courier New',monospace\"><span style=\"font-weight: bold\">Model: \"vgg16\"</span>\n",
              "</pre>\n"
            ]
          },
          "metadata": {}
        },
        {
          "output_type": "display_data",
          "data": {
            "text/plain": [
              "┏━━━━━━━━━━━━━━━━━━━━━━━━━━━━━━━━━━━━━━┳━━━━━━━━━━━━━━━━━━━━━━━━━━━━━┳━━━━━━━━━━━━━━━━━┓\n",
              "┃\u001b[1m \u001b[0m\u001b[1mLayer (type)                        \u001b[0m\u001b[1m \u001b[0m┃\u001b[1m \u001b[0m\u001b[1mOutput Shape               \u001b[0m\u001b[1m \u001b[0m┃\u001b[1m \u001b[0m\u001b[1m        Param #\u001b[0m\u001b[1m \u001b[0m┃\n",
              "┡━━━━━━━━━━━━━━━━━━━━━━━━━━━━━━━━━━━━━━╇━━━━━━━━━━━━━━━━━━━━━━━━━━━━━╇━━━━━━━━━━━━━━━━━┩\n",
              "│ input_layer (\u001b[38;5;33mInputLayer\u001b[0m)             │ (\u001b[38;5;45mNone\u001b[0m, \u001b[38;5;34m150\u001b[0m, \u001b[38;5;34m150\u001b[0m, \u001b[38;5;34m3\u001b[0m)         │               \u001b[38;5;34m0\u001b[0m │\n",
              "├──────────────────────────────────────┼─────────────────────────────┼─────────────────┤\n",
              "│ block1_conv1 (\u001b[38;5;33mConv2D\u001b[0m)                │ (\u001b[38;5;45mNone\u001b[0m, \u001b[38;5;34m150\u001b[0m, \u001b[38;5;34m150\u001b[0m, \u001b[38;5;34m64\u001b[0m)        │           \u001b[38;5;34m1,792\u001b[0m │\n",
              "├──────────────────────────────────────┼─────────────────────────────┼─────────────────┤\n",
              "│ block1_conv2 (\u001b[38;5;33mConv2D\u001b[0m)                │ (\u001b[38;5;45mNone\u001b[0m, \u001b[38;5;34m150\u001b[0m, \u001b[38;5;34m150\u001b[0m, \u001b[38;5;34m64\u001b[0m)        │          \u001b[38;5;34m36,928\u001b[0m │\n",
              "├──────────────────────────────────────┼─────────────────────────────┼─────────────────┤\n",
              "│ block1_pool (\u001b[38;5;33mMaxPooling2D\u001b[0m)           │ (\u001b[38;5;45mNone\u001b[0m, \u001b[38;5;34m75\u001b[0m, \u001b[38;5;34m75\u001b[0m, \u001b[38;5;34m64\u001b[0m)          │               \u001b[38;5;34m0\u001b[0m │\n",
              "├──────────────────────────────────────┼─────────────────────────────┼─────────────────┤\n",
              "│ block2_conv1 (\u001b[38;5;33mConv2D\u001b[0m)                │ (\u001b[38;5;45mNone\u001b[0m, \u001b[38;5;34m75\u001b[0m, \u001b[38;5;34m75\u001b[0m, \u001b[38;5;34m128\u001b[0m)         │          \u001b[38;5;34m73,856\u001b[0m │\n",
              "├──────────────────────────────────────┼─────────────────────────────┼─────────────────┤\n",
              "│ block2_conv2 (\u001b[38;5;33mConv2D\u001b[0m)                │ (\u001b[38;5;45mNone\u001b[0m, \u001b[38;5;34m75\u001b[0m, \u001b[38;5;34m75\u001b[0m, \u001b[38;5;34m128\u001b[0m)         │         \u001b[38;5;34m147,584\u001b[0m │\n",
              "├──────────────────────────────────────┼─────────────────────────────┼─────────────────┤\n",
              "│ block2_pool (\u001b[38;5;33mMaxPooling2D\u001b[0m)           │ (\u001b[38;5;45mNone\u001b[0m, \u001b[38;5;34m37\u001b[0m, \u001b[38;5;34m37\u001b[0m, \u001b[38;5;34m128\u001b[0m)         │               \u001b[38;5;34m0\u001b[0m │\n",
              "├──────────────────────────────────────┼─────────────────────────────┼─────────────────┤\n",
              "│ block3_conv1 (\u001b[38;5;33mConv2D\u001b[0m)                │ (\u001b[38;5;45mNone\u001b[0m, \u001b[38;5;34m37\u001b[0m, \u001b[38;5;34m37\u001b[0m, \u001b[38;5;34m256\u001b[0m)         │         \u001b[38;5;34m295,168\u001b[0m │\n",
              "├──────────────────────────────────────┼─────────────────────────────┼─────────────────┤\n",
              "│ block3_conv2 (\u001b[38;5;33mConv2D\u001b[0m)                │ (\u001b[38;5;45mNone\u001b[0m, \u001b[38;5;34m37\u001b[0m, \u001b[38;5;34m37\u001b[0m, \u001b[38;5;34m256\u001b[0m)         │         \u001b[38;5;34m590,080\u001b[0m │\n",
              "├──────────────────────────────────────┼─────────────────────────────┼─────────────────┤\n",
              "│ block3_conv3 (\u001b[38;5;33mConv2D\u001b[0m)                │ (\u001b[38;5;45mNone\u001b[0m, \u001b[38;5;34m37\u001b[0m, \u001b[38;5;34m37\u001b[0m, \u001b[38;5;34m256\u001b[0m)         │         \u001b[38;5;34m590,080\u001b[0m │\n",
              "├──────────────────────────────────────┼─────────────────────────────┼─────────────────┤\n",
              "│ block3_pool (\u001b[38;5;33mMaxPooling2D\u001b[0m)           │ (\u001b[38;5;45mNone\u001b[0m, \u001b[38;5;34m18\u001b[0m, \u001b[38;5;34m18\u001b[0m, \u001b[38;5;34m256\u001b[0m)         │               \u001b[38;5;34m0\u001b[0m │\n",
              "├──────────────────────────────────────┼─────────────────────────────┼─────────────────┤\n",
              "│ block4_conv1 (\u001b[38;5;33mConv2D\u001b[0m)                │ (\u001b[38;5;45mNone\u001b[0m, \u001b[38;5;34m18\u001b[0m, \u001b[38;5;34m18\u001b[0m, \u001b[38;5;34m512\u001b[0m)         │       \u001b[38;5;34m1,180,160\u001b[0m │\n",
              "├──────────────────────────────────────┼─────────────────────────────┼─────────────────┤\n",
              "│ block4_conv2 (\u001b[38;5;33mConv2D\u001b[0m)                │ (\u001b[38;5;45mNone\u001b[0m, \u001b[38;5;34m18\u001b[0m, \u001b[38;5;34m18\u001b[0m, \u001b[38;5;34m512\u001b[0m)         │       \u001b[38;5;34m2,359,808\u001b[0m │\n",
              "├──────────────────────────────────────┼─────────────────────────────┼─────────────────┤\n",
              "│ block4_conv3 (\u001b[38;5;33mConv2D\u001b[0m)                │ (\u001b[38;5;45mNone\u001b[0m, \u001b[38;5;34m18\u001b[0m, \u001b[38;5;34m18\u001b[0m, \u001b[38;5;34m512\u001b[0m)         │       \u001b[38;5;34m2,359,808\u001b[0m │\n",
              "├──────────────────────────────────────┼─────────────────────────────┼─────────────────┤\n",
              "│ block4_pool (\u001b[38;5;33mMaxPooling2D\u001b[0m)           │ (\u001b[38;5;45mNone\u001b[0m, \u001b[38;5;34m9\u001b[0m, \u001b[38;5;34m9\u001b[0m, \u001b[38;5;34m512\u001b[0m)           │               \u001b[38;5;34m0\u001b[0m │\n",
              "├──────────────────────────────────────┼─────────────────────────────┼─────────────────┤\n",
              "│ block5_conv1 (\u001b[38;5;33mConv2D\u001b[0m)                │ (\u001b[38;5;45mNone\u001b[0m, \u001b[38;5;34m9\u001b[0m, \u001b[38;5;34m9\u001b[0m, \u001b[38;5;34m512\u001b[0m)           │       \u001b[38;5;34m2,359,808\u001b[0m │\n",
              "├──────────────────────────────────────┼─────────────────────────────┼─────────────────┤\n",
              "│ block5_conv2 (\u001b[38;5;33mConv2D\u001b[0m)                │ (\u001b[38;5;45mNone\u001b[0m, \u001b[38;5;34m9\u001b[0m, \u001b[38;5;34m9\u001b[0m, \u001b[38;5;34m512\u001b[0m)           │       \u001b[38;5;34m2,359,808\u001b[0m │\n",
              "├──────────────────────────────────────┼─────────────────────────────┼─────────────────┤\n",
              "│ block5_conv3 (\u001b[38;5;33mConv2D\u001b[0m)                │ (\u001b[38;5;45mNone\u001b[0m, \u001b[38;5;34m9\u001b[0m, \u001b[38;5;34m9\u001b[0m, \u001b[38;5;34m512\u001b[0m)           │       \u001b[38;5;34m2,359,808\u001b[0m │\n",
              "├──────────────────────────────────────┼─────────────────────────────┼─────────────────┤\n",
              "│ block5_pool (\u001b[38;5;33mMaxPooling2D\u001b[0m)           │ (\u001b[38;5;45mNone\u001b[0m, \u001b[38;5;34m4\u001b[0m, \u001b[38;5;34m4\u001b[0m, \u001b[38;5;34m512\u001b[0m)           │               \u001b[38;5;34m0\u001b[0m │\n",
              "└──────────────────────────────────────┴─────────────────────────────┴─────────────────┘\n"
            ],
            "text/html": [
              "<pre style=\"white-space:pre;overflow-x:auto;line-height:normal;font-family:Menlo,'DejaVu Sans Mono',consolas,'Courier New',monospace\">┏━━━━━━━━━━━━━━━━━━━━━━━━━━━━━━━━━━━━━━┳━━━━━━━━━━━━━━━━━━━━━━━━━━━━━┳━━━━━━━━━━━━━━━━━┓\n",
              "┃<span style=\"font-weight: bold\"> Layer (type)                         </span>┃<span style=\"font-weight: bold\"> Output Shape                </span>┃<span style=\"font-weight: bold\">         Param # </span>┃\n",
              "┡━━━━━━━━━━━━━━━━━━━━━━━━━━━━━━━━━━━━━━╇━━━━━━━━━━━━━━━━━━━━━━━━━━━━━╇━━━━━━━━━━━━━━━━━┩\n",
              "│ input_layer (<span style=\"color: #0087ff; text-decoration-color: #0087ff\">InputLayer</span>)             │ (<span style=\"color: #00d7ff; text-decoration-color: #00d7ff\">None</span>, <span style=\"color: #00af00; text-decoration-color: #00af00\">150</span>, <span style=\"color: #00af00; text-decoration-color: #00af00\">150</span>, <span style=\"color: #00af00; text-decoration-color: #00af00\">3</span>)         │               <span style=\"color: #00af00; text-decoration-color: #00af00\">0</span> │\n",
              "├──────────────────────────────────────┼─────────────────────────────┼─────────────────┤\n",
              "│ block1_conv1 (<span style=\"color: #0087ff; text-decoration-color: #0087ff\">Conv2D</span>)                │ (<span style=\"color: #00d7ff; text-decoration-color: #00d7ff\">None</span>, <span style=\"color: #00af00; text-decoration-color: #00af00\">150</span>, <span style=\"color: #00af00; text-decoration-color: #00af00\">150</span>, <span style=\"color: #00af00; text-decoration-color: #00af00\">64</span>)        │           <span style=\"color: #00af00; text-decoration-color: #00af00\">1,792</span> │\n",
              "├──────────────────────────────────────┼─────────────────────────────┼─────────────────┤\n",
              "│ block1_conv2 (<span style=\"color: #0087ff; text-decoration-color: #0087ff\">Conv2D</span>)                │ (<span style=\"color: #00d7ff; text-decoration-color: #00d7ff\">None</span>, <span style=\"color: #00af00; text-decoration-color: #00af00\">150</span>, <span style=\"color: #00af00; text-decoration-color: #00af00\">150</span>, <span style=\"color: #00af00; text-decoration-color: #00af00\">64</span>)        │          <span style=\"color: #00af00; text-decoration-color: #00af00\">36,928</span> │\n",
              "├──────────────────────────────────────┼─────────────────────────────┼─────────────────┤\n",
              "│ block1_pool (<span style=\"color: #0087ff; text-decoration-color: #0087ff\">MaxPooling2D</span>)           │ (<span style=\"color: #00d7ff; text-decoration-color: #00d7ff\">None</span>, <span style=\"color: #00af00; text-decoration-color: #00af00\">75</span>, <span style=\"color: #00af00; text-decoration-color: #00af00\">75</span>, <span style=\"color: #00af00; text-decoration-color: #00af00\">64</span>)          │               <span style=\"color: #00af00; text-decoration-color: #00af00\">0</span> │\n",
              "├──────────────────────────────────────┼─────────────────────────────┼─────────────────┤\n",
              "│ block2_conv1 (<span style=\"color: #0087ff; text-decoration-color: #0087ff\">Conv2D</span>)                │ (<span style=\"color: #00d7ff; text-decoration-color: #00d7ff\">None</span>, <span style=\"color: #00af00; text-decoration-color: #00af00\">75</span>, <span style=\"color: #00af00; text-decoration-color: #00af00\">75</span>, <span style=\"color: #00af00; text-decoration-color: #00af00\">128</span>)         │          <span style=\"color: #00af00; text-decoration-color: #00af00\">73,856</span> │\n",
              "├──────────────────────────────────────┼─────────────────────────────┼─────────────────┤\n",
              "│ block2_conv2 (<span style=\"color: #0087ff; text-decoration-color: #0087ff\">Conv2D</span>)                │ (<span style=\"color: #00d7ff; text-decoration-color: #00d7ff\">None</span>, <span style=\"color: #00af00; text-decoration-color: #00af00\">75</span>, <span style=\"color: #00af00; text-decoration-color: #00af00\">75</span>, <span style=\"color: #00af00; text-decoration-color: #00af00\">128</span>)         │         <span style=\"color: #00af00; text-decoration-color: #00af00\">147,584</span> │\n",
              "├──────────────────────────────────────┼─────────────────────────────┼─────────────────┤\n",
              "│ block2_pool (<span style=\"color: #0087ff; text-decoration-color: #0087ff\">MaxPooling2D</span>)           │ (<span style=\"color: #00d7ff; text-decoration-color: #00d7ff\">None</span>, <span style=\"color: #00af00; text-decoration-color: #00af00\">37</span>, <span style=\"color: #00af00; text-decoration-color: #00af00\">37</span>, <span style=\"color: #00af00; text-decoration-color: #00af00\">128</span>)         │               <span style=\"color: #00af00; text-decoration-color: #00af00\">0</span> │\n",
              "├──────────────────────────────────────┼─────────────────────────────┼─────────────────┤\n",
              "│ block3_conv1 (<span style=\"color: #0087ff; text-decoration-color: #0087ff\">Conv2D</span>)                │ (<span style=\"color: #00d7ff; text-decoration-color: #00d7ff\">None</span>, <span style=\"color: #00af00; text-decoration-color: #00af00\">37</span>, <span style=\"color: #00af00; text-decoration-color: #00af00\">37</span>, <span style=\"color: #00af00; text-decoration-color: #00af00\">256</span>)         │         <span style=\"color: #00af00; text-decoration-color: #00af00\">295,168</span> │\n",
              "├──────────────────────────────────────┼─────────────────────────────┼─────────────────┤\n",
              "│ block3_conv2 (<span style=\"color: #0087ff; text-decoration-color: #0087ff\">Conv2D</span>)                │ (<span style=\"color: #00d7ff; text-decoration-color: #00d7ff\">None</span>, <span style=\"color: #00af00; text-decoration-color: #00af00\">37</span>, <span style=\"color: #00af00; text-decoration-color: #00af00\">37</span>, <span style=\"color: #00af00; text-decoration-color: #00af00\">256</span>)         │         <span style=\"color: #00af00; text-decoration-color: #00af00\">590,080</span> │\n",
              "├──────────────────────────────────────┼─────────────────────────────┼─────────────────┤\n",
              "│ block3_conv3 (<span style=\"color: #0087ff; text-decoration-color: #0087ff\">Conv2D</span>)                │ (<span style=\"color: #00d7ff; text-decoration-color: #00d7ff\">None</span>, <span style=\"color: #00af00; text-decoration-color: #00af00\">37</span>, <span style=\"color: #00af00; text-decoration-color: #00af00\">37</span>, <span style=\"color: #00af00; text-decoration-color: #00af00\">256</span>)         │         <span style=\"color: #00af00; text-decoration-color: #00af00\">590,080</span> │\n",
              "├──────────────────────────────────────┼─────────────────────────────┼─────────────────┤\n",
              "│ block3_pool (<span style=\"color: #0087ff; text-decoration-color: #0087ff\">MaxPooling2D</span>)           │ (<span style=\"color: #00d7ff; text-decoration-color: #00d7ff\">None</span>, <span style=\"color: #00af00; text-decoration-color: #00af00\">18</span>, <span style=\"color: #00af00; text-decoration-color: #00af00\">18</span>, <span style=\"color: #00af00; text-decoration-color: #00af00\">256</span>)         │               <span style=\"color: #00af00; text-decoration-color: #00af00\">0</span> │\n",
              "├──────────────────────────────────────┼─────────────────────────────┼─────────────────┤\n",
              "│ block4_conv1 (<span style=\"color: #0087ff; text-decoration-color: #0087ff\">Conv2D</span>)                │ (<span style=\"color: #00d7ff; text-decoration-color: #00d7ff\">None</span>, <span style=\"color: #00af00; text-decoration-color: #00af00\">18</span>, <span style=\"color: #00af00; text-decoration-color: #00af00\">18</span>, <span style=\"color: #00af00; text-decoration-color: #00af00\">512</span>)         │       <span style=\"color: #00af00; text-decoration-color: #00af00\">1,180,160</span> │\n",
              "├──────────────────────────────────────┼─────────────────────────────┼─────────────────┤\n",
              "│ block4_conv2 (<span style=\"color: #0087ff; text-decoration-color: #0087ff\">Conv2D</span>)                │ (<span style=\"color: #00d7ff; text-decoration-color: #00d7ff\">None</span>, <span style=\"color: #00af00; text-decoration-color: #00af00\">18</span>, <span style=\"color: #00af00; text-decoration-color: #00af00\">18</span>, <span style=\"color: #00af00; text-decoration-color: #00af00\">512</span>)         │       <span style=\"color: #00af00; text-decoration-color: #00af00\">2,359,808</span> │\n",
              "├──────────────────────────────────────┼─────────────────────────────┼─────────────────┤\n",
              "│ block4_conv3 (<span style=\"color: #0087ff; text-decoration-color: #0087ff\">Conv2D</span>)                │ (<span style=\"color: #00d7ff; text-decoration-color: #00d7ff\">None</span>, <span style=\"color: #00af00; text-decoration-color: #00af00\">18</span>, <span style=\"color: #00af00; text-decoration-color: #00af00\">18</span>, <span style=\"color: #00af00; text-decoration-color: #00af00\">512</span>)         │       <span style=\"color: #00af00; text-decoration-color: #00af00\">2,359,808</span> │\n",
              "├──────────────────────────────────────┼─────────────────────────────┼─────────────────┤\n",
              "│ block4_pool (<span style=\"color: #0087ff; text-decoration-color: #0087ff\">MaxPooling2D</span>)           │ (<span style=\"color: #00d7ff; text-decoration-color: #00d7ff\">None</span>, <span style=\"color: #00af00; text-decoration-color: #00af00\">9</span>, <span style=\"color: #00af00; text-decoration-color: #00af00\">9</span>, <span style=\"color: #00af00; text-decoration-color: #00af00\">512</span>)           │               <span style=\"color: #00af00; text-decoration-color: #00af00\">0</span> │\n",
              "├──────────────────────────────────────┼─────────────────────────────┼─────────────────┤\n",
              "│ block5_conv1 (<span style=\"color: #0087ff; text-decoration-color: #0087ff\">Conv2D</span>)                │ (<span style=\"color: #00d7ff; text-decoration-color: #00d7ff\">None</span>, <span style=\"color: #00af00; text-decoration-color: #00af00\">9</span>, <span style=\"color: #00af00; text-decoration-color: #00af00\">9</span>, <span style=\"color: #00af00; text-decoration-color: #00af00\">512</span>)           │       <span style=\"color: #00af00; text-decoration-color: #00af00\">2,359,808</span> │\n",
              "├──────────────────────────────────────┼─────────────────────────────┼─────────────────┤\n",
              "│ block5_conv2 (<span style=\"color: #0087ff; text-decoration-color: #0087ff\">Conv2D</span>)                │ (<span style=\"color: #00d7ff; text-decoration-color: #00d7ff\">None</span>, <span style=\"color: #00af00; text-decoration-color: #00af00\">9</span>, <span style=\"color: #00af00; text-decoration-color: #00af00\">9</span>, <span style=\"color: #00af00; text-decoration-color: #00af00\">512</span>)           │       <span style=\"color: #00af00; text-decoration-color: #00af00\">2,359,808</span> │\n",
              "├──────────────────────────────────────┼─────────────────────────────┼─────────────────┤\n",
              "│ block5_conv3 (<span style=\"color: #0087ff; text-decoration-color: #0087ff\">Conv2D</span>)                │ (<span style=\"color: #00d7ff; text-decoration-color: #00d7ff\">None</span>, <span style=\"color: #00af00; text-decoration-color: #00af00\">9</span>, <span style=\"color: #00af00; text-decoration-color: #00af00\">9</span>, <span style=\"color: #00af00; text-decoration-color: #00af00\">512</span>)           │       <span style=\"color: #00af00; text-decoration-color: #00af00\">2,359,808</span> │\n",
              "├──────────────────────────────────────┼─────────────────────────────┼─────────────────┤\n",
              "│ block5_pool (<span style=\"color: #0087ff; text-decoration-color: #0087ff\">MaxPooling2D</span>)           │ (<span style=\"color: #00d7ff; text-decoration-color: #00d7ff\">None</span>, <span style=\"color: #00af00; text-decoration-color: #00af00\">4</span>, <span style=\"color: #00af00; text-decoration-color: #00af00\">4</span>, <span style=\"color: #00af00; text-decoration-color: #00af00\">512</span>)           │               <span style=\"color: #00af00; text-decoration-color: #00af00\">0</span> │\n",
              "└──────────────────────────────────────┴─────────────────────────────┴─────────────────┘\n",
              "</pre>\n"
            ]
          },
          "metadata": {}
        },
        {
          "output_type": "display_data",
          "data": {
            "text/plain": [
              "\u001b[1m Total params: \u001b[0m\u001b[38;5;34m14,714,688\u001b[0m (56.13 MB)\n"
            ],
            "text/html": [
              "<pre style=\"white-space:pre;overflow-x:auto;line-height:normal;font-family:Menlo,'DejaVu Sans Mono',consolas,'Courier New',monospace\"><span style=\"font-weight: bold\"> Total params: </span><span style=\"color: #00af00; text-decoration-color: #00af00\">14,714,688</span> (56.13 MB)\n",
              "</pre>\n"
            ]
          },
          "metadata": {}
        },
        {
          "output_type": "display_data",
          "data": {
            "text/plain": [
              "\u001b[1m Trainable params: \u001b[0m\u001b[38;5;34m7,079,424\u001b[0m (27.01 MB)\n"
            ],
            "text/html": [
              "<pre style=\"white-space:pre;overflow-x:auto;line-height:normal;font-family:Menlo,'DejaVu Sans Mono',consolas,'Courier New',monospace\"><span style=\"font-weight: bold\"> Trainable params: </span><span style=\"color: #00af00; text-decoration-color: #00af00\">7,079,424</span> (27.01 MB)\n",
              "</pre>\n"
            ]
          },
          "metadata": {}
        },
        {
          "output_type": "display_data",
          "data": {
            "text/plain": [
              "\u001b[1m Non-trainable params: \u001b[0m\u001b[38;5;34m7,635,264\u001b[0m (29.13 MB)\n"
            ],
            "text/html": [
              "<pre style=\"white-space:pre;overflow-x:auto;line-height:normal;font-family:Menlo,'DejaVu Sans Mono',consolas,'Courier New',monospace\"><span style=\"font-weight: bold\"> Non-trainable params: </span><span style=\"color: #00af00; text-decoration-color: #00af00\">7,635,264</span> (29.13 MB)\n",
              "</pre>\n"
            ]
          },
          "metadata": {}
        }
      ]
    },
    {
      "cell_type": "code",
      "source": [
        "model = Sequential()\n",
        "\n",
        "model.add(conv_base)\n",
        "model.add(Flatten())\n",
        "model.add(Dense(256,activation='relu'))\n",
        "model.add(Dense(1,activation='sigmoid'))"
      ],
      "metadata": {
        "id": "nagUiGi35iCR"
      },
      "execution_count": 8,
      "outputs": []
    },
    {
      "cell_type": "code",
      "source": [
        "# generators\n",
        "train_ds = tf.keras.utils.image_dataset_from_directory(\n",
        "    directory = '/content/train',\n",
        "    labels='inferred',\n",
        "    label_mode = 'int',\n",
        "    batch_size=32,\n",
        "    image_size=(150,150)\n",
        ")\n",
        "\n",
        "validation_ds = tf.keras.utils.image_dataset_from_directory(\n",
        "    directory = '/content/test',\n",
        "    labels='inferred',\n",
        "    label_mode = 'int',\n",
        "    batch_size=32,\n",
        "    image_size=(150,150)\n",
        ")"
      ],
      "metadata": {
        "colab": {
          "base_uri": "https://localhost:8080/"
        },
        "id": "l2yWGz8eJDdq",
        "outputId": "f45d8356-4372-4028-e39d-d38f7cc348c4"
      },
      "execution_count": 11,
      "outputs": [
        {
          "output_type": "stream",
          "name": "stdout",
          "text": [
            "Found 20000 files belonging to 2 classes.\n",
            "Found 5000 files belonging to 2 classes.\n"
          ]
        }
      ]
    },
    {
      "cell_type": "code",
      "source": [
        "# Normalize\n",
        "def process(image,label):\n",
        "    image = tf.cast(image/255. ,tf.float32)\n",
        "    return image,label\n",
        "\n",
        "train_ds = train_ds.map(process)\n",
        "validation_ds = validation_ds.map(process)"
      ],
      "metadata": {
        "id": "eEU1prGTWPj7"
      },
      "execution_count": 14,
      "outputs": []
    },
    {
      "cell_type": "code",
      "source": [
        "model.compile(\n",
        "    optimizer=tf.keras.optimizers.RMSprop(learning_rate=1e-5),\n",
        "    loss='binary_crossentropy',\n",
        "    metrics=['accuracy']\n",
        ")\n"
      ],
      "metadata": {
        "id": "xule63Dn-jFk"
      },
      "execution_count": 17,
      "outputs": []
    },
    {
      "cell_type": "code",
      "source": [
        "history = model.fit(train_ds,epochs=10,validation_data=validation_ds)"
      ],
      "metadata": {
        "colab": {
          "base_uri": "https://localhost:8080/"
        },
        "id": "mQIF-hYh-lJZ",
        "outputId": "731d02eb-b0c2-46f4-ca7d-fc23cf25c34c"
      },
      "execution_count": 18,
      "outputs": [
        {
          "output_type": "stream",
          "name": "stdout",
          "text": [
            "Epoch 1/10\n",
            "\u001b[1m625/625\u001b[0m \u001b[32m━━━━━━━━━━━━━━━━━━━━\u001b[0m\u001b[37m\u001b[0m \u001b[1m81s\u001b[0m 113ms/step - accuracy: 0.8559 - loss: 0.3212 - val_accuracy: 0.9288 - val_loss: 0.1780\n",
            "Epoch 2/10\n",
            "\u001b[1m625/625\u001b[0m \u001b[32m━━━━━━━━━━━━━━━━━━━━\u001b[0m\u001b[37m\u001b[0m \u001b[1m61s\u001b[0m 98ms/step - accuracy: 0.9433 - loss: 0.1396 - val_accuracy: 0.9386 - val_loss: 0.1486\n",
            "Epoch 3/10\n",
            "\u001b[1m625/625\u001b[0m \u001b[32m━━━━━━━━━━━━━━━━━━━━\u001b[0m\u001b[37m\u001b[0m \u001b[1m82s\u001b[0m 98ms/step - accuracy: 0.9627 - loss: 0.0972 - val_accuracy: 0.9530 - val_loss: 0.1234\n",
            "Epoch 4/10\n",
            "\u001b[1m625/625\u001b[0m \u001b[32m━━━━━━━━━━━━━━━━━━━━\u001b[0m\u001b[37m\u001b[0m \u001b[1m81s\u001b[0m 97ms/step - accuracy: 0.9756 - loss: 0.0683 - val_accuracy: 0.9510 - val_loss: 0.1232\n",
            "Epoch 5/10\n",
            "\u001b[1m625/625\u001b[0m \u001b[32m━━━━━━━━━━━━━━━━━━━━\u001b[0m\u001b[37m\u001b[0m \u001b[1m82s\u001b[0m 98ms/step - accuracy: 0.9850 - loss: 0.0475 - val_accuracy: 0.9458 - val_loss: 0.1444\n",
            "Epoch 6/10\n",
            "\u001b[1m625/625\u001b[0m \u001b[32m━━━━━━━━━━━━━━━━━━━━\u001b[0m\u001b[37m\u001b[0m \u001b[1m82s\u001b[0m 98ms/step - accuracy: 0.9911 - loss: 0.0315 - val_accuracy: 0.9556 - val_loss: 0.1267\n",
            "Epoch 7/10\n",
            "\u001b[1m625/625\u001b[0m \u001b[32m━━━━━━━━━━━━━━━━━━━━\u001b[0m\u001b[37m\u001b[0m \u001b[1m61s\u001b[0m 97ms/step - accuracy: 0.9949 - loss: 0.0207 - val_accuracy: 0.9534 - val_loss: 0.1375\n",
            "Epoch 8/10\n",
            "\u001b[1m625/625\u001b[0m \u001b[32m━━━━━━━━━━━━━━━━━━━━\u001b[0m\u001b[37m\u001b[0m \u001b[1m61s\u001b[0m 97ms/step - accuracy: 0.9982 - loss: 0.0122 - val_accuracy: 0.9530 - val_loss: 0.1523\n",
            "Epoch 9/10\n",
            "\u001b[1m625/625\u001b[0m \u001b[32m━━━━━━━━━━━━━━━━━━━━\u001b[0m\u001b[37m\u001b[0m \u001b[1m61s\u001b[0m 98ms/step - accuracy: 0.9978 - loss: 0.0084 - val_accuracy: 0.9452 - val_loss: 0.1845\n",
            "Epoch 10/10\n",
            "\u001b[1m625/625\u001b[0m \u001b[32m━━━━━━━━━━━━━━━━━━━━\u001b[0m\u001b[37m\u001b[0m \u001b[1m61s\u001b[0m 98ms/step - accuracy: 0.9988 - loss: 0.0052 - val_accuracy: 0.9562 - val_loss: 0.1612\n"
          ]
        }
      ]
    },
    {
      "cell_type": "code",
      "source": [
        "import matplotlib.pyplot as plt\n",
        "\n",
        "plt.plot(history.history['accuracy'],color='red',label='train')\n",
        "plt.plot(history.history['val_accuracy'],color='blue',label='validation')\n",
        "plt.legend()\n",
        "plt.show()"
      ],
      "metadata": {
        "colab": {
          "base_uri": "https://localhost:8080/",
          "height": 430
        },
        "id": "KuhkNcYE-wQy",
        "outputId": "26ad6c3c-e135-4fc6-e4f6-e5f33024227c"
      },
      "execution_count": 19,
      "outputs": [
        {
          "output_type": "display_data",
          "data": {
            "text/plain": [
              "<Figure size 640x480 with 1 Axes>"
            ],
            "image/png": "[encoded data removed]"
          },
          "metadata": {}
        }
      ]
    },
    {
      "cell_type": "code",
      "source": [
        "plt.plot(history.history['loss'],color='red',label='train')\n",
        "plt.plot(history.history['val_loss'],color='blue',label='validation')\n",
        "plt.legend()\n",
        "plt.show()"
      ],
      "metadata": {
        "colab": {
          "base_uri": "https://localhost:8080/",
          "height": 430
        },
        "id": "OKLzfa56DWZE",
        "outputId": "4f35ea9c-df62-4209-c5e0-e0b8faab6649"
      },
      "execution_count": 20,
      "outputs": [
        {
          "output_type": "display_data",
          "data": {
            "text/plain": [
              "<Figure size 640x480 with 1 Axes>"
            ],
            "image/png": "[encoded data removed]"
          },
          "metadata": {}
        }
      ]
    },
    {
      "cell_type": "markdown",
      "source": [
        "\n",
        "# Model Accuracy :  0.9988  \n",
        "# Validation Accuracy : 0.9562\n"
      ],
      "metadata": {
        "id": "xaZE61ERDiG_"
      }
    },
    {
      "cell_type": "markdown",
      "source": [
        "# Model Prediction"
      ],
      "metadata": {
        "id": "HLGQExwQjufj"
      }
    },
    {
      "cell_type": "code",
      "source": [
        "import cv2"
      ],
      "metadata": {
        "id": "eOUks1gyjwvg"
      },
      "execution_count": 21,
      "outputs": []
    },
    {
      "cell_type": "code",
      "source": [
        "\n",
        "def image_preprocess(img_path):\n",
        "    test_img = cv2.imread(img_path)  # Remove quotes around img_path\n",
        "    if test_img is None:\n",
        "        raise ValueError(f\"Image at path '{img_path}' not found.\")\n",
        "    test_img = cv2.resize(test_img, (150, 150))\n",
        "    return test_img\n"
      ],
      "metadata": {
        "id": "_Sn9hr0ij3Gp"
      },
      "execution_count": 46,
      "outputs": []
    },
    {
      "cell_type": "code",
      "source": [
        "test_input = image_preprocess('/content/dog.jpg')\n",
        "test_input"
      ],
      "metadata": {
        "colab": {
          "base_uri": "https://localhost:8080/",
          "height": 190
        },
        "id": "6qZkiu8fpgvb",
        "outputId": "bb664ab9-3567-411c-c0ca-7faf1ef61834"
      },
      "execution_count": 61,
      "outputs": [
        {
          "output_type": "execute_result",
          "data": {
            "text/plain": [
              "array([[[ 48,  78,  43],\n",
              "        [ 48,  78,  43],\n",
              "        [ 49,  80,  43],\n",
              "        ...,\n",
              "        [ 19,  29,   6],\n",
              "        [ 18,  24,   5],\n",
              "        [ 18,  24,   5]],\n",
              "\n",
              "       [[ 48,  78,  43],\n",
              "        [ 48,  78,  43],\n",
              "        [ 50,  80,  45],\n",
              "        ...,\n",
              "        [ 17,  26,   5],\n",
              "        [ 18,  24,   5],\n",
              "        [ 17,  23,   4]],\n",
              "\n",
              "       [[ 48,  78,  43],\n",
              "        [ 48,  78,  43],\n",
              "        [ 50,  79,  46],\n",
              "        ...,\n",
              "        [ 17,  26,   6],\n",
              "        [ 18,  24,   5],\n",
              "        [ 15,  21,   2]],\n",
              "\n",
              "       ...,\n",
              "\n",
              "       [[ 48, 138, 103],\n",
              "        [ 49, 141, 106],\n",
              "        [ 46, 142, 106],\n",
              "        ...,\n",
              "        [ 42, 142, 100],\n",
              "        [ 42, 142, 100],\n",
              "        [ 43, 143, 101]],\n",
              "\n",
              "       [[ 45, 140, 103],\n",
              "        [ 44, 140, 103],\n",
              "        [ 43, 142, 102],\n",
              "        ...,\n",
              "        [ 39, 143, 102],\n",
              "        [ 42, 145, 104],\n",
              "        [ 37, 142,  99]],\n",
              "\n",
              "       [[ 44, 142,  99],\n",
              "        [ 41, 143,  99],\n",
              "        [ 39, 145, 104],\n",
              "        ...,\n",
              "        [ 39, 145, 104],\n",
              "        [ 40, 144, 103],\n",
              "        [ 38, 145, 102]]], dtype=uint8)"
            ],
            "text/html": [
              "<style>\n",
              "      .ndarray_repr .ndarray_raw_data {\n",
              "        display: none;\n",
              "      }\n",
              "      .ndarray_repr.show_array .ndarray_raw_data {\n",
              "        display: block;\n",
              "      }\n",
              "      .ndarray_repr.show_array .ndarray_image_preview {\n",
              "        display: none;\n",
              "      }\n",
              "      </style>\n",
              "      <div id=\"id-a16af0c9-67b6-435e-b4dc-477428c5b6d3\" class=\"ndarray_repr\"><pre>ndarray (150, 150, 3) <button style=\"padding: 0 2px;\">show data</button></pre><img src=\"data:image/png;base64,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\" class=\"ndarray_image_preview\" /><pre class=\"ndarray_raw_data\">array([[[ 48,  78,  43],\n",
              "        [ 48,  78,  43],\n",
              "        [ 49,  80,  43],\n",
              "        ...,\n",
              "        [ 19,  29,   6],\n",
              "        [ 18,  24,   5],\n",
              "        [ 18,  24,   5]],\n",
              "\n",
              "       [[ 48,  78,  43],\n",
              "        [ 48,  78,  43],\n",
              "        [ 50,  80,  45],\n",
              "        ...,\n",
              "        [ 17,  26,   5],\n",
              "        [ 18,  24,   5],\n",
              "        [ 17,  23,   4]],\n",
              "\n",
              "       [[ 48,  78,  43],\n",
              "        [ 48,  78,  43],\n",
              "        [ 50,  79,  46],\n",
              "        ...,\n",
              "        [ 17,  26,   6],\n",
              "        [ 18,  24,   5],\n",
              "        [ 15,  21,   2]],\n",
              "\n",
              "       ...,\n",
              "\n",
              "       [[ 48, 138, 103],\n",
              "        [ 49, 141, 106],\n",
              "        [ 46, 142, 106],\n",
              "        ...,\n",
              "        [ 42, 142, 100],\n",
              "        [ 42, 142, 100],\n",
              "        [ 43, 143, 101]],\n",
              "\n",
              "       [[ 45, 140, 103],\n",
              "        [ 44, 140, 103],\n",
              "        [ 43, 142, 102],\n",
              "        ...,\n",
              "        [ 39, 143, 102],\n",
              "        [ 42, 145, 104],\n",
              "        [ 37, 142,  99]],\n",
              "\n",
              "       [[ 44, 142,  99],\n",
              "        [ 41, 143,  99],\n",
              "        [ 39, 145, 104],\n",
              "        ...,\n",
              "        [ 39, 145, 104],\n",
              "        [ 40, 144, 103],\n",
              "        [ 38, 145, 102]]], dtype=uint8)</pre></div><script>\n",
              "      (() => {\n",
              "      const titles = ['show data', 'hide data'];\n",
              "      let index = 0\n",
              "      document.querySelector('#id-a16af0c9-67b6-435e-b4dc-477428c5b6d3 button').onclick = (e) => {\n",
              "        document.querySelector('#id-a16af0c9-67b6-435e-b4dc-477428c5b6d3').classList.toggle('show_array');\n",
              "        index = (++index) % 2;\n",
              "        document.querySelector('#id-a16af0c9-67b6-435e-b4dc-477428c5b6d3 button').textContent = titles[index];\n",
              "        e.preventDefault();\n",
              "        e.stopPropagation();\n",
              "      }\n",
              "      })();\n",
              "    </script>"
            ]
          },
          "metadata": {},
          "execution_count": 61
        }
      ]
    },
    {
      "cell_type": "code",
      "source": [
        "reshape_test_input = test_input.reshape((1,150,150,3))"
      ],
      "metadata": {
        "id": "cncnIDrPlYyM"
      },
      "execution_count": 62,
      "outputs": []
    },
    {
      "cell_type": "code",
      "source": [
        "reshape_test_input"
      ],
      "metadata": {
        "colab": {
          "base_uri": "https://localhost:8080/"
        },
        "collapsed": true,
        "id": "DFbVB_rUknKx",
        "outputId": "0d5518f9-ca6b-4957-8676-14ebb6a840aa"
      },
      "execution_count": 53,
      "outputs": [
        {
          "output_type": "execute_result",
          "data": {
            "text/plain": [
              "array([[[[104, 107, 111],\n",
              "         [120, 122, 125],\n",
              "         [133, 134, 138],\n",
              "         ...,\n",
              "         [ 41,  44,  48],\n",
              "         [ 41,  44,  48],\n",
              "         [ 41,  44,  45]],\n",
              "\n",
              "        [[104, 105, 109],\n",
              "         [121, 122, 126],\n",
              "         [133, 134, 138],\n",
              "         ...,\n",
              "         [ 42,  45,  49],\n",
              "         [ 41,  44,  48],\n",
              "         [ 41,  44,  47]],\n",
              "\n",
              "        [[104, 105, 109],\n",
              "         [121, 122, 126],\n",
              "         [136, 134, 140],\n",
              "         ...,\n",
              "         [ 42,  45,  50],\n",
              "         [ 41,  44,  48],\n",
              "         [ 41,  45,  48]],\n",
              "\n",
              "        ...,\n",
              "\n",
              "        [[123, 123, 130],\n",
              "         [118, 117, 124],\n",
              "         [111, 111, 117],\n",
              "         ...,\n",
              "         [ 31,  37,  44],\n",
              "         [ 31,  34,  42],\n",
              "         [ 33,  36,  41]],\n",
              "\n",
              "        [[120, 121, 127],\n",
              "         [115, 115, 121],\n",
              "         [109, 109, 115],\n",
              "         ...,\n",
              "         [ 31,  37,  44],\n",
              "         [ 31,  34,  41],\n",
              "         [ 33,  36,  41]],\n",
              "\n",
              "        [[118, 121, 125],\n",
              "         [112, 115, 119],\n",
              "         [106, 109, 113],\n",
              "         ...,\n",
              "         [ 30,  36,  43],\n",
              "         [ 31,  35,  40],\n",
              "         [ 33,  36,  41]]]], dtype=uint8)"
            ]
          },
          "metadata": {},
          "execution_count": 53
        }
      ]
    },
    {
      "cell_type": "code",
      "source": [
        "predicted_value = model.predict(reshape_test_input)\n",
        "def final_prediction(predicted_value):\n",
        "  if predicted_value==1:\n",
        "    return f'This is Dog'\n",
        "  else:\n",
        "    return 'This is Cat'\n",
        "\n",
        "final_prediction(predicted_value)"
      ],
      "metadata": {
        "colab": {
          "base_uri": "https://localhost:8080/",
          "height": 54
        },
        "id": "FyZifidnko6o",
        "outputId": "cf3b02b4-30e7-4dbd-f648-baee69e696d3"
      },
      "execution_count": 63,
      "outputs": [
        {
          "output_type": "stream",
          "name": "stdout",
          "text": [
            "\u001b[1m1/1\u001b[0m \u001b[32m━━━━━━━━━━━━━━━━━━━━\u001b[0m\u001b[37m\u001b[0m \u001b[1m0s\u001b[0m 16ms/step\n"
          ]
        },
        {
          "output_type": "execute_result",
          "data": {
            "text/plain": [
              "'This is Dog'"
            ],
            "application/vnd.google.colaboratory.intrinsic+json": {
              "type": "string"
            }
          },
          "metadata": {},
          "execution_count": 63
        }
      ]
    },
    {
      "cell_type": "code",
      "source": [],
      "metadata": {
        "id": "xPAIeckHlGTw"
      },
      "execution_count": null,
      "outputs": []
    }
  ]
}