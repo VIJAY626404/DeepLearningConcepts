{
 "cells": [
  {
   "cell_type": "markdown",
   "id": "958c5b45",
   "metadata": {
    "papermill": {
     "duration": 0.006321,
     "end_time": "2024-10-04T04:09:06.422611",
     "exception": false,
     "start_time": "2024-10-04T04:09:06.416290",
     "status": "completed"
    },
    "tags": []
   },
   "source": [
    "# How to improve neural network:\n",
    "in neural network there is common problem called improvement of neural network, its depends on various factor. \n",
    "1. one of the most common approach to improve neural network is Feature Scalling"
   ]
  },
  {
   "cell_type": "code",
   "execution_count": 1,
   "id": "764760cf",
   "metadata": {
    "_cell_guid": "b1076dfc-b9ad-4769-8c92-a6c4dae69d19",
    "_uuid": "8f2839f25d086af736a60e9eeb907d3b93b6e0e5",
    "execution": {
     "iopub.execute_input": "2024-10-04T04:09:06.435957Z",
     "iopub.status.busy": "2024-10-04T04:09:06.435513Z",
     "iopub.status.idle": "2024-10-04T04:09:07.333616Z",
     "shell.execute_reply": "2024-10-04T04:09:07.331916Z"
    },
    "papermill": {
     "duration": 0.908327,
     "end_time": "2024-10-04T04:09:07.336639",
     "exception": false,
     "start_time": "2024-10-04T04:09:06.428312",
     "status": "completed"
    },
    "tags": []
   },
   "outputs": [
    {
     "name": "stdout",
     "output_type": "stream",
     "text": [
      "/kaggle/input/social-network-ads/Social_Network_Ads.csv\n"
     ]
    }
   ],
   "source": [
    "# This Python 3 environment comes with many helpful analytics libraries installed\n",
    "# It is defined by the kaggle/python Docker image: https://github.com/kaggle/docker-python\n",
    "# For example, here's several helpful packages to load\n",
    "\n",
    "import numpy as np # linear algebra\n",
    "import pandas as pd # data processing, CSV file I/O (e.g. pd.read_csv)\n",
    "\n",
    "# Input data files are available in the read-only \"../input/\" directory\n",
    "# For example, running this (by clicking run or pressing Shift+Enter) will list all files under the input directory\n",
    "\n",
    "import os\n",
    "for dirname, _, filenames in os.walk('/kaggle/input'):\n",
    "    for filename in filenames:\n",
    "        print(os.path.join(dirname, filename))\n",
    "\n",
    "# You can write up to 20GB to the current directory (/kaggle/working/) that gets preserved as output when you create a version using \"Save & Run All\" \n",
    "# You can also write temporary files to /kaggle/temp/, but they won't be saved outside of the current session"
   ]
  },
  {
   "cell_type": "code",
   "execution_count": 2,
   "id": "b71a481a",
   "metadata": {
    "execution": {
     "iopub.execute_input": "2024-10-04T04:09:07.349907Z",
     "iopub.status.busy": "2024-10-04T04:09:07.349332Z",
     "iopub.status.idle": "2024-10-04T04:09:07.378539Z",
     "shell.execute_reply": "2024-10-04T04:09:07.377386Z"
    },
    "papermill": {
     "duration": 0.038377,
     "end_time": "2024-10-04T04:09:07.380832",
     "exception": false,
     "start_time": "2024-10-04T04:09:07.342455",
     "status": "completed"
    },
    "tags": []
   },
   "outputs": [
    {
     "data": {
      "text/html": [
       "<div>\n",
       "<style scoped>\n",
       "    .dataframe tbody tr th:only-of-type {\n",
       "        vertical-align: middle;\n",
       "    }\n",
       "\n",
       "    .dataframe tbody tr th {\n",
       "        vertical-align: top;\n",
       "    }\n",
       "\n",
       "    .dataframe thead th {\n",
       "        text-align: right;\n",
       "    }\n",
       "</style>\n",
       "<table border=\"1\" class=\"dataframe\">\n",
       "  <thead>\n",
       "    <tr style=\"text-align: right;\">\n",
       "      <th></th>\n",
       "      <th>User ID</th>\n",
       "      <th>Gender</th>\n",
       "      <th>Age</th>\n",
       "      <th>EstimatedSalary</th>\n",
       "      <th>Purchased</th>\n",
       "    </tr>\n",
       "  </thead>\n",
       "  <tbody>\n",
       "    <tr>\n",
       "      <th>0</th>\n",
       "      <td>15624510</td>\n",
       "      <td>Male</td>\n",
       "      <td>19</td>\n",
       "      <td>19000</td>\n",
       "      <td>0</td>\n",
       "    </tr>\n",
       "    <tr>\n",
       "      <th>1</th>\n",
       "      <td>15810944</td>\n",
       "      <td>Male</td>\n",
       "      <td>35</td>\n",
       "      <td>20000</td>\n",
       "      <td>0</td>\n",
       "    </tr>\n",
       "    <tr>\n",
       "      <th>2</th>\n",
       "      <td>15668575</td>\n",
       "      <td>Female</td>\n",
       "      <td>26</td>\n",
       "      <td>43000</td>\n",
       "      <td>0</td>\n",
       "    </tr>\n",
       "    <tr>\n",
       "      <th>3</th>\n",
       "      <td>15603246</td>\n",
       "      <td>Female</td>\n",
       "      <td>27</td>\n",
       "      <td>57000</td>\n",
       "      <td>0</td>\n",
       "    </tr>\n",
       "    <tr>\n",
       "      <th>4</th>\n",
       "      <td>15804002</td>\n",
       "      <td>Male</td>\n",
       "      <td>19</td>\n",
       "      <td>76000</td>\n",
       "      <td>0</td>\n",
       "    </tr>\n",
       "  </tbody>\n",
       "</table>\n",
       "</div>"
      ],
      "text/plain": [
       "    User ID  Gender  Age  EstimatedSalary  Purchased\n",
       "0  15624510    Male   19            19000          0\n",
       "1  15810944    Male   35            20000          0\n",
       "2  15668575  Female   26            43000          0\n",
       "3  15603246  Female   27            57000          0\n",
       "4  15804002    Male   19            76000          0"
      ]
     },
     "execution_count": 2,
     "metadata": {},
     "output_type": "execute_result"
    }
   ],
   "source": [
    "df = pd.read_csv(\"/kaggle/input/social-network-ads/Social_Network_Ads.csv\")\n",
    "df.head()"
   ]
  },
  {
   "cell_type": "code",
   "execution_count": 3,
   "id": "7cf029ab",
   "metadata": {
    "execution": {
     "iopub.execute_input": "2024-10-04T04:09:07.394515Z",
     "iopub.status.busy": "2024-10-04T04:09:07.394084Z",
     "iopub.status.idle": "2024-10-04T04:09:07.408038Z",
     "shell.execute_reply": "2024-10-04T04:09:07.406831Z"
    },
    "papermill": {
     "duration": 0.023629,
     "end_time": "2024-10-04T04:09:07.410513",
     "exception": false,
     "start_time": "2024-10-04T04:09:07.386884",
     "status": "completed"
    },
    "tags": []
   },
   "outputs": [
    {
     "data": {
      "text/html": [
       "<div>\n",
       "<style scoped>\n",
       "    .dataframe tbody tr th:only-of-type {\n",
       "        vertical-align: middle;\n",
       "    }\n",
       "\n",
       "    .dataframe tbody tr th {\n",
       "        vertical-align: top;\n",
       "    }\n",
       "\n",
       "    .dataframe thead th {\n",
       "        text-align: right;\n",
       "    }\n",
       "</style>\n",
       "<table border=\"1\" class=\"dataframe\">\n",
       "  <thead>\n",
       "    <tr style=\"text-align: right;\">\n",
       "      <th></th>\n",
       "      <th>Age</th>\n",
       "      <th>EstimatedSalary</th>\n",
       "      <th>Purchased</th>\n",
       "    </tr>\n",
       "  </thead>\n",
       "  <tbody>\n",
       "    <tr>\n",
       "      <th>0</th>\n",
       "      <td>19</td>\n",
       "      <td>19000</td>\n",
       "      <td>0</td>\n",
       "    </tr>\n",
       "    <tr>\n",
       "      <th>1</th>\n",
       "      <td>35</td>\n",
       "      <td>20000</td>\n",
       "      <td>0</td>\n",
       "    </tr>\n",
       "    <tr>\n",
       "      <th>2</th>\n",
       "      <td>26</td>\n",
       "      <td>43000</td>\n",
       "      <td>0</td>\n",
       "    </tr>\n",
       "    <tr>\n",
       "      <th>3</th>\n",
       "      <td>27</td>\n",
       "      <td>57000</td>\n",
       "      <td>0</td>\n",
       "    </tr>\n",
       "    <tr>\n",
       "      <th>4</th>\n",
       "      <td>19</td>\n",
       "      <td>76000</td>\n",
       "      <td>0</td>\n",
       "    </tr>\n",
       "  </tbody>\n",
       "</table>\n",
       "</div>"
      ],
      "text/plain": [
       "   Age  EstimatedSalary  Purchased\n",
       "0   19            19000          0\n",
       "1   35            20000          0\n",
       "2   26            43000          0\n",
       "3   27            57000          0\n",
       "4   19            76000          0"
      ]
     },
     "execution_count": 3,
     "metadata": {},
     "output_type": "execute_result"
    }
   ],
   "source": [
    "df = df.iloc[:,2:]\n",
    "df.head()"
   ]
  },
  {
   "cell_type": "code",
   "execution_count": 4,
   "id": "c0ce788a",
   "metadata": {
    "execution": {
     "iopub.execute_input": "2024-10-04T04:09:07.424420Z",
     "iopub.status.busy": "2024-10-04T04:09:07.424018Z",
     "iopub.status.idle": "2024-10-04T04:09:22.960558Z",
     "shell.execute_reply": "2024-10-04T04:09:22.959265Z"
    },
    "papermill": {
     "duration": 15.546707,
     "end_time": "2024-10-04T04:09:22.963305",
     "exception": false,
     "start_time": "2024-10-04T04:09:07.416598",
     "status": "completed"
    },
    "tags": []
   },
   "outputs": [],
   "source": [
    "import seaborn as sns\n",
    "import matplotlib.pyplot as plt\n",
    "import warnings\n",
    "warnings.filterwarnings('ignore')\n",
    "\n",
    "import tensorflow as tf\n",
    "from tensorflow import keras\n",
    "from keras.layers import Dense\n",
    "from keras import Sequential"
   ]
  },
  {
   "cell_type": "code",
   "execution_count": 5,
   "id": "d32587e4",
   "metadata": {
    "execution": {
     "iopub.execute_input": "2024-10-04T04:09:22.977898Z",
     "iopub.status.busy": "2024-10-04T04:09:22.977120Z",
     "iopub.status.idle": "2024-10-04T04:09:23.321063Z",
     "shell.execute_reply": "2024-10-04T04:09:23.319566Z"
    },
    "papermill": {
     "duration": 0.354468,
     "end_time": "2024-10-04T04:09:23.324043",
     "exception": false,
     "start_time": "2024-10-04T04:09:22.969575",
     "status": "completed"
    },
    "tags": []
   },
   "outputs": [
    {
     "data": {
      "text/plain": [
       "Text(0.5, 1.0, 'Age vs Salary')"
      ]
     },
     "execution_count": 5,
     "metadata": {},
     "output_type": "execute_result"
    },
    {
     "data": {
      "image/png": "[encoded data removed]",
      "text/plain": [
       "<Figure size 640x480 with 1 Axes>"
      ]
     },
     "metadata": {},
     "output_type": "display_data"
    }
   ],
   "source": [
    "sns.scatterplot(x= df.iloc[:,0],y = df.iloc[:,1])\n",
    "plt.title('Age vs Salary')"
   ]
  },
  {
   "cell_type": "code",
   "execution_count": 6,
   "id": "3b432a1f",
   "metadata": {
    "execution": {
     "iopub.execute_input": "2024-10-04T04:09:23.341048Z",
     "iopub.status.busy": "2024-10-04T04:09:23.340577Z",
     "iopub.status.idle": "2024-10-04T04:09:23.347708Z",
     "shell.execute_reply": "2024-10-04T04:09:23.345542Z"
    },
    "papermill": {
     "duration": 0.018056,
     "end_time": "2024-10-04T04:09:23.350226",
     "exception": false,
     "start_time": "2024-10-04T04:09:23.332170",
     "status": "completed"
    },
    "tags": []
   },
   "outputs": [],
   "source": [
    "X = df.iloc[:,0:2]\n",
    "y = df.iloc[:,-1]"
   ]
  },
  {
   "cell_type": "code",
   "execution_count": 7,
   "id": "dc5e5f00",
   "metadata": {
    "execution": {
     "iopub.execute_input": "2024-10-04T04:09:23.367586Z",
     "iopub.status.busy": "2024-10-04T04:09:23.366566Z",
     "iopub.status.idle": "2024-10-04T04:09:23.373766Z",
     "shell.execute_reply": "2024-10-04T04:09:23.372561Z"
    },
    "papermill": {
     "duration": 0.018859,
     "end_time": "2024-10-04T04:09:23.375941",
     "exception": false,
     "start_time": "2024-10-04T04:09:23.357082",
     "status": "completed"
    },
    "tags": []
   },
   "outputs": [
    {
     "data": {
      "text/plain": [
       "(400, 2)"
      ]
     },
     "execution_count": 7,
     "metadata": {},
     "output_type": "execute_result"
    }
   ],
   "source": [
    "X.shape"
   ]
  },
  {
   "cell_type": "markdown",
   "id": "eefeef12",
   "metadata": {
    "papermill": {
     "duration": 0.006461,
     "end_time": "2024-10-04T04:09:23.389225",
     "exception": false,
     "start_time": "2024-10-04T04:09:23.382764",
     "status": "completed"
    },
    "tags": []
   },
   "source": [
    "# Train Test Split Data"
   ]
  },
  {
   "cell_type": "code",
   "execution_count": 8,
   "id": "6467dc2c",
   "metadata": {
    "execution": {
     "iopub.execute_input": "2024-10-04T04:09:23.404710Z",
     "iopub.status.busy": "2024-10-04T04:09:23.404273Z",
     "iopub.status.idle": "2024-10-04T04:09:23.669111Z",
     "shell.execute_reply": "2024-10-04T04:09:23.667941Z"
    },
    "papermill": {
     "duration": 0.275495,
     "end_time": "2024-10-04T04:09:23.671627",
     "exception": false,
     "start_time": "2024-10-04T04:09:23.396132",
     "status": "completed"
    },
    "tags": []
   },
   "outputs": [],
   "source": [
    "from sklearn.model_selection import train_test_split\n",
    "X_train,X_test,y_train,y_test = train_test_split(X,y,test_size = 0.2,random_state=2)"
   ]
  },
  {
   "cell_type": "markdown",
   "id": "e070bf4a",
   "metadata": {
    "papermill": {
     "duration": 0.006407,
     "end_time": "2024-10-04T04:09:23.684926",
     "exception": false,
     "start_time": "2024-10-04T04:09:23.678519",
     "status": "completed"
    },
    "tags": []
   },
   "source": [
    "# Built Neural Network"
   ]
  },
  {
   "cell_type": "code",
   "execution_count": 9,
   "id": "2f5e2090",
   "metadata": {
    "execution": {
     "iopub.execute_input": "2024-10-04T04:09:23.700492Z",
     "iopub.status.busy": "2024-10-04T04:09:23.699997Z",
     "iopub.status.idle": "2024-10-04T04:09:23.783809Z",
     "shell.execute_reply": "2024-10-04T04:09:23.782567Z"
    },
    "papermill": {
     "duration": 0.094668,
     "end_time": "2024-10-04T04:09:23.786378",
     "exception": false,
     "start_time": "2024-10-04T04:09:23.691710",
     "status": "completed"
    },
    "tags": []
   },
   "outputs": [],
   "source": [
    "model = Sequential()\n",
    "\n",
    "model.add(Dense(128,activation = 'relu',input_dim =2))\n",
    "model.add(Dense(1,activation = 'sigmoid'))"
   ]
  },
  {
   "cell_type": "code",
   "execution_count": 10,
   "id": "753df8f9",
   "metadata": {
    "execution": {
     "iopub.execute_input": "2024-10-04T04:09:23.802267Z",
     "iopub.status.busy": "2024-10-04T04:09:23.801845Z",
     "iopub.status.idle": "2024-10-04T04:09:23.822090Z",
     "shell.execute_reply": "2024-10-04T04:09:23.820807Z"
    },
    "papermill": {
     "duration": 0.031202,
     "end_time": "2024-10-04T04:09:23.824395",
     "exception": false,
     "start_time": "2024-10-04T04:09:23.793193",
     "status": "completed"
    },
    "tags": []
   },
   "outputs": [
    {
     "data": {
      "text/html": [
       "<pre style=\"white-space:pre;overflow-x:auto;line-height:normal;font-family:Menlo,'DejaVu Sans Mono',consolas,'Courier New',monospace\"><span style=\"font-weight: bold\">Model: \"sequential\"</span>\n",
       "</pre>\n"
      ],
      "text/plain": [
       "\u001b[1mModel: \"sequential\"\u001b[0m\n"
      ]
     },
     "metadata": {},
     "output_type": "display_data"
    },
    {
     "data": {
      "text/html": [
       "<pre style=\"white-space:pre;overflow-x:auto;line-height:normal;font-family:Menlo,'DejaVu Sans Mono',consolas,'Courier New',monospace\">┏━━━━━━━━━━━━━━━━━━━━━━━━━━━━━━━━━┳━━━━━━━━━━━━━━━━━━━━━━━━┳━━━━━━━━━━━━━━━┓\n",
       "┃<span style=\"font-weight: bold\"> Layer (type)                    </span>┃<span style=\"font-weight: bold\"> Output Shape           </span>┃<span style=\"font-weight: bold\">       Param # </span>┃\n",
       "┡━━━━━━━━━━━━━━━━━━━━━━━━━━━━━━━━━╇━━━━━━━━━━━━━━━━━━━━━━━━╇━━━━━━━━━━━━━━━┩\n",
       "│ dense (<span style=\"color: #0087ff; text-decoration-color: #0087ff\">Dense</span>)                   │ (<span style=\"color: #00d7ff; text-decoration-color: #00d7ff\">None</span>, <span style=\"color: #00af00; text-decoration-color: #00af00\">128</span>)            │           <span style=\"color: #00af00; text-decoration-color: #00af00\">384</span> │\n",
       "├─────────────────────────────────┼────────────────────────┼───────────────┤\n",
       "│ dense_1 (<span style=\"color: #0087ff; text-decoration-color: #0087ff\">Dense</span>)                 │ (<span style=\"color: #00d7ff; text-decoration-color: #00d7ff\">None</span>, <span style=\"color: #00af00; text-decoration-color: #00af00\">1</span>)              │           <span style=\"color: #00af00; text-decoration-color: #00af00\">129</span> │\n",
       "└─────────────────────────────────┴────────────────────────┴───────────────┘\n",
       "</pre>\n"
      ],
      "text/plain": [
       "┏━━━━━━━━━━━━━━━━━━━━━━━━━━━━━━━━━┳━━━━━━━━━━━━━━━━━━━━━━━━┳━━━━━━━━━━━━━━━┓\n",
       "┃\u001b[1m \u001b[0m\u001b[1mLayer (type)                   \u001b[0m\u001b[1m \u001b[0m┃\u001b[1m \u001b[0m\u001b[1mOutput Shape          \u001b[0m\u001b[1m \u001b[0m┃\u001b[1m \u001b[0m\u001b[1m      Param #\u001b[0m\u001b[1m \u001b[0m┃\n",
       "┡━━━━━━━━━━━━━━━━━━━━━━━━━━━━━━━━━╇━━━━━━━━━━━━━━━━━━━━━━━━╇━━━━━━━━━━━━━━━┩\n",
       "│ dense (\u001b[38;5;33mDense\u001b[0m)                   │ (\u001b[38;5;45mNone\u001b[0m, \u001b[38;5;34m128\u001b[0m)            │           \u001b[38;5;34m384\u001b[0m │\n",
       "├─────────────────────────────────┼────────────────────────┼───────────────┤\n",
       "│ dense_1 (\u001b[38;5;33mDense\u001b[0m)                 │ (\u001b[38;5;45mNone\u001b[0m, \u001b[38;5;34m1\u001b[0m)              │           \u001b[38;5;34m129\u001b[0m │\n",
       "└─────────────────────────────────┴────────────────────────┴───────────────┘\n"
      ]
     },
     "metadata": {},
     "output_type": "display_data"
    },
    {
     "data": {
      "text/html": [
       "<pre style=\"white-space:pre;overflow-x:auto;line-height:normal;font-family:Menlo,'DejaVu Sans Mono',consolas,'Courier New',monospace\"><span style=\"font-weight: bold\"> Total params: </span><span style=\"color: #00af00; text-decoration-color: #00af00\">513</span> (2.00 KB)\n",
       "</pre>\n"
      ],
      "text/plain": [
       "\u001b[1m Total params: \u001b[0m\u001b[38;5;34m513\u001b[0m (2.00 KB)\n"
      ]
     },
     "metadata": {},
     "output_type": "display_data"
    },
    {
     "data": {
      "text/html": [
       "<pre style=\"white-space:pre;overflow-x:auto;line-height:normal;font-family:Menlo,'DejaVu Sans Mono',consolas,'Courier New',monospace\"><span style=\"font-weight: bold\"> Trainable params: </span><span style=\"color: #00af00; text-decoration-color: #00af00\">513</span> (2.00 KB)\n",
       "</pre>\n"
      ],
      "text/plain": [
       "\u001b[1m Trainable params: \u001b[0m\u001b[38;5;34m513\u001b[0m (2.00 KB)\n"
      ]
     },
     "metadata": {},
     "output_type": "display_data"
    },
    {
     "data": {
      "text/html": [
       "<pre style=\"white-space:pre;overflow-x:auto;line-height:normal;font-family:Menlo,'DejaVu Sans Mono',consolas,'Courier New',monospace\"><span style=\"font-weight: bold\"> Non-trainable params: </span><span style=\"color: #00af00; text-decoration-color: #00af00\">0</span> (0.00 B)\n",
       "</pre>\n"
      ],
      "text/plain": [
       "\u001b[1m Non-trainable params: \u001b[0m\u001b[38;5;34m0\u001b[0m (0.00 B)\n"
      ]
     },
     "metadata": {},
     "output_type": "display_data"
    }
   ],
   "source": [
    "model.summary()"
   ]
  },
  {
   "cell_type": "code",
   "execution_count": 11,
   "id": "5c965e0e",
   "metadata": {
    "execution": {
     "iopub.execute_input": "2024-10-04T04:09:23.841702Z",
     "iopub.status.busy": "2024-10-04T04:09:23.841235Z",
     "iopub.status.idle": "2024-10-04T04:09:23.858859Z",
     "shell.execute_reply": "2024-10-04T04:09:23.857566Z"
    },
    "papermill": {
     "duration": 0.029388,
     "end_time": "2024-10-04T04:09:23.861625",
     "exception": false,
     "start_time": "2024-10-04T04:09:23.832237",
     "status": "completed"
    },
    "tags": []
   },
   "outputs": [],
   "source": [
    "model.compile(optimizer = 'adam',loss = 'binary_crossentropy',metrics = ['accuracy'])"
   ]
  },
  {
   "cell_type": "code",
   "execution_count": 12,
   "id": "384eaf24",
   "metadata": {
    "execution": {
     "iopub.execute_input": "2024-10-04T04:09:23.879369Z",
     "iopub.status.busy": "2024-10-04T04:09:23.878300Z",
     "iopub.status.idle": "2024-10-04T04:09:32.855021Z",
     "shell.execute_reply": "2024-10-04T04:09:32.853869Z"
    },
    "papermill": {
     "duration": 8.988514,
     "end_time": "2024-10-04T04:09:32.857729",
     "exception": false,
     "start_time": "2024-10-04T04:09:23.869215",
     "status": "completed"
    },
    "tags": []
   },
   "outputs": [
    {
     "name": "stdout",
     "output_type": "stream",
     "text": [
      "Epoch 1/100\n",
      "\u001b[1m10/10\u001b[0m \u001b[32m━━━━━━━━━━━━━━━━━━━━\u001b[0m\u001b[37m\u001b[0m \u001b[1m1s\u001b[0m 25ms/step - accuracy: 0.4364 - loss: 518.2161 - val_accuracy: 0.4000 - val_loss: 230.9456\n",
      "Epoch 2/100\n",
      "\u001b[1m10/10\u001b[0m \u001b[32m━━━━━━━━━━━━━━━━━━━━\u001b[0m\u001b[37m\u001b[0m \u001b[1m0s\u001b[0m 5ms/step - accuracy: 0.5304 - loss: 150.8461 - val_accuracy: 0.4000 - val_loss: 95.2137\n",
      "Epoch 3/100\n",
      "\u001b[1m10/10\u001b[0m \u001b[32m━━━━━━━━━━━━━━━━━━━━\u001b[0m\u001b[37m\u001b[0m \u001b[1m0s\u001b[0m 5ms/step - accuracy: 0.4217 - loss: 65.9516 - val_accuracy: 0.4000 - val_loss: 44.5442\n",
      "Epoch 4/100\n",
      "\u001b[1m10/10\u001b[0m \u001b[32m━━━━━━━━━━━━━━━━━━━━\u001b[0m\u001b[37m\u001b[0m \u001b[1m0s\u001b[0m 6ms/step - accuracy: 0.4908 - loss: 33.7932 - val_accuracy: 0.6000 - val_loss: 37.0322\n",
      "Epoch 5/100\n",
      "\u001b[1m10/10\u001b[0m \u001b[32m━━━━━━━━━━━━━━━━━━━━\u001b[0m\u001b[37m\u001b[0m \u001b[1m0s\u001b[0m 5ms/step - accuracy: 0.5003 - loss: 33.5858 - val_accuracy: 0.4000 - val_loss: 50.5531\n",
      "Epoch 6/100\n",
      "\u001b[1m10/10\u001b[0m \u001b[32m━━━━━━━━━━━━━━━━━━━━\u001b[0m\u001b[37m\u001b[0m \u001b[1m0s\u001b[0m 5ms/step - accuracy: 0.4538 - loss: 61.8154 - val_accuracy: 0.6000 - val_loss: 40.6945\n",
      "Epoch 7/100\n",
      "\u001b[1m10/10\u001b[0m \u001b[32m━━━━━━━━━━━━━━━━━━━━\u001b[0m\u001b[37m\u001b[0m \u001b[1m0s\u001b[0m 5ms/step - accuracy: 0.5325 - loss: 40.5633 - val_accuracy: 0.4000 - val_loss: 99.2122\n",
      "Epoch 8/100\n",
      "\u001b[1m10/10\u001b[0m \u001b[32m━━━━━━━━━━━━━━━━━━━━\u001b[0m\u001b[37m\u001b[0m \u001b[1m0s\u001b[0m 5ms/step - accuracy: 0.4627 - loss: 67.0601 - val_accuracy: 0.6000 - val_loss: 166.3619\n",
      "Epoch 9/100\n",
      "\u001b[1m10/10\u001b[0m \u001b[32m━━━━━━━━━━━━━━━━━━━━\u001b[0m\u001b[37m\u001b[0m \u001b[1m0s\u001b[0m 5ms/step - accuracy: 0.6051 - loss: 110.6294 - val_accuracy: 0.6000 - val_loss: 83.3668\n",
      "Epoch 10/100\n",
      "\u001b[1m10/10\u001b[0m \u001b[32m━━━━━━━━━━━━━━━━━━━━\u001b[0m\u001b[37m\u001b[0m \u001b[1m0s\u001b[0m 5ms/step - accuracy: 0.5289 - loss: 70.9700 - val_accuracy: 0.4000 - val_loss: 97.4597\n",
      "Epoch 11/100\n",
      "\u001b[1m10/10\u001b[0m \u001b[32m━━━━━━━━━━━━━━━━━━━━\u001b[0m\u001b[37m\u001b[0m \u001b[1m0s\u001b[0m 5ms/step - accuracy: 0.4867 - loss: 92.7519 - val_accuracy: 0.6000 - val_loss: 24.1903\n",
      "Epoch 12/100\n",
      "\u001b[1m10/10\u001b[0m \u001b[32m━━━━━━━━━━━━━━━━━━━━\u001b[0m\u001b[37m\u001b[0m \u001b[1m0s\u001b[0m 5ms/step - accuracy: 0.5839 - loss: 40.3995 - val_accuracy: 0.6000 - val_loss: 13.4824\n",
      "Epoch 13/100\n",
      "\u001b[1m10/10\u001b[0m \u001b[32m━━━━━━━━━━━━━━━━━━━━\u001b[0m\u001b[37m\u001b[0m \u001b[1m0s\u001b[0m 5ms/step - accuracy: 0.4530 - loss: 109.8220 - val_accuracy: 0.4000 - val_loss: 89.8077\n",
      "Epoch 14/100\n",
      "\u001b[1m10/10\u001b[0m \u001b[32m━━━━━━━━━━━━━━━━━━━━\u001b[0m\u001b[37m\u001b[0m \u001b[1m0s\u001b[0m 5ms/step - accuracy: 0.4609 - loss: 123.2572 - val_accuracy: 0.4000 - val_loss: 40.7450\n",
      "Epoch 15/100\n",
      "\u001b[1m10/10\u001b[0m \u001b[32m━━━━━━━━━━━━━━━━━━━━\u001b[0m\u001b[37m\u001b[0m \u001b[1m0s\u001b[0m 5ms/step - accuracy: 0.4664 - loss: 26.5506 - val_accuracy: 0.6000 - val_loss: 44.1455\n",
      "Epoch 16/100\n",
      "\u001b[1m10/10\u001b[0m \u001b[32m━━━━━━━━━━━━━━━━━━━━\u001b[0m\u001b[37m\u001b[0m \u001b[1m0s\u001b[0m 5ms/step - accuracy: 0.5938 - loss: 51.4609 - val_accuracy: 0.6000 - val_loss: 84.3921\n",
      "Epoch 17/100\n",
      "\u001b[1m10/10\u001b[0m \u001b[32m━━━━━━━━━━━━━━━━━━━━\u001b[0m\u001b[37m\u001b[0m \u001b[1m0s\u001b[0m 5ms/step - accuracy: 0.4584 - loss: 75.5092 - val_accuracy: 0.6000 - val_loss: 33.1386\n",
      "Epoch 18/100\n",
      "\u001b[1m10/10\u001b[0m \u001b[32m━━━━━━━━━━━━━━━━━━━━\u001b[0m\u001b[37m\u001b[0m \u001b[1m0s\u001b[0m 5ms/step - accuracy: 0.5027 - loss: 54.8941 - val_accuracy: 0.4000 - val_loss: 11.9269\n",
      "Epoch 19/100\n",
      "\u001b[1m10/10\u001b[0m \u001b[32m━━━━━━━━━━━━━━━━━━━━\u001b[0m\u001b[37m\u001b[0m \u001b[1m0s\u001b[0m 5ms/step - accuracy: 0.5195 - loss: 25.4616 - val_accuracy: 0.6000 - val_loss: 63.8591\n",
      "Epoch 20/100\n",
      "\u001b[1m10/10\u001b[0m \u001b[32m━━━━━━━━━━━━━━━━━━━━\u001b[0m\u001b[37m\u001b[0m \u001b[1m0s\u001b[0m 6ms/step - accuracy: 0.5512 - loss: 33.2330 - val_accuracy: 0.6000 - val_loss: 102.7052\n",
      "Epoch 21/100\n",
      "\u001b[1m10/10\u001b[0m \u001b[32m━━━━━━━━━━━━━━━━━━━━\u001b[0m\u001b[37m\u001b[0m \u001b[1m0s\u001b[0m 5ms/step - accuracy: 0.5225 - loss: 81.5508 - val_accuracy: 0.4000 - val_loss: 49.9983\n",
      "Epoch 22/100\n",
      "\u001b[1m10/10\u001b[0m \u001b[32m━━━━━━━━━━━━━━━━━━━━\u001b[0m\u001b[37m\u001b[0m \u001b[1m0s\u001b[0m 5ms/step - accuracy: 0.5398 - loss: 25.6527 - val_accuracy: 0.4000 - val_loss: 11.1092\n",
      "Epoch 23/100\n",
      "\u001b[1m10/10\u001b[0m \u001b[32m━━━━━━━━━━━━━━━━━━━━\u001b[0m\u001b[37m\u001b[0m \u001b[1m0s\u001b[0m 5ms/step - accuracy: 0.5268 - loss: 26.2667 - val_accuracy: 0.6000 - val_loss: 20.2877\n",
      "Epoch 24/100\n",
      "\u001b[1m10/10\u001b[0m \u001b[32m━━━━━━━━━━━━━━━━━━━━\u001b[0m\u001b[37m\u001b[0m \u001b[1m0s\u001b[0m 5ms/step - accuracy: 0.5608 - loss: 28.1485 - val_accuracy: 0.6000 - val_loss: 90.0262\n",
      "Epoch 25/100\n",
      "\u001b[1m10/10\u001b[0m \u001b[32m━━━━━━━━━━━━━━━━━━━━\u001b[0m\u001b[37m\u001b[0m \u001b[1m0s\u001b[0m 5ms/step - accuracy: 0.5744 - loss: 79.4498 - val_accuracy: 0.6000 - val_loss: 47.5522\n",
      "Epoch 26/100\n",
      "\u001b[1m10/10\u001b[0m \u001b[32m━━━━━━━━━━━━━━━━━━━━\u001b[0m\u001b[37m\u001b[0m \u001b[1m0s\u001b[0m 5ms/step - accuracy: 0.4395 - loss: 71.1510 - val_accuracy: 0.6000 - val_loss: 7.6885\n",
      "Epoch 27/100\n",
      "\u001b[1m10/10\u001b[0m \u001b[32m━━━━━━━━━━━━━━━━━━━━\u001b[0m\u001b[37m\u001b[0m \u001b[1m0s\u001b[0m 5ms/step - accuracy: 0.6089 - loss: 20.2565 - val_accuracy: 0.6000 - val_loss: 94.1300\n",
      "Epoch 28/100\n",
      "\u001b[1m10/10\u001b[0m \u001b[32m━━━━━━━━━━━━━━━━━━━━\u001b[0m\u001b[37m\u001b[0m \u001b[1m0s\u001b[0m 5ms/step - accuracy: 0.5103 - loss: 92.6258 - val_accuracy: 0.6000 - val_loss: 137.9919\n",
      "Epoch 29/100\n",
      "\u001b[1m10/10\u001b[0m \u001b[32m━━━━━━━━━━━━━━━━━━━━\u001b[0m\u001b[37m\u001b[0m \u001b[1m0s\u001b[0m 5ms/step - accuracy: 0.5454 - loss: 98.3774 - val_accuracy: 0.4000 - val_loss: 54.7043\n",
      "Epoch 30/100\n",
      "\u001b[1m10/10\u001b[0m \u001b[32m━━━━━━━━━━━━━━━━━━━━\u001b[0m\u001b[37m\u001b[0m \u001b[1m0s\u001b[0m 5ms/step - accuracy: 0.4831 - loss: 62.3508 - val_accuracy: 0.6000 - val_loss: 68.9577\n",
      "Epoch 31/100\n",
      "\u001b[1m10/10\u001b[0m \u001b[32m━━━━━━━━━━━━━━━━━━━━\u001b[0m\u001b[37m\u001b[0m \u001b[1m0s\u001b[0m 5ms/step - accuracy: 0.6168 - loss: 71.4567 - val_accuracy: 0.6000 - val_loss: 37.6225\n",
      "Epoch 32/100\n",
      "\u001b[1m10/10\u001b[0m \u001b[32m━━━━━━━━━━━━━━━━━━━━\u001b[0m\u001b[37m\u001b[0m \u001b[1m0s\u001b[0m 5ms/step - accuracy: 0.6154 - loss: 35.5185 - val_accuracy: 0.4000 - val_loss: 104.1398\n",
      "Epoch 33/100\n",
      "\u001b[1m10/10\u001b[0m \u001b[32m━━━━━━━━━━━━━━━━━━━━\u001b[0m\u001b[37m\u001b[0m \u001b[1m0s\u001b[0m 5ms/step - accuracy: 0.5091 - loss: 109.3351 - val_accuracy: 0.4000 - val_loss: 133.2355\n",
      "Epoch 34/100\n",
      "\u001b[1m10/10\u001b[0m \u001b[32m━━━━━━━━━━━━━━━━━━━━\u001b[0m\u001b[37m\u001b[0m \u001b[1m0s\u001b[0m 5ms/step - accuracy: 0.4416 - loss: 95.2495 - val_accuracy: 0.6000 - val_loss: 99.3365\n",
      "Epoch 35/100\n",
      "\u001b[1m10/10\u001b[0m \u001b[32m━━━━━━━━━━━━━━━━━━━━\u001b[0m\u001b[37m\u001b[0m \u001b[1m0s\u001b[0m 5ms/step - accuracy: 0.4997 - loss: 69.3403 - val_accuracy: 0.4000 - val_loss: 151.6116\n",
      "Epoch 36/100\n",
      "\u001b[1m10/10\u001b[0m \u001b[32m━━━━━━━━━━━━━━━━━━━━\u001b[0m\u001b[37m\u001b[0m \u001b[1m0s\u001b[0m 5ms/step - accuracy: 0.4913 - loss: 89.6670 - val_accuracy: 0.6000 - val_loss: 180.4962\n",
      "Epoch 37/100\n",
      "\u001b[1m10/10\u001b[0m \u001b[32m━━━━━━━━━━━━━━━━━━━━\u001b[0m\u001b[37m\u001b[0m \u001b[1m0s\u001b[0m 5ms/step - accuracy: 0.5574 - loss: 114.5021 - val_accuracy: 0.4000 - val_loss: 11.0038\n",
      "Epoch 38/100\n",
      "\u001b[1m10/10\u001b[0m \u001b[32m━━━━━━━━━━━━━━━━━━━━\u001b[0m\u001b[37m\u001b[0m \u001b[1m0s\u001b[0m 5ms/step - accuracy: 0.4611 - loss: 35.4525 - val_accuracy: 0.6000 - val_loss: 136.8999\n",
      "Epoch 39/100\n",
      "\u001b[1m10/10\u001b[0m \u001b[32m━━━━━━━━━━━━━━━━━━━━\u001b[0m\u001b[37m\u001b[0m \u001b[1m0s\u001b[0m 5ms/step - accuracy: 0.5451 - loss: 109.1255 - val_accuracy: 0.6000 - val_loss: 182.2634\n",
      "Epoch 40/100\n",
      "\u001b[1m10/10\u001b[0m \u001b[32m━━━━━━━━━━━━━━━━━━━━\u001b[0m\u001b[37m\u001b[0m \u001b[1m0s\u001b[0m 5ms/step - accuracy: 0.6026 - loss: 80.5559 - val_accuracy: 0.4000 - val_loss: 20.3250\n",
      "Epoch 41/100\n",
      "\u001b[1m10/10\u001b[0m \u001b[32m━━━━━━━━━━━━━━━━━━━━\u001b[0m\u001b[37m\u001b[0m \u001b[1m0s\u001b[0m 5ms/step - accuracy: 0.5480 - loss: 44.6068 - val_accuracy: 0.6000 - val_loss: 75.5567\n",
      "Epoch 42/100\n",
      "\u001b[1m10/10\u001b[0m \u001b[32m━━━━━━━━━━━━━━━━━━━━\u001b[0m\u001b[37m\u001b[0m \u001b[1m0s\u001b[0m 5ms/step - accuracy: 0.5842 - loss: 43.3831 - val_accuracy: 0.6000 - val_loss: 10.6491\n",
      "Epoch 43/100\n",
      "\u001b[1m10/10\u001b[0m \u001b[32m━━━━━━━━━━━━━━━━━━━━\u001b[0m\u001b[37m\u001b[0m \u001b[1m0s\u001b[0m 5ms/step - accuracy: 0.5525 - loss: 38.9157 - val_accuracy: 0.4000 - val_loss: 73.9075\n",
      "Epoch 44/100\n",
      "\u001b[1m10/10\u001b[0m \u001b[32m━━━━━━━━━━━━━━━━━━━━\u001b[0m\u001b[37m\u001b[0m \u001b[1m0s\u001b[0m 5ms/step - accuracy: 0.4146 - loss: 80.2716 - val_accuracy: 0.6000 - val_loss: 89.5792\n",
      "Epoch 45/100\n",
      "\u001b[1m10/10\u001b[0m \u001b[32m━━━━━━━━━━━━━━━━━━━━\u001b[0m\u001b[37m\u001b[0m \u001b[1m0s\u001b[0m 5ms/step - accuracy: 0.6104 - loss: 82.4095 - val_accuracy: 0.6000 - val_loss: 199.4619\n",
      "Epoch 46/100\n",
      "\u001b[1m10/10\u001b[0m \u001b[32m━━━━━━━━━━━━━━━━━━━━\u001b[0m\u001b[37m\u001b[0m \u001b[1m0s\u001b[0m 5ms/step - accuracy: 0.5649 - loss: 140.8446 - val_accuracy: 0.6000 - val_loss: 173.0480\n",
      "Epoch 47/100\n",
      "\u001b[1m10/10\u001b[0m \u001b[32m━━━━━━━━━━━━━━━━━━━━\u001b[0m\u001b[37m\u001b[0m \u001b[1m0s\u001b[0m 5ms/step - accuracy: 0.5961 - loss: 99.3865 - val_accuracy: 0.4000 - val_loss: 50.8466\n",
      "Epoch 48/100\n",
      "\u001b[1m10/10\u001b[0m \u001b[32m━━━━━━━━━━━━━━━━━━━━\u001b[0m\u001b[37m\u001b[0m \u001b[1m0s\u001b[0m 5ms/step - accuracy: 0.4675 - loss: 70.8659 - val_accuracy: 0.4000 - val_loss: 54.5597\n",
      "Epoch 49/100\n",
      "\u001b[1m10/10\u001b[0m \u001b[32m━━━━━━━━━━━━━━━━━━━━\u001b[0m\u001b[37m\u001b[0m \u001b[1m0s\u001b[0m 5ms/step - accuracy: 0.4740 - loss: 44.2807 - val_accuracy: 0.4000 - val_loss: 22.8835\n",
      "Epoch 50/100\n",
      "\u001b[1m10/10\u001b[0m \u001b[32m━━━━━━━━━━━━━━━━━━━━\u001b[0m\u001b[37m\u001b[0m \u001b[1m0s\u001b[0m 5ms/step - accuracy: 0.4481 - loss: 25.4005 - val_accuracy: 0.4000 - val_loss: 23.9581\n",
      "Epoch 51/100\n",
      "\u001b[1m10/10\u001b[0m \u001b[32m━━━━━━━━━━━━━━━━━━━━\u001b[0m\u001b[37m\u001b[0m \u001b[1m0s\u001b[0m 6ms/step - accuracy: 0.4355 - loss: 42.2485 - val_accuracy: 0.6000 - val_loss: 117.4798\n",
      "Epoch 52/100\n",
      "\u001b[1m10/10\u001b[0m \u001b[32m━━━━━━━━━━━━━━━━━━━━\u001b[0m\u001b[37m\u001b[0m \u001b[1m0s\u001b[0m 5ms/step - accuracy: 0.5511 - loss: 70.2653 - val_accuracy: 0.4000 - val_loss: 96.7372\n",
      "Epoch 53/100\n",
      "\u001b[1m10/10\u001b[0m \u001b[32m━━━━━━━━━━━━━━━━━━━━\u001b[0m\u001b[37m\u001b[0m \u001b[1m0s\u001b[0m 5ms/step - accuracy: 0.5033 - loss: 72.6301 - val_accuracy: 0.6000 - val_loss: 101.6143\n",
      "Epoch 54/100\n",
      "\u001b[1m10/10\u001b[0m \u001b[32m━━━━━━━━━━━━━━━━━━━━\u001b[0m\u001b[37m\u001b[0m \u001b[1m0s\u001b[0m 7ms/step - accuracy: 0.5679 - loss: 56.8434 - val_accuracy: 0.6000 - val_loss: 56.3455\n",
      "Epoch 55/100\n",
      "\u001b[1m10/10\u001b[0m \u001b[32m━━━━━━━━━━━━━━━━━━━━\u001b[0m\u001b[37m\u001b[0m \u001b[1m0s\u001b[0m 6ms/step - accuracy: 0.5452 - loss: 55.2817 - val_accuracy: 0.4000 - val_loss: 84.7706\n",
      "Epoch 56/100\n",
      "\u001b[1m10/10\u001b[0m \u001b[32m━━━━━━━━━━━━━━━━━━━━\u001b[0m\u001b[37m\u001b[0m \u001b[1m0s\u001b[0m 6ms/step - accuracy: 0.4767 - loss: 66.4602 - val_accuracy: 0.6000 - val_loss: 140.0797\n",
      "Epoch 57/100\n",
      "\u001b[1m10/10\u001b[0m \u001b[32m━━━━━━━━━━━━━━━━━━━━\u001b[0m\u001b[37m\u001b[0m \u001b[1m0s\u001b[0m 5ms/step - accuracy: 0.5589 - loss: 97.3416 - val_accuracy: 0.6000 - val_loss: 11.1487\n",
      "Epoch 58/100\n",
      "\u001b[1m10/10\u001b[0m \u001b[32m━━━━━━━━━━━━━━━━━━━━\u001b[0m\u001b[37m\u001b[0m \u001b[1m0s\u001b[0m 6ms/step - accuracy: 0.5004 - loss: 80.9836 - val_accuracy: 0.4000 - val_loss: 52.4711\n",
      "Epoch 59/100\n",
      "\u001b[1m10/10\u001b[0m \u001b[32m━━━━━━━━━━━━━━━━━━━━\u001b[0m\u001b[37m\u001b[0m \u001b[1m0s\u001b[0m 5ms/step - accuracy: 0.4606 - loss: 62.9486 - val_accuracy: 0.4000 - val_loss: 83.5092\n",
      "Epoch 60/100\n",
      "\u001b[1m10/10\u001b[0m \u001b[32m━━━━━━━━━━━━━━━━━━━━\u001b[0m\u001b[37m\u001b[0m \u001b[1m0s\u001b[0m 5ms/step - accuracy: 0.5487 - loss: 36.0485 - val_accuracy: 0.4000 - val_loss: 30.6634\n",
      "Epoch 61/100\n",
      "\u001b[1m10/10\u001b[0m \u001b[32m━━━━━━━━━━━━━━━━━━━━\u001b[0m\u001b[37m\u001b[0m \u001b[1m0s\u001b[0m 5ms/step - accuracy: 0.5145 - loss: 36.9604 - val_accuracy: 0.4250 - val_loss: 1.1395\n",
      "Epoch 62/100\n",
      "\u001b[1m10/10\u001b[0m \u001b[32m━━━━━━━━━━━━━━━━━━━━\u001b[0m\u001b[37m\u001b[0m \u001b[1m0s\u001b[0m 6ms/step - accuracy: 0.4801 - loss: 29.6939 - val_accuracy: 0.6000 - val_loss: 22.1230\n",
      "Epoch 63/100\n",
      "\u001b[1m10/10\u001b[0m \u001b[32m━━━━━━━━━━━━━━━━━━━━\u001b[0m\u001b[37m\u001b[0m \u001b[1m0s\u001b[0m 6ms/step - accuracy: 0.5354 - loss: 39.1824 - val_accuracy: 0.6000 - val_loss: 47.1386\n",
      "Epoch 64/100\n",
      "\u001b[1m10/10\u001b[0m \u001b[32m━━━━━━━━━━━━━━━━━━━━\u001b[0m\u001b[37m\u001b[0m \u001b[1m0s\u001b[0m 5ms/step - accuracy: 0.5376 - loss: 31.0895 - val_accuracy: 0.6125 - val_loss: 0.9149\n",
      "Epoch 65/100\n",
      "\u001b[1m10/10\u001b[0m \u001b[32m━━━━━━━━━━━━━━━━━━━━\u001b[0m\u001b[37m\u001b[0m \u001b[1m0s\u001b[0m 7ms/step - accuracy: 0.6271 - loss: 14.5330 - val_accuracy: 0.4000 - val_loss: 10.8854\n",
      "Epoch 66/100\n",
      "\u001b[1m10/10\u001b[0m \u001b[32m━━━━━━━━━━━━━━━━━━━━\u001b[0m\u001b[37m\u001b[0m \u001b[1m0s\u001b[0m 5ms/step - accuracy: 0.4776 - loss: 52.8730 - val_accuracy: 0.6000 - val_loss: 47.5766\n",
      "Epoch 67/100\n",
      "\u001b[1m10/10\u001b[0m \u001b[32m━━━━━━━━━━━━━━━━━━━━\u001b[0m\u001b[37m\u001b[0m \u001b[1m0s\u001b[0m 5ms/step - accuracy: 0.5163 - loss: 38.2871 - val_accuracy: 0.4000 - val_loss: 48.1977\n",
      "Epoch 68/100\n",
      "\u001b[1m10/10\u001b[0m \u001b[32m━━━━━━━━━━━━━━━━━━━━\u001b[0m\u001b[37m\u001b[0m \u001b[1m0s\u001b[0m 6ms/step - accuracy: 0.4572 - loss: 57.6108 - val_accuracy: 0.6000 - val_loss: 59.1861\n",
      "Epoch 69/100\n",
      "\u001b[1m10/10\u001b[0m \u001b[32m━━━━━━━━━━━━━━━━━━━━\u001b[0m\u001b[37m\u001b[0m \u001b[1m0s\u001b[0m 5ms/step - accuracy: 0.6129 - loss: 72.3747 - val_accuracy: 0.3625 - val_loss: 2.0930\n",
      "Epoch 70/100\n",
      "\u001b[1m10/10\u001b[0m \u001b[32m━━━━━━━━━━━━━━━━━━━━\u001b[0m\u001b[37m\u001b[0m \u001b[1m0s\u001b[0m 5ms/step - accuracy: 0.4756 - loss: 14.7234 - val_accuracy: 0.6000 - val_loss: 42.7177\n",
      "Epoch 71/100\n",
      "\u001b[1m10/10\u001b[0m \u001b[32m━━━━━━━━━━━━━━━━━━━━\u001b[0m\u001b[37m\u001b[0m \u001b[1m0s\u001b[0m 5ms/step - accuracy: 0.5175 - loss: 40.0441 - val_accuracy: 0.6000 - val_loss: 56.6196\n",
      "Epoch 72/100\n",
      "\u001b[1m10/10\u001b[0m \u001b[32m━━━━━━━━━━━━━━━━━━━━\u001b[0m\u001b[37m\u001b[0m \u001b[1m0s\u001b[0m 5ms/step - accuracy: 0.6335 - loss: 63.7421 - val_accuracy: 0.6000 - val_loss: 150.8830\n",
      "Epoch 73/100\n",
      "\u001b[1m10/10\u001b[0m \u001b[32m━━━━━━━━━━━━━━━━━━━━\u001b[0m\u001b[37m\u001b[0m \u001b[1m0s\u001b[0m 5ms/step - accuracy: 0.5258 - loss: 121.8123 - val_accuracy: 0.6000 - val_loss: 173.4345\n",
      "Epoch 74/100\n",
      "\u001b[1m10/10\u001b[0m \u001b[32m━━━━━━━━━━━━━━━━━━━━\u001b[0m\u001b[37m\u001b[0m \u001b[1m0s\u001b[0m 5ms/step - accuracy: 0.5231 - loss: 116.0957 - val_accuracy: 0.6000 - val_loss: 177.9594\n",
      "Epoch 75/100\n",
      "\u001b[1m10/10\u001b[0m \u001b[32m━━━━━━━━━━━━━━━━━━━━\u001b[0m\u001b[37m\u001b[0m \u001b[1m0s\u001b[0m 5ms/step - accuracy: 0.5791 - loss: 117.5053 - val_accuracy: 0.6000 - val_loss: 82.0114\n",
      "Epoch 76/100\n",
      "\u001b[1m10/10\u001b[0m \u001b[32m━━━━━━━━━━━━━━━━━━━━\u001b[0m\u001b[37m\u001b[0m \u001b[1m0s\u001b[0m 5ms/step - accuracy: 0.5040 - loss: 53.9558 - val_accuracy: 0.4000 - val_loss: 20.7232\n",
      "Epoch 77/100\n",
      "\u001b[1m10/10\u001b[0m \u001b[32m━━━━━━━━━━━━━━━━━━━━\u001b[0m\u001b[37m\u001b[0m \u001b[1m0s\u001b[0m 5ms/step - accuracy: 0.5714 - loss: 58.5367 - val_accuracy: 0.6000 - val_loss: 30.3319\n",
      "Epoch 78/100\n",
      "\u001b[1m10/10\u001b[0m \u001b[32m━━━━━━━━━━━━━━━━━━━━\u001b[0m\u001b[37m\u001b[0m \u001b[1m0s\u001b[0m 5ms/step - accuracy: 0.6092 - loss: 17.9012 - val_accuracy: 0.6000 - val_loss: 8.4446\n",
      "Epoch 79/100\n",
      "\u001b[1m10/10\u001b[0m \u001b[32m━━━━━━━━━━━━━━━━━━━━\u001b[0m\u001b[37m\u001b[0m \u001b[1m0s\u001b[0m 5ms/step - accuracy: 0.4142 - loss: 75.2315 - val_accuracy: 0.4000 - val_loss: 7.6403\n",
      "Epoch 80/100\n",
      "\u001b[1m10/10\u001b[0m \u001b[32m━━━━━━━━━━━━━━━━━━━━\u001b[0m\u001b[37m\u001b[0m \u001b[1m0s\u001b[0m 5ms/step - accuracy: 0.5154 - loss: 55.3735 - val_accuracy: 0.6000 - val_loss: 102.4888\n",
      "Epoch 81/100\n",
      "\u001b[1m10/10\u001b[0m \u001b[32m━━━━━━━━━━━━━━━━━━━━\u001b[0m\u001b[37m\u001b[0m \u001b[1m0s\u001b[0m 5ms/step - accuracy: 0.5044 - loss: 80.6749 - val_accuracy: 0.4000 - val_loss: 138.3604\n",
      "Epoch 82/100\n",
      "\u001b[1m10/10\u001b[0m \u001b[32m━━━━━━━━━━━━━━━━━━━━\u001b[0m\u001b[37m\u001b[0m \u001b[1m0s\u001b[0m 5ms/step - accuracy: 0.5296 - loss: 101.7065 - val_accuracy: 0.4000 - val_loss: 71.0859\n",
      "Epoch 83/100\n",
      "\u001b[1m10/10\u001b[0m \u001b[32m━━━━━━━━━━━━━━━━━━━━\u001b[0m\u001b[37m\u001b[0m \u001b[1m0s\u001b[0m 7ms/step - accuracy: 0.5275 - loss: 28.2824 - val_accuracy: 0.6000 - val_loss: 50.3366\n",
      "Epoch 84/100\n",
      "\u001b[1m10/10\u001b[0m \u001b[32m━━━━━━━━━━━━━━━━━━━━\u001b[0m\u001b[37m\u001b[0m \u001b[1m0s\u001b[0m 5ms/step - accuracy: 0.5827 - loss: 52.9252 - val_accuracy: 0.4000 - val_loss: 40.1908\n",
      "Epoch 85/100\n",
      "\u001b[1m10/10\u001b[0m \u001b[32m━━━━━━━━━━━━━━━━━━━━\u001b[0m\u001b[37m\u001b[0m \u001b[1m0s\u001b[0m 5ms/step - accuracy: 0.4618 - loss: 47.6544 - val_accuracy: 0.4000 - val_loss: 49.9115\n",
      "Epoch 86/100\n",
      "\u001b[1m10/10\u001b[0m \u001b[32m━━━━━━━━━━━━━━━━━━━━\u001b[0m\u001b[37m\u001b[0m \u001b[1m0s\u001b[0m 5ms/step - accuracy: 0.4961 - loss: 37.2581 - val_accuracy: 0.6000 - val_loss: 122.0465\n",
      "Epoch 87/100\n",
      "\u001b[1m10/10\u001b[0m \u001b[32m━━━━━━━━━━━━━━━━━━━━\u001b[0m\u001b[37m\u001b[0m \u001b[1m0s\u001b[0m 5ms/step - accuracy: 0.5008 - loss: 82.1307 - val_accuracy: 0.4000 - val_loss: 97.2633\n",
      "Epoch 88/100\n",
      "\u001b[1m10/10\u001b[0m \u001b[32m━━━━━━━━━━━━━━━━━━━━\u001b[0m\u001b[37m\u001b[0m \u001b[1m0s\u001b[0m 5ms/step - accuracy: 0.4663 - loss: 72.5080 - val_accuracy: 0.6000 - val_loss: 142.6788\n",
      "Epoch 89/100\n",
      "\u001b[1m10/10\u001b[0m \u001b[32m━━━━━━━━━━━━━━━━━━━━\u001b[0m\u001b[37m\u001b[0m \u001b[1m0s\u001b[0m 5ms/step - accuracy: 0.5220 - loss: 116.7621 - val_accuracy: 0.6000 - val_loss: 154.8920\n",
      "Epoch 90/100\n",
      "\u001b[1m10/10\u001b[0m \u001b[32m━━━━━━━━━━━━━━━━━━━━\u001b[0m\u001b[37m\u001b[0m \u001b[1m0s\u001b[0m 5ms/step - accuracy: 0.5571 - loss: 116.3409 - val_accuracy: 0.6000 - val_loss: 165.3694\n",
      "Epoch 91/100\n",
      "\u001b[1m10/10\u001b[0m \u001b[32m━━━━━━━━━━━━━━━━━━━━\u001b[0m\u001b[37m\u001b[0m \u001b[1m0s\u001b[0m 5ms/step - accuracy: 0.5485 - loss: 108.4728 - val_accuracy: 0.6000 - val_loss: 152.8046\n",
      "Epoch 92/100\n",
      "\u001b[1m10/10\u001b[0m \u001b[32m━━━━━━━━━━━━━━━━━━━━\u001b[0m\u001b[37m\u001b[0m \u001b[1m0s\u001b[0m 5ms/step - accuracy: 0.5153 - loss: 99.7587 - val_accuracy: 0.6000 - val_loss: 125.2496\n",
      "Epoch 93/100\n",
      "\u001b[1m10/10\u001b[0m \u001b[32m━━━━━━━━━━━━━━━━━━━━\u001b[0m\u001b[37m\u001b[0m \u001b[1m0s\u001b[0m 6ms/step - accuracy: 0.4936 - loss: 145.7567 - val_accuracy: 0.6000 - val_loss: 186.1231\n",
      "Epoch 94/100\n",
      "\u001b[1m10/10\u001b[0m \u001b[32m━━━━━━━━━━━━━━━━━━━━\u001b[0m\u001b[37m\u001b[0m \u001b[1m0s\u001b[0m 5ms/step - accuracy: 0.5747 - loss: 113.5338 - val_accuracy: 0.6000 - val_loss: 96.4356\n",
      "Epoch 95/100\n",
      "\u001b[1m10/10\u001b[0m \u001b[32m━━━━━━━━━━━━━━━━━━━━\u001b[0m\u001b[37m\u001b[0m \u001b[1m0s\u001b[0m 5ms/step - accuracy: 0.5751 - loss: 58.3547 - val_accuracy: 0.6000 - val_loss: 18.6706\n",
      "Epoch 96/100\n",
      "\u001b[1m10/10\u001b[0m \u001b[32m━━━━━━━━━━━━━━━━━━━━\u001b[0m\u001b[37m\u001b[0m \u001b[1m0s\u001b[0m 5ms/step - accuracy: 0.5759 - loss: 35.8736 - val_accuracy: 0.4000 - val_loss: 29.2589\n",
      "Epoch 97/100\n",
      "\u001b[1m10/10\u001b[0m \u001b[32m━━━━━━━━━━━━━━━━━━━━\u001b[0m\u001b[37m\u001b[0m \u001b[1m0s\u001b[0m 5ms/step - accuracy: 0.5746 - loss: 32.2832 - val_accuracy: 0.6000 - val_loss: 17.1054\n",
      "Epoch 98/100\n",
      "\u001b[1m10/10\u001b[0m \u001b[32m━━━━━━━━━━━━━━━━━━━━\u001b[0m\u001b[37m\u001b[0m \u001b[1m0s\u001b[0m 5ms/step - accuracy: 0.5053 - loss: 66.0270 - val_accuracy: 0.6000 - val_loss: 11.4774\n",
      "Epoch 99/100\n",
      "\u001b[1m10/10\u001b[0m \u001b[32m━━━━━━━━━━━━━━━━━━━━\u001b[0m\u001b[37m\u001b[0m \u001b[1m0s\u001b[0m 5ms/step - accuracy: 0.5006 - loss: 24.1527 - val_accuracy: 0.4000 - val_loss: 98.8358\n",
      "Epoch 100/100\n",
      "\u001b[1m10/10\u001b[0m \u001b[32m━━━━━━━━━━━━━━━━━━━━\u001b[0m\u001b[37m\u001b[0m \u001b[1m0s\u001b[0m 5ms/step - accuracy: 0.4290 - loss: 84.7853 - val_accuracy: 0.4000 - val_loss: 6.0207\n"
     ]
    }
   ],
   "source": [
    "history = model.fit(X_train,y_train,validation_data = (X_test,y_test),epochs=100)"
   ]
  },
  {
   "cell_type": "code",
   "execution_count": 13,
   "id": "b81d803f",
   "metadata": {
    "execution": {
     "iopub.execute_input": "2024-10-04T04:09:32.914586Z",
     "iopub.status.busy": "2024-10-04T04:09:32.913628Z",
     "iopub.status.idle": "2024-10-04T04:09:33.216425Z",
     "shell.execute_reply": "2024-10-04T04:09:33.215161Z"
    },
    "papermill": {
     "duration": 0.333793,
     "end_time": "2024-10-04T04:09:33.219210",
     "exception": false,
     "start_time": "2024-10-04T04:09:32.885417",
     "status": "completed"
    },
    "tags": []
   },
   "outputs": [
    {
     "data": {
      "text/plain": [
       "Text(0.5, 1.0, 'Validation Accuracy Before Feature Scaling')"
      ]
     },
     "execution_count": 13,
     "metadata": {},
     "output_type": "execute_result"
    },
    {
     "data": {
      "image/png": "[encoded data removed]",
      "text/plain": [
       "<Figure size 640x480 with 1 Axes>"
      ]
     },
     "metadata": {},
     "output_type": "display_data"
    }
   ],
   "source": [
    "plt.plot(history.history['val_accuracy'])\n",
    "plt.title('Validation Accuracy Before Feature Scaling')"
   ]
  },
  {
   "cell_type": "markdown",
   "id": "46f334f4",
   "metadata": {
    "papermill": {
     "duration": 0.027853,
     "end_time": "2024-10-04T04:09:33.275417",
     "exception": false,
     "start_time": "2024-10-04T04:09:33.247564",
     "status": "completed"
    },
    "tags": []
   },
   "source": [
    "# Apply Feature Scalling"
   ]
  },
  {
   "cell_type": "code",
   "execution_count": 14,
   "id": "3fab4d33",
   "metadata": {
    "execution": {
     "iopub.execute_input": "2024-10-04T04:09:33.334108Z",
     "iopub.status.busy": "2024-10-04T04:09:33.333299Z",
     "iopub.status.idle": "2024-10-04T04:09:33.344624Z",
     "shell.execute_reply": "2024-10-04T04:09:33.343400Z"
    },
    "papermill": {
     "duration": 0.042716,
     "end_time": "2024-10-04T04:09:33.347058",
     "exception": false,
     "start_time": "2024-10-04T04:09:33.304342",
     "status": "completed"
    },
    "tags": []
   },
   "outputs": [],
   "source": [
    "from sklearn.preprocessing import StandardScaler\n",
    "scaler = StandardScaler()\n",
    "\n",
    "X_train_scaled = scaler.fit_transform(X_train)\n",
    "X_test_scaled = scaler.transform(X_test)"
   ]
  },
  {
   "cell_type": "code",
   "execution_count": 15,
   "id": "e21b9662",
   "metadata": {
    "execution": {
     "iopub.execute_input": "2024-10-04T04:09:33.404568Z",
     "iopub.status.busy": "2024-10-04T04:09:33.403411Z",
     "iopub.status.idle": "2024-10-04T04:09:33.419794Z",
     "shell.execute_reply": "2024-10-04T04:09:33.418571Z"
    },
    "papermill": {
     "duration": 0.047686,
     "end_time": "2024-10-04T04:09:33.422302",
     "exception": false,
     "start_time": "2024-10-04T04:09:33.374616",
     "status": "completed"
    },
    "tags": []
   },
   "outputs": [
    {
     "data": {
      "text/plain": [
       "array([[ 0.88928823, -0.65924556],\n",
       "       [-0.17254846,  0.87392651],\n",
       "       [-1.04132394, -0.36440478],\n",
       "       [ 0.98581884,  0.6085698 ],\n",
       "       [-0.94479333,  0.57908572],\n",
       "       [ 0.40663519,  0.01888824],\n",
       "       [ 0.98581884,  2.11225779],\n",
       "       [ 0.31010458, -0.30543662],\n",
       "       [ 1.7580637 , -0.27595254],\n",
       "       [-0.17254846,  2.20071003],\n",
       "       [ 1.7580637 ,  1.0213469 ],\n",
       "       [-1.33091576, -1.48479975],\n",
       "       [ 2.04765553,  0.54960165],\n",
       "       [ 1.27541066,  1.90586924],\n",
       "       [-1.13785454,  0.31372902],\n",
       "       [-0.36560968, -0.77718187],\n",
       "       [-1.71703819,  0.49063349],\n",
       "       [-0.5586709 , -1.51428383],\n",
       "       [ 0.31010458, -0.71821372],\n",
       "       [ 0.02051275, -0.57079333],\n",
       "       [ 0.02051275,  0.04837232],\n",
       "       [-0.07601785, -0.51182517],\n",
       "       [-0.6552015 , -1.51428383],\n",
       "       [ 0.02051275,  0.31372902],\n",
       "       [ 0.31010458,  0.07785639],\n",
       "       [-0.46214029, -1.13099081],\n",
       "       [-0.75173211, -1.54376791],\n",
       "       [-0.26907907, -0.65924556],\n",
       "       [-1.13785454,  0.49063349],\n",
       "       [-0.07601785,  2.20071003],\n",
       "       [ 0.02051275,  0.04837232],\n",
       "       [-1.13785454, -1.57325199],\n",
       "       [ 1.08234944,  0.54960165],\n",
       "       [-0.26907907, -1.24892713],\n",
       "       [ 1.37194127, -0.92460227],\n",
       "       [-1.42744637, -1.21944305],\n",
       "       [-0.94479333, -0.95408634],\n",
       "       [ 1.95112492, -0.65924556],\n",
       "       [ 0.88928823, -0.57079333],\n",
       "       [-1.13785454,  0.31372902],\n",
       "       [ 0.02051275, -0.24646847],\n",
       "       [ 0.79275762, -1.39634752],\n",
       "       [-0.26907907, -0.36440478],\n",
       "       [ 0.88928823,  1.2867036 ],\n",
       "       [ 0.31010458, -0.18750031],\n",
       "       [-0.26907907, -0.57079333],\n",
       "       [-0.26907907, -1.39634752],\n",
       "       [ 1.46847188, -1.04253858],\n",
       "       [-0.07601785,  0.13682455],\n",
       "       [-0.84826272, -0.65924556],\n",
       "       [-0.07601785,  0.01888824],\n",
       "       [-0.26907907,  0.10734047],\n",
       "       [ 0.21357397, -0.30543662],\n",
       "       [-0.26907907,  0.28424494],\n",
       "       [ 0.11704336,  0.04837232],\n",
       "       [ 1.95112492,  2.20071003],\n",
       "       [-1.04132394, -1.45531567],\n",
       "       [ 0.31010458,  0.31372902],\n",
       "       [ 2.04765553, -1.18995897],\n",
       "       [-1.13785454, -0.51182517],\n",
       "       [ 0.21357397,  0.16630863],\n",
       "       [-0.26907907, -0.92460227],\n",
       "       [-0.6552015 ,  0.04837232],\n",
       "       [ 0.21357397,  0.07785639],\n",
       "       [ 0.40663519, -0.12853215],\n",
       "       [-1.13785454, -1.10150673],\n",
       "       [-0.07601785,  2.25967818],\n",
       "       [ 1.08234944, -0.12853215],\n",
       "       [ 0.88928823,  1.05083098],\n",
       "       [-0.07601785,  0.28424494],\n",
       "       [-0.5586709 , -1.51428383],\n",
       "       [-1.13785454, -1.0130545 ],\n",
       "       [-0.75173211,  1.37515584],\n",
       "       [ 1.08234944,  0.57908572],\n",
       "       [ 1.56500249, -1.2784112 ],\n",
       "       [ 0.69622701, -1.39634752],\n",
       "       [-0.6552015 , -1.04253858],\n",
       "       [ 1.17888005,  0.54960165],\n",
       "       [-0.26907907, -1.45531567],\n",
       "       [-1.62050759,  0.54960165],\n",
       "       [-1.04132394, -1.13099081],\n",
       "       [-0.07601785,  0.04837232],\n",
       "       [ 0.31010458,  0.07785639],\n",
       "       [ 0.88928823, -1.36686344],\n",
       "       [-1.04132394, -0.3349207 ],\n",
       "       [-1.8135688 ,  0.19579271],\n",
       "       [-1.8135688 , -1.4258316 ],\n",
       "       [ 0.69622701,  1.81741701],\n",
       "       [-0.07601785,  0.31372902],\n",
       "       [-1.62050759,  0.07785639],\n",
       "       [-0.6552015 ,  1.43412399],\n",
       "       [-0.26907907, -0.24646847],\n",
       "       [-0.36560968,  1.34567176],\n",
       "       [ 0.5031658 ,  1.25721952],\n",
       "       [-0.6552015 ,  0.19579271],\n",
       "       [-1.52397698, -0.42337294],\n",
       "       [-1.04132394,  0.43166533],\n",
       "       [ 0.79275762,  0.28424494],\n",
       "       [ 1.95112492, -0.92460227],\n",
       "       [ 0.79275762, -0.30543662],\n",
       "       [ 0.21357397,  0.25476086],\n",
       "       [-1.71703819, -0.60027741],\n",
       "       [-0.26907907,  0.16630863],\n",
       "       [-1.33091576, -1.24892713],\n",
       "       [-0.26907907, -0.42337294],\n",
       "       [ 0.11704336,  0.10734047],\n",
       "       [-0.94479333,  0.46114941],\n",
       "       [ 2.04765553,  0.40218125],\n",
       "       [-1.91009941,  0.37269718],\n",
       "       [ 2.04765553, -0.80666595],\n",
       "       [ 2.14418614,  1.13928321],\n",
       "       [ 0.79275762, -1.21944305],\n",
       "       [ 0.40663519, -0.45285701],\n",
       "       [ 0.02051275, -0.24646847],\n",
       "       [ 1.46847188,  0.37269718],\n",
       "       [-0.17254846, -0.57079333],\n",
       "       [ 0.21357397, -0.24646847],\n",
       "       [-0.46214029,  2.34813042],\n",
       "       [ 0.11704336,  0.22527679],\n",
       "       [ 0.21357397, -0.65924556],\n",
       "       [ 0.98581884, -1.07202266],\n",
       "       [-0.17254846,  0.16630863],\n",
       "       [-0.07601785,  0.31372902],\n",
       "       [ 0.40663519, -0.48234109],\n",
       "       [-0.36560968, -1.30789528],\n",
       "       [ 0.88928823, -0.77718187],\n",
       "       [-0.94479333,  0.43166533],\n",
       "       [-0.07601785, -0.42337294],\n",
       "       [-0.94479333, -0.42337294],\n",
       "       [-1.8135688 ,  0.46114941],\n",
       "       [-0.84826272, -1.21944305],\n",
       "       [-0.94479333, -0.30543662],\n",
       "       [ 0.98581884,  0.78547427],\n",
       "       [-1.62050759, -0.04007992],\n",
       "       [-1.04132394, -0.3349207 ],\n",
       "       [ 0.02051275, -0.54130925],\n",
       "       [-0.6552015 , -0.3349207 ],\n",
       "       [-1.13785454, -1.54376791],\n",
       "       [ 1.95112492, -1.36686344],\n",
       "       [-0.6552015 , -1.60273606],\n",
       "       [ 0.21357397, -0.36440478],\n",
       "       [ 0.88928823,  2.20071003],\n",
       "       [ 1.17888005, -0.98357042],\n",
       "       [-0.17254846, -0.51182517],\n",
       "       [ 1.66153309,  1.78793293],\n",
       "       [ 1.08234944, -1.21944305],\n",
       "       [ 0.02051275,  1.2867036 ],\n",
       "       [-0.46214029, -0.27595254],\n",
       "       [ 1.66153309, -0.89511819],\n",
       "       [ 0.31010458,  0.52011757],\n",
       "       [-1.04132394, -1.54376791],\n",
       "       [ 1.56500249,  1.13928321],\n",
       "       [-1.52397698,  0.3432131 ],\n",
       "       [ 0.02051275, -0.12853215],\n",
       "       [ 0.11704336, -0.80666595],\n",
       "       [ 0.21357397,  1.10979913],\n",
       "       [ 0.40663519, -0.15801623],\n",
       "       [-0.46214029, -0.01059584],\n",
       "       [ 1.08234944,  2.11225779],\n",
       "       [-0.26907907, -0.12853215],\n",
       "       [-0.75173211, -0.60027741],\n",
       "       [ 1.17888005, -1.45531567],\n",
       "       [-1.42744637, -1.45531567],\n",
       "       [ 1.85459431, -0.27595254],\n",
       "       [ 1.85459431,  0.13682455],\n",
       "       [ 0.40663519,  0.16630863],\n",
       "       [ 1.27541066, -1.36686344],\n",
       "       [-0.46214029, -1.21944305],\n",
       "       [-0.75173211,  1.93535332],\n",
       "       [-0.26907907,  1.13928321],\n",
       "       [ 0.02051275, -0.57079333],\n",
       "       [ 0.21357397, -0.12853215],\n",
       "       [-0.5586709 ,  1.93535332],\n",
       "       [-0.94479333,  0.28424494],\n",
       "       [-1.91009941,  0.49063349],\n",
       "       [-1.33091576,  0.57908572],\n",
       "       [ 0.21357397,  0.16630863],\n",
       "       [ 1.37194127, -1.4258316 ],\n",
       "       [-0.07601785,  0.69702204],\n",
       "       [ 0.11704336,  1.90586924],\n",
       "       [-1.71703819, -0.98357042],\n",
       "       [ 0.21357397, -0.36440478],\n",
       "       [-1.8135688 , -1.30789528],\n",
       "       [ 0.79275762,  0.54960165],\n",
       "       [-0.17254846,  1.43412399],\n",
       "       [-1.04132394,  0.57908572],\n",
       "       [-1.23438515, -1.07202266],\n",
       "       [ 1.37194127,  2.02380556],\n",
       "       [ 0.79275762, -1.10150673],\n",
       "       [ 0.79275762,  0.13682455],\n",
       "       [-1.8135688 , -1.2784112 ],\n",
       "       [ 0.02051275,  1.25721952],\n",
       "       [ 0.88928823, -0.60027741],\n",
       "       [ 2.14418614,  0.40218125],\n",
       "       [ 2.14418614, -0.80666595],\n",
       "       [ 0.98581884, -1.07202266],\n",
       "       [ 0.11704336,  1.55206031],\n",
       "       [-0.94479333,  0.52011757],\n",
       "       [-1.23438515,  0.28424494],\n",
       "       [ 0.40663519,  0.6085698 ],\n",
       "       [ 0.11704336,  0.16630863],\n",
       "       [ 0.21357397,  0.04837232],\n",
       "       [ 2.04765553,  2.17122595],\n",
       "       [-0.07601785, -0.36440478],\n",
       "       [-0.26907907,  0.81495835],\n",
       "       [-1.42744637, -0.18750031],\n",
       "       [ 1.08234944,  0.13682455],\n",
       "       [ 0.31010458,  0.07785639],\n",
       "       [ 0.11704336,  0.04837232],\n",
       "       [ 0.98581884, -1.0130545 ],\n",
       "       [-0.5586709 ,  1.49309215],\n",
       "       [-1.13785454, -1.60273606],\n",
       "       [ 1.27541066,  2.25967818],\n",
       "       [-1.42744637, -0.09904808],\n",
       "       [-1.8135688 , -1.48479975],\n",
       "       [ 0.88928823, -1.16047489],\n",
       "       [ 2.14418614, -0.68872964],\n",
       "       [ 0.5996964 , -0.89511819],\n",
       "       [-1.23438515, -1.39634752],\n",
       "       [-0.46214029, -0.83615003],\n",
       "       [-0.84826272, -0.24646847],\n",
       "       [ 1.46847188,  2.17122595],\n",
       "       [ 0.40663519,  1.0213469 ],\n",
       "       [ 0.02051275, -0.42337294],\n",
       "       [-1.13785454, -1.16047489],\n",
       "       [-0.75173211,  0.57908572],\n",
       "       [ 0.11704336,  1.08031505],\n",
       "       [-0.5586709 ,  1.40463991],\n",
       "       [ 0.11704336,  1.90586924],\n",
       "       [ 0.21357397,  2.14174187],\n",
       "       [ 1.46847188,  1.0213469 ],\n",
       "       [-1.71703819,  0.13682455],\n",
       "       [-0.26907907, -0.48234109],\n",
       "       [ 0.11704336,  0.78547427],\n",
       "       [ 0.88928823, -1.30789528],\n",
       "       [-0.26907907, -0.27595254],\n",
       "       [ 2.14418614, -1.04253858],\n",
       "       [ 0.40663519,  0.31372902],\n",
       "       [-0.17254846,  1.64051254],\n",
       "       [ 0.79275762, -0.83615003],\n",
       "       [-0.94479333,  1.58154438],\n",
       "       [ 0.11704336, -0.24646847],\n",
       "       [-1.23438515,  0.52011757],\n",
       "       [ 0.11704336, -0.80666595],\n",
       "       [ 1.08234944, -0.98357042],\n",
       "       [ 0.98581884,  1.81741701],\n",
       "       [-1.42744637, -0.62976148],\n",
       "       [ 0.98581884, -1.18995897],\n",
       "       [-1.33091576, -0.42337294],\n",
       "       [ 0.31010458,  0.07785639],\n",
       "       [-0.26907907, -0.57079333],\n",
       "       [-0.75173211,  1.10979913],\n",
       "       [ 1.56500249,  1.0213469 ],\n",
       "       [-1.04132394,  0.6085698 ],\n",
       "       [ 0.40663519,  0.10734047],\n",
       "       [-0.94479333, -0.30543662],\n",
       "       [ 1.17888005, -0.7476978 ],\n",
       "       [-1.91009941, -0.51182517],\n",
       "       [ 1.08234944, -1.21944305],\n",
       "       [ 0.31010458,  0.28424494],\n",
       "       [-0.75173211, -1.60273606],\n",
       "       [-0.26907907, -1.30789528],\n",
       "       [-0.26907907,  0.54960165],\n",
       "       [ 0.98581884,  1.90586924],\n",
       "       [-0.6552015 , -0.09904808],\n",
       "       [-0.46214029,  1.2867036 ],\n",
       "       [ 0.31010458, -0.51182517],\n",
       "       [ 1.85459431,  1.55206031],\n",
       "       [ 1.08234944,  0.49063349],\n",
       "       [ 2.04765553,  0.19579271],\n",
       "       [-1.71703819,  0.37269718],\n",
       "       [-0.17254846, -0.18750031],\n",
       "       [-0.6552015 ,  0.57908572],\n",
       "       [ 1.37194127,  1.31618768],\n",
       "       [ 1.08234944, -0.89511819],\n",
       "       [ 1.85459431, -1.07202266],\n",
       "       [-0.75173211,  0.52011757],\n",
       "       [-1.33091576, -1.10150673],\n",
       "       [ 0.79275762,  0.37269718],\n",
       "       [-0.84826272,  0.40218125],\n",
       "       [-0.75173211,  0.31372902],\n",
       "       [-1.04132394,  1.99432148],\n",
       "       [-0.07601785,  0.07785639],\n",
       "       [ 1.37194127,  2.3776145 ],\n",
       "       [-0.07601785,  0.16630863],\n",
       "       [-0.07601785,  1.99432148],\n",
       "       [-0.75173211,  0.28424494],\n",
       "       [-1.13785454,  0.3432131 ],\n",
       "       [ 0.31010458, -0.27595254],\n",
       "       [ 0.98581884, -1.16047489],\n",
       "       [ 1.37194127,  0.6085698 ],\n",
       "       [-1.52397698, -1.51428383],\n",
       "       [-0.94479333, -0.7476978 ],\n",
       "       [-1.13785454,  0.07785639],\n",
       "       [ 0.40663519, -0.45285701],\n",
       "       [-1.91009941, -0.7476978 ],\n",
       "       [ 0.40663519,  0.28424494],\n",
       "       [-0.26907907,  0.22527679],\n",
       "       [-0.5586709 ,  0.49063349],\n",
       "       [-0.36560968, -0.77718187],\n",
       "       [-0.26907907,  0.04837232],\n",
       "       [-0.07601785,  0.22527679],\n",
       "       [-0.26907907,  0.16630863],\n",
       "       [ 0.31010458, -0.54130925],\n",
       "       [ 0.79275762,  0.78547427],\n",
       "       [ 0.98581884,  2.02380556],\n",
       "       [-0.17254846, -0.27595254],\n",
       "       [-1.04132394, -0.45285701],\n",
       "       [-0.26907907, -0.3349207 ],\n",
       "       [ 0.11704336, -0.30543662],\n",
       "       [-0.26907907, -0.7476978 ],\n",
       "       [-0.07601785, -1.07202266],\n",
       "       [-0.26907907,  0.07785639],\n",
       "       [ 0.5031658 ,  1.75844885],\n",
       "       [-0.36560968,  1.25721952],\n",
       "       [ 0.79275762,  1.40463991],\n",
       "       [ 0.98581884, -0.83615003],\n",
       "       [-1.71703819, -1.36686344],\n",
       "       [-0.84826272,  0.31372902],\n",
       "       [-0.84826272,  2.31864634]])"
      ]
     },
     "execution_count": 15,
     "metadata": {},
     "output_type": "execute_result"
    }
   ],
   "source": [
    "X_train_scaled"
   ]
  },
  {
   "cell_type": "code",
   "execution_count": 16,
   "id": "8b9f9a5b",
   "metadata": {
    "execution": {
     "iopub.execute_input": "2024-10-04T04:09:33.482372Z",
     "iopub.status.busy": "2024-10-04T04:09:33.481918Z",
     "iopub.status.idle": "2024-10-04T04:09:33.798202Z",
     "shell.execute_reply": "2024-10-04T04:09:33.796733Z"
    },
    "papermill": {
     "duration": 0.350094,
     "end_time": "2024-10-04T04:09:33.800781",
     "exception": false,
     "start_time": "2024-10-04T04:09:33.450687",
     "status": "completed"
    },
    "tags": []
   },
   "outputs": [
    {
     "data": {
      "text/plain": [
       "<Axes: >"
      ]
     },
     "execution_count": 16,
     "metadata": {},
     "output_type": "execute_result"
    },
    {
     "data": {
      "image/png": "[encoded data removed]",
      "text/plain": [
       "<Figure size 640x480 with 1 Axes>"
      ]
     },
     "metadata": {},
     "output_type": "display_data"
    }
   ],
   "source": [
    "sns.scatterplot(x =X_train_scaled[:,0],y = X_train_scaled[:,1])"
   ]
  },
  {
   "cell_type": "code",
   "execution_count": 17,
   "id": "bc4ac24f",
   "metadata": {
    "execution": {
     "iopub.execute_input": "2024-10-04T04:09:33.862524Z",
     "iopub.status.busy": "2024-10-04T04:09:33.862091Z",
     "iopub.status.idle": "2024-10-04T04:09:42.254628Z",
     "shell.execute_reply": "2024-10-04T04:09:42.253535Z"
    },
    "papermill": {
     "duration": 8.427176,
     "end_time": "2024-10-04T04:09:42.257331",
     "exception": false,
     "start_time": "2024-10-04T04:09:33.830155",
     "status": "completed"
    },
    "tags": []
   },
   "outputs": [
    {
     "name": "stdout",
     "output_type": "stream",
     "text": [
      "Epoch 1/100\n",
      "\u001b[1m10/10\u001b[0m \u001b[32m━━━━━━━━━━━━━━━━━━━━\u001b[0m\u001b[37m\u001b[0m \u001b[1m1s\u001b[0m 23ms/step - accuracy: 0.5801 - loss: 0.7350 - val_accuracy: 0.6000 - val_loss: 0.7014\n",
      "Epoch 2/100\n",
      "\u001b[1m10/10\u001b[0m \u001b[32m━━━━━━━━━━━━━━━━━━━━\u001b[0m\u001b[37m\u001b[0m \u001b[1m0s\u001b[0m 5ms/step - accuracy: 0.6489 - loss: 0.6791 - val_accuracy: 0.6500 - val_loss: 0.6389\n",
      "Epoch 3/100\n",
      "\u001b[1m10/10\u001b[0m \u001b[32m━━━━━━━━━━━━━━━━━━━━\u001b[0m\u001b[37m\u001b[0m \u001b[1m0s\u001b[0m 5ms/step - accuracy: 0.7153 - loss: 0.6239 - val_accuracy: 0.7375 - val_loss: 0.5863\n",
      "Epoch 4/100\n",
      "\u001b[1m10/10\u001b[0m \u001b[32m━━━━━━━━━━━━━━━━━━━━\u001b[0m\u001b[37m\u001b[0m \u001b[1m0s\u001b[0m 5ms/step - accuracy: 0.7573 - loss: 0.5760 - val_accuracy: 0.7500 - val_loss: 0.5431\n",
      "Epoch 5/100\n",
      "\u001b[1m10/10\u001b[0m \u001b[32m━━━━━━━━━━━━━━━━━━━━\u001b[0m\u001b[37m\u001b[0m \u001b[1m0s\u001b[0m 5ms/step - accuracy: 0.7820 - loss: 0.5145 - val_accuracy: 0.7625 - val_loss: 0.5054\n",
      "Epoch 6/100\n",
      "\u001b[1m10/10\u001b[0m \u001b[32m━━━━━━━━━━━━━━━━━━━━\u001b[0m\u001b[37m\u001b[0m \u001b[1m0s\u001b[0m 6ms/step - accuracy: 0.7697 - loss: 0.5008 - val_accuracy: 0.7750 - val_loss: 0.4725\n",
      "Epoch 7/100\n",
      "\u001b[1m10/10\u001b[0m \u001b[32m━━━━━━━━━━━━━━━━━━━━\u001b[0m\u001b[37m\u001b[0m \u001b[1m0s\u001b[0m 5ms/step - accuracy: 0.8225 - loss: 0.4509 - val_accuracy: 0.8125 - val_loss: 0.4429\n",
      "Epoch 8/100\n",
      "\u001b[1m10/10\u001b[0m \u001b[32m━━━━━━━━━━━━━━━━━━━━\u001b[0m\u001b[37m\u001b[0m \u001b[1m0s\u001b[0m 5ms/step - accuracy: 0.8282 - loss: 0.4308 - val_accuracy: 0.8250 - val_loss: 0.4181\n",
      "Epoch 9/100\n",
      "\u001b[1m10/10\u001b[0m \u001b[32m━━━━━━━━━━━━━━━━━━━━\u001b[0m\u001b[37m\u001b[0m \u001b[1m0s\u001b[0m 5ms/step - accuracy: 0.8478 - loss: 0.3947 - val_accuracy: 0.8250 - val_loss: 0.3965\n",
      "Epoch 10/100\n",
      "\u001b[1m10/10\u001b[0m \u001b[32m━━━━━━━━━━━━━━━━━━━━\u001b[0m\u001b[37m\u001b[0m \u001b[1m0s\u001b[0m 5ms/step - accuracy: 0.8508 - loss: 0.4020 - val_accuracy: 0.8250 - val_loss: 0.3801\n",
      "Epoch 11/100\n",
      "\u001b[1m10/10\u001b[0m \u001b[32m━━━━━━━━━━━━━━━━━━━━\u001b[0m\u001b[37m\u001b[0m \u001b[1m0s\u001b[0m 5ms/step - accuracy: 0.8495 - loss: 0.3769 - val_accuracy: 0.8250 - val_loss: 0.3632\n",
      "Epoch 12/100\n",
      "\u001b[1m10/10\u001b[0m \u001b[32m━━━━━━━━━━━━━━━━━━━━\u001b[0m\u001b[37m\u001b[0m \u001b[1m0s\u001b[0m 5ms/step - accuracy: 0.8817 - loss: 0.3388 - val_accuracy: 0.8250 - val_loss: 0.3505\n",
      "Epoch 13/100\n",
      "\u001b[1m10/10\u001b[0m \u001b[32m━━━━━━━━━━━━━━━━━━━━\u001b[0m\u001b[37m\u001b[0m \u001b[1m0s\u001b[0m 5ms/step - accuracy: 0.8745 - loss: 0.3482 - val_accuracy: 0.8250 - val_loss: 0.3412\n",
      "Epoch 14/100\n",
      "\u001b[1m10/10\u001b[0m \u001b[32m━━━━━━━━━━━━━━━━━━━━\u001b[0m\u001b[37m\u001b[0m \u001b[1m0s\u001b[0m 5ms/step - accuracy: 0.8548 - loss: 0.3507 - val_accuracy: 0.8250 - val_loss: 0.3341\n",
      "Epoch 15/100\n",
      "\u001b[1m10/10\u001b[0m \u001b[32m━━━━━━━━━━━━━━━━━━━━\u001b[0m\u001b[37m\u001b[0m \u001b[1m0s\u001b[0m 5ms/step - accuracy: 0.8834 - loss: 0.3323 - val_accuracy: 0.8250 - val_loss: 0.3277\n",
      "Epoch 16/100\n",
      "\u001b[1m10/10\u001b[0m \u001b[32m━━━━━━━━━━━━━━━━━━━━\u001b[0m\u001b[37m\u001b[0m \u001b[1m0s\u001b[0m 5ms/step - accuracy: 0.8906 - loss: 0.3159 - val_accuracy: 0.8250 - val_loss: 0.3198\n",
      "Epoch 17/100\n",
      "\u001b[1m10/10\u001b[0m \u001b[32m━━━━━━━━━━━━━━━━━━━━\u001b[0m\u001b[37m\u001b[0m \u001b[1m0s\u001b[0m 5ms/step - accuracy: 0.8835 - loss: 0.3134 - val_accuracy: 0.8250 - val_loss: 0.3146\n",
      "Epoch 18/100\n",
      "\u001b[1m10/10\u001b[0m \u001b[32m━━━━━━━━━━━━━━━━━━━━\u001b[0m\u001b[37m\u001b[0m \u001b[1m0s\u001b[0m 5ms/step - accuracy: 0.9139 - loss: 0.2769 - val_accuracy: 0.8250 - val_loss: 0.3117\n",
      "Epoch 19/100\n",
      "\u001b[1m10/10\u001b[0m \u001b[32m━━━━━━━━━━━━━━━━━━━━\u001b[0m\u001b[37m\u001b[0m \u001b[1m0s\u001b[0m 5ms/step - accuracy: 0.8951 - loss: 0.2947 - val_accuracy: 0.8250 - val_loss: 0.3076\n",
      "Epoch 20/100\n",
      "\u001b[1m10/10\u001b[0m \u001b[32m━━━━━━━━━━━━━━━━━━━━\u001b[0m\u001b[37m\u001b[0m \u001b[1m0s\u001b[0m 5ms/step - accuracy: 0.9076 - loss: 0.2781 - val_accuracy: 0.8375 - val_loss: 0.3018\n",
      "Epoch 21/100\n",
      "\u001b[1m10/10\u001b[0m \u001b[32m━━━━━━━━━━━━━━━━━━━━\u001b[0m\u001b[37m\u001b[0m \u001b[1m0s\u001b[0m 5ms/step - accuracy: 0.9027 - loss: 0.2906 - val_accuracy: 0.8500 - val_loss: 0.2993\n",
      "Epoch 22/100\n",
      "\u001b[1m10/10\u001b[0m \u001b[32m━━━━━━━━━━━━━━━━━━━━\u001b[0m\u001b[37m\u001b[0m \u001b[1m0s\u001b[0m 5ms/step - accuracy: 0.9066 - loss: 0.2842 - val_accuracy: 0.8500 - val_loss: 0.2951\n",
      "Epoch 23/100\n",
      "\u001b[1m10/10\u001b[0m \u001b[32m━━━━━━━━━━━━━━━━━━━━\u001b[0m\u001b[37m\u001b[0m \u001b[1m0s\u001b[0m 5ms/step - accuracy: 0.8835 - loss: 0.2863 - val_accuracy: 0.8500 - val_loss: 0.2954\n",
      "Epoch 24/100\n",
      "\u001b[1m10/10\u001b[0m \u001b[32m━━━━━━━━━━━━━━━━━━━━\u001b[0m\u001b[37m\u001b[0m \u001b[1m0s\u001b[0m 5ms/step - accuracy: 0.8998 - loss: 0.2612 - val_accuracy: 0.8625 - val_loss: 0.2923\n",
      "Epoch 25/100\n",
      "\u001b[1m10/10\u001b[0m \u001b[32m━━━━━━━━━━━━━━━━━━━━\u001b[0m\u001b[37m\u001b[0m \u001b[1m0s\u001b[0m 6ms/step - accuracy: 0.8935 - loss: 0.2734 - val_accuracy: 0.8500 - val_loss: 0.2915\n",
      "Epoch 26/100\n",
      "\u001b[1m10/10\u001b[0m \u001b[32m━━━━━━━━━━━━━━━━━━━━\u001b[0m\u001b[37m\u001b[0m \u001b[1m0s\u001b[0m 5ms/step - accuracy: 0.8696 - loss: 0.3063 - val_accuracy: 0.8625 - val_loss: 0.2906\n",
      "Epoch 27/100\n",
      "\u001b[1m10/10\u001b[0m \u001b[32m━━━━━━━━━━━━━━━━━━━━\u001b[0m\u001b[37m\u001b[0m \u001b[1m0s\u001b[0m 5ms/step - accuracy: 0.9225 - loss: 0.2367 - val_accuracy: 0.8625 - val_loss: 0.2879\n",
      "Epoch 28/100\n",
      "\u001b[1m10/10\u001b[0m \u001b[32m━━━━━━━━━━━━━━━━━━━━\u001b[0m\u001b[37m\u001b[0m \u001b[1m0s\u001b[0m 5ms/step - accuracy: 0.9006 - loss: 0.2787 - val_accuracy: 0.8625 - val_loss: 0.2862\n",
      "Epoch 29/100\n",
      "\u001b[1m10/10\u001b[0m \u001b[32m━━━━━━━━━━━━━━━━━━━━\u001b[0m\u001b[37m\u001b[0m \u001b[1m0s\u001b[0m 5ms/step - accuracy: 0.9027 - loss: 0.2578 - val_accuracy: 0.8750 - val_loss: 0.2846\n",
      "Epoch 30/100\n",
      "\u001b[1m10/10\u001b[0m \u001b[32m━━━━━━━━━━━━━━━━━━━━\u001b[0m\u001b[37m\u001b[0m \u001b[1m0s\u001b[0m 5ms/step - accuracy: 0.9183 - loss: 0.2316 - val_accuracy: 0.8750 - val_loss: 0.2825\n",
      "Epoch 31/100\n",
      "\u001b[1m10/10\u001b[0m \u001b[32m━━━━━━━━━━━━━━━━━━━━\u001b[0m\u001b[37m\u001b[0m \u001b[1m0s\u001b[0m 5ms/step - accuracy: 0.8886 - loss: 0.2721 - val_accuracy: 0.8750 - val_loss: 0.2804\n",
      "Epoch 32/100\n",
      "\u001b[1m10/10\u001b[0m \u001b[32m━━━━━━━━━━━━━━━━━━━━\u001b[0m\u001b[37m\u001b[0m \u001b[1m0s\u001b[0m 5ms/step - accuracy: 0.9043 - loss: 0.2181 - val_accuracy: 0.8750 - val_loss: 0.2800\n",
      "Epoch 33/100\n",
      "\u001b[1m10/10\u001b[0m \u001b[32m━━━━━━━━━━━━━━━━━━━━\u001b[0m\u001b[37m\u001b[0m \u001b[1m0s\u001b[0m 5ms/step - accuracy: 0.9008 - loss: 0.2555 - val_accuracy: 0.8750 - val_loss: 0.2790\n",
      "Epoch 34/100\n",
      "\u001b[1m10/10\u001b[0m \u001b[32m━━━━━━━━━━━━━━━━━━━━\u001b[0m\u001b[37m\u001b[0m \u001b[1m0s\u001b[0m 5ms/step - accuracy: 0.8938 - loss: 0.2715 - val_accuracy: 0.8750 - val_loss: 0.2764\n",
      "Epoch 35/100\n",
      "\u001b[1m10/10\u001b[0m \u001b[32m━━━━━━━━━━━━━━━━━━━━\u001b[0m\u001b[37m\u001b[0m \u001b[1m0s\u001b[0m 5ms/step - accuracy: 0.8837 - loss: 0.2825 - val_accuracy: 0.8750 - val_loss: 0.2757\n",
      "Epoch 36/100\n",
      "\u001b[1m10/10\u001b[0m \u001b[32m━━━━━━━━━━━━━━━━━━━━\u001b[0m\u001b[37m\u001b[0m \u001b[1m0s\u001b[0m 5ms/step - accuracy: 0.9159 - loss: 0.2274 - val_accuracy: 0.8750 - val_loss: 0.2751\n",
      "Epoch 37/100\n",
      "\u001b[1m10/10\u001b[0m \u001b[32m━━━━━━━━━━━━━━━━━━━━\u001b[0m\u001b[37m\u001b[0m \u001b[1m0s\u001b[0m 5ms/step - accuracy: 0.9087 - loss: 0.2495 - val_accuracy: 0.8750 - val_loss: 0.2759\n",
      "Epoch 38/100\n",
      "\u001b[1m10/10\u001b[0m \u001b[32m━━━━━━━━━━━━━━━━━━━━\u001b[0m\u001b[37m\u001b[0m \u001b[1m0s\u001b[0m 5ms/step - accuracy: 0.9062 - loss: 0.2371 - val_accuracy: 0.8750 - val_loss: 0.2764\n",
      "Epoch 39/100\n",
      "\u001b[1m10/10\u001b[0m \u001b[32m━━━━━━━━━━━━━━━━━━━━\u001b[0m\u001b[37m\u001b[0m \u001b[1m0s\u001b[0m 5ms/step - accuracy: 0.9173 - loss: 0.2274 - val_accuracy: 0.8750 - val_loss: 0.2749\n",
      "Epoch 40/100\n",
      "\u001b[1m10/10\u001b[0m \u001b[32m━━━━━━━━━━━━━━━━━━━━\u001b[0m\u001b[37m\u001b[0m \u001b[1m0s\u001b[0m 5ms/step - accuracy: 0.9111 - loss: 0.2410 - val_accuracy: 0.8750 - val_loss: 0.2722\n",
      "Epoch 41/100\n",
      "\u001b[1m10/10\u001b[0m \u001b[32m━━━━━━━━━━━━━━━━━━━━\u001b[0m\u001b[37m\u001b[0m \u001b[1m0s\u001b[0m 5ms/step - accuracy: 0.8939 - loss: 0.2751 - val_accuracy: 0.8750 - val_loss: 0.2729\n",
      "Epoch 42/100\n",
      "\u001b[1m10/10\u001b[0m \u001b[32m━━━━━━━━━━━━━━━━━━━━\u001b[0m\u001b[37m\u001b[0m \u001b[1m0s\u001b[0m 5ms/step - accuracy: 0.9085 - loss: 0.2216 - val_accuracy: 0.8750 - val_loss: 0.2737\n",
      "Epoch 43/100\n",
      "\u001b[1m10/10\u001b[0m \u001b[32m━━━━━━━━━━━━━━━━━━━━\u001b[0m\u001b[37m\u001b[0m \u001b[1m0s\u001b[0m 5ms/step - accuracy: 0.8939 - loss: 0.2558 - val_accuracy: 0.8750 - val_loss: 0.2737\n",
      "Epoch 44/100\n",
      "\u001b[1m10/10\u001b[0m \u001b[32m━━━━━━━━━━━━━━━━━━━━\u001b[0m\u001b[37m\u001b[0m \u001b[1m0s\u001b[0m 5ms/step - accuracy: 0.8962 - loss: 0.2391 - val_accuracy: 0.8750 - val_loss: 0.2715\n",
      "Epoch 45/100\n",
      "\u001b[1m10/10\u001b[0m \u001b[32m━━━━━━━━━━━━━━━━━━━━\u001b[0m\u001b[37m\u001b[0m \u001b[1m0s\u001b[0m 5ms/step - accuracy: 0.8773 - loss: 0.2564 - val_accuracy: 0.8750 - val_loss: 0.2704\n",
      "Epoch 46/100\n",
      "\u001b[1m10/10\u001b[0m \u001b[32m━━━━━━━━━━━━━━━━━━━━\u001b[0m\u001b[37m\u001b[0m \u001b[1m0s\u001b[0m 5ms/step - accuracy: 0.9046 - loss: 0.2523 - val_accuracy: 0.8750 - val_loss: 0.2698\n",
      "Epoch 47/100\n",
      "\u001b[1m10/10\u001b[0m \u001b[32m━━━━━━━━━━━━━━━━━━━━\u001b[0m\u001b[37m\u001b[0m \u001b[1m0s\u001b[0m 5ms/step - accuracy: 0.9099 - loss: 0.2194 - val_accuracy: 0.8750 - val_loss: 0.2702\n",
      "Epoch 48/100\n",
      "\u001b[1m10/10\u001b[0m \u001b[32m━━━━━━━━━━━━━━━━━━━━\u001b[0m\u001b[37m\u001b[0m \u001b[1m0s\u001b[0m 5ms/step - accuracy: 0.8880 - loss: 0.2733 - val_accuracy: 0.8750 - val_loss: 0.2704\n",
      "Epoch 49/100\n",
      "\u001b[1m10/10\u001b[0m \u001b[32m━━━━━━━━━━━━━━━━━━━━\u001b[0m\u001b[37m\u001b[0m \u001b[1m0s\u001b[0m 5ms/step - accuracy: 0.9083 - loss: 0.2258 - val_accuracy: 0.8750 - val_loss: 0.2683\n",
      "Epoch 50/100\n",
      "\u001b[1m10/10\u001b[0m \u001b[32m━━━━━━━━━━━━━━━━━━━━\u001b[0m\u001b[37m\u001b[0m \u001b[1m0s\u001b[0m 5ms/step - accuracy: 0.9199 - loss: 0.2272 - val_accuracy: 0.8750 - val_loss: 0.2676\n",
      "Epoch 51/100\n",
      "\u001b[1m10/10\u001b[0m \u001b[32m━━━━━━━━━━━━━━━━━━━━\u001b[0m\u001b[37m\u001b[0m \u001b[1m0s\u001b[0m 5ms/step - accuracy: 0.9035 - loss: 0.2413 - val_accuracy: 0.8875 - val_loss: 0.2687\n",
      "Epoch 52/100\n",
      "\u001b[1m10/10\u001b[0m \u001b[32m━━━━━━━━━━━━━━━━━━━━\u001b[0m\u001b[37m\u001b[0m \u001b[1m0s\u001b[0m 5ms/step - accuracy: 0.9120 - loss: 0.2152 - val_accuracy: 0.8875 - val_loss: 0.2672\n",
      "Epoch 53/100\n",
      "\u001b[1m10/10\u001b[0m \u001b[32m━━━━━━━━━━━━━━━━━━━━\u001b[0m\u001b[37m\u001b[0m \u001b[1m0s\u001b[0m 5ms/step - accuracy: 0.8998 - loss: 0.2364 - val_accuracy: 0.8750 - val_loss: 0.2697\n",
      "Epoch 54/100\n",
      "\u001b[1m10/10\u001b[0m \u001b[32m━━━━━━━━━━━━━━━━━━━━\u001b[0m\u001b[37m\u001b[0m \u001b[1m0s\u001b[0m 5ms/step - accuracy: 0.8883 - loss: 0.2454 - val_accuracy: 0.8750 - val_loss: 0.2688\n",
      "Epoch 55/100\n",
      "\u001b[1m10/10\u001b[0m \u001b[32m━━━━━━━━━━━━━━━━━━━━\u001b[0m\u001b[37m\u001b[0m \u001b[1m0s\u001b[0m 5ms/step - accuracy: 0.8779 - loss: 0.2740 - val_accuracy: 0.9125 - val_loss: 0.2664\n",
      "Epoch 56/100\n",
      "\u001b[1m10/10\u001b[0m \u001b[32m━━━━━━━━━━━━━━━━━━━━\u001b[0m\u001b[37m\u001b[0m \u001b[1m0s\u001b[0m 5ms/step - accuracy: 0.9233 - loss: 0.2092 - val_accuracy: 0.8875 - val_loss: 0.2675\n",
      "Epoch 57/100\n",
      "\u001b[1m10/10\u001b[0m \u001b[32m━━━━━━━━━━━━━━━━━━━━\u001b[0m\u001b[37m\u001b[0m \u001b[1m0s\u001b[0m 5ms/step - accuracy: 0.9053 - loss: 0.2532 - val_accuracy: 0.9000 - val_loss: 0.2686\n",
      "Epoch 58/100\n",
      "\u001b[1m10/10\u001b[0m \u001b[32m━━━━━━━━━━━━━━━━━━━━\u001b[0m\u001b[37m\u001b[0m \u001b[1m0s\u001b[0m 5ms/step - accuracy: 0.8937 - loss: 0.2690 - val_accuracy: 0.9000 - val_loss: 0.2696\n",
      "Epoch 59/100\n",
      "\u001b[1m10/10\u001b[0m \u001b[32m━━━━━━━━━━━━━━━━━━━━\u001b[0m\u001b[37m\u001b[0m \u001b[1m0s\u001b[0m 5ms/step - accuracy: 0.9106 - loss: 0.2239 - val_accuracy: 0.9000 - val_loss: 0.2679\n",
      "Epoch 60/100\n",
      "\u001b[1m10/10\u001b[0m \u001b[32m━━━━━━━━━━━━━━━━━━━━\u001b[0m\u001b[37m\u001b[0m \u001b[1m0s\u001b[0m 5ms/step - accuracy: 0.9323 - loss: 0.1931 - val_accuracy: 0.9125 - val_loss: 0.2642\n",
      "Epoch 61/100\n",
      "\u001b[1m10/10\u001b[0m \u001b[32m━━━━━━━━━━━━━━━━━━━━\u001b[0m\u001b[37m\u001b[0m \u001b[1m0s\u001b[0m 5ms/step - accuracy: 0.8918 - loss: 0.2559 - val_accuracy: 0.9000 - val_loss: 0.2686\n",
      "Epoch 62/100\n",
      "\u001b[1m10/10\u001b[0m \u001b[32m━━━━━━━━━━━━━━━━━━━━\u001b[0m\u001b[37m\u001b[0m \u001b[1m0s\u001b[0m 5ms/step - accuracy: 0.9052 - loss: 0.2359 - val_accuracy: 0.8750 - val_loss: 0.2698\n",
      "Epoch 63/100\n",
      "\u001b[1m10/10\u001b[0m \u001b[32m━━━━━━━━━━━━━━━━━━━━\u001b[0m\u001b[37m\u001b[0m \u001b[1m0s\u001b[0m 5ms/step - accuracy: 0.9171 - loss: 0.2335 - val_accuracy: 0.9125 - val_loss: 0.2672\n",
      "Epoch 64/100\n",
      "\u001b[1m10/10\u001b[0m \u001b[32m━━━━━━━━━━━━━━━━━━━━\u001b[0m\u001b[37m\u001b[0m \u001b[1m0s\u001b[0m 5ms/step - accuracy: 0.9181 - loss: 0.2194 - val_accuracy: 0.9125 - val_loss: 0.2670\n",
      "Epoch 65/100\n",
      "\u001b[1m10/10\u001b[0m \u001b[32m━━━━━━━━━━━━━━━━━━━━\u001b[0m\u001b[37m\u001b[0m \u001b[1m0s\u001b[0m 5ms/step - accuracy: 0.8887 - loss: 0.2431 - val_accuracy: 0.9125 - val_loss: 0.2673\n",
      "Epoch 66/100\n",
      "\u001b[1m10/10\u001b[0m \u001b[32m━━━━━━━━━━━━━━━━━━━━\u001b[0m\u001b[37m\u001b[0m \u001b[1m0s\u001b[0m 5ms/step - accuracy: 0.8897 - loss: 0.2517 - val_accuracy: 0.9125 - val_loss: 0.2668\n",
      "Epoch 67/100\n",
      "\u001b[1m10/10\u001b[0m \u001b[32m━━━━━━━━━━━━━━━━━━━━\u001b[0m\u001b[37m\u001b[0m \u001b[1m0s\u001b[0m 5ms/step - accuracy: 0.9003 - loss: 0.2688 - val_accuracy: 0.9125 - val_loss: 0.2653\n",
      "Epoch 68/100\n",
      "\u001b[1m10/10\u001b[0m \u001b[32m━━━━━━━━━━━━━━━━━━━━\u001b[0m\u001b[37m\u001b[0m \u001b[1m0s\u001b[0m 6ms/step - accuracy: 0.9221 - loss: 0.2205 - val_accuracy: 0.9125 - val_loss: 0.2665\n",
      "Epoch 69/100\n",
      "\u001b[1m10/10\u001b[0m \u001b[32m━━━━━━━━━━━━━━━━━━━━\u001b[0m\u001b[37m\u001b[0m \u001b[1m0s\u001b[0m 5ms/step - accuracy: 0.8975 - loss: 0.2385 - val_accuracy: 0.9125 - val_loss: 0.2673\n",
      "Epoch 70/100\n",
      "\u001b[1m10/10\u001b[0m \u001b[32m━━━━━━━━━━━━━━━━━━━━\u001b[0m\u001b[37m\u001b[0m \u001b[1m0s\u001b[0m 5ms/step - accuracy: 0.9201 - loss: 0.2011 - val_accuracy: 0.9125 - val_loss: 0.2644\n",
      "Epoch 71/100\n",
      "\u001b[1m10/10\u001b[0m \u001b[32m━━━━━━━━━━━━━━━━━━━━\u001b[0m\u001b[37m\u001b[0m \u001b[1m0s\u001b[0m 5ms/step - accuracy: 0.9051 - loss: 0.2439 - val_accuracy: 0.9125 - val_loss: 0.2655\n",
      "Epoch 72/100\n",
      "\u001b[1m10/10\u001b[0m \u001b[32m━━━━━━━━━━━━━━━━━━━━\u001b[0m\u001b[37m\u001b[0m \u001b[1m0s\u001b[0m 5ms/step - accuracy: 0.9251 - loss: 0.1945 - val_accuracy: 0.9125 - val_loss: 0.2657\n",
      "Epoch 73/100\n",
      "\u001b[1m10/10\u001b[0m \u001b[32m━━━━━━━━━━━━━━━━━━━━\u001b[0m\u001b[37m\u001b[0m \u001b[1m0s\u001b[0m 5ms/step - accuracy: 0.9114 - loss: 0.2251 - val_accuracy: 0.9125 - val_loss: 0.2658\n",
      "Epoch 74/100\n",
      "\u001b[1m10/10\u001b[0m \u001b[32m━━━━━━━━━━━━━━━━━━━━\u001b[0m\u001b[37m\u001b[0m \u001b[1m0s\u001b[0m 5ms/step - accuracy: 0.9014 - loss: 0.2319 - val_accuracy: 0.9125 - val_loss: 0.2666\n",
      "Epoch 75/100\n",
      "\u001b[1m10/10\u001b[0m \u001b[32m━━━━━━━━━━━━━━━━━━━━\u001b[0m\u001b[37m\u001b[0m \u001b[1m0s\u001b[0m 5ms/step - accuracy: 0.9029 - loss: 0.2464 - val_accuracy: 0.9125 - val_loss: 0.2696\n",
      "Epoch 76/100\n",
      "\u001b[1m10/10\u001b[0m \u001b[32m━━━━━━━━━━━━━━━━━━━━\u001b[0m\u001b[37m\u001b[0m \u001b[1m0s\u001b[0m 5ms/step - accuracy: 0.8946 - loss: 0.2975 - val_accuracy: 0.9000 - val_loss: 0.2695\n",
      "Epoch 77/100\n",
      "\u001b[1m10/10\u001b[0m \u001b[32m━━━━━━━━━━━━━━━━━━━━\u001b[0m\u001b[37m\u001b[0m \u001b[1m0s\u001b[0m 5ms/step - accuracy: 0.9148 - loss: 0.2255 - val_accuracy: 0.9125 - val_loss: 0.2649\n",
      "Epoch 78/100\n",
      "\u001b[1m10/10\u001b[0m \u001b[32m━━━━━━━━━━━━━━━━━━━━\u001b[0m\u001b[37m\u001b[0m \u001b[1m0s\u001b[0m 5ms/step - accuracy: 0.9248 - loss: 0.2147 - val_accuracy: 0.9125 - val_loss: 0.2671\n",
      "Epoch 79/100\n",
      "\u001b[1m10/10\u001b[0m \u001b[32m━━━━━━━━━━━━━━━━━━━━\u001b[0m\u001b[37m\u001b[0m \u001b[1m0s\u001b[0m 5ms/step - accuracy: 0.9242 - loss: 0.2174 - val_accuracy: 0.9125 - val_loss: 0.2665\n",
      "Epoch 80/100\n",
      "\u001b[1m10/10\u001b[0m \u001b[32m━━━━━━━━━━━━━━━━━━━━\u001b[0m\u001b[37m\u001b[0m \u001b[1m0s\u001b[0m 5ms/step - accuracy: 0.9148 - loss: 0.2010 - val_accuracy: 0.9125 - val_loss: 0.2666\n",
      "Epoch 81/100\n",
      "\u001b[1m10/10\u001b[0m \u001b[32m━━━━━━━━━━━━━━━━━━━━\u001b[0m\u001b[37m\u001b[0m \u001b[1m0s\u001b[0m 6ms/step - accuracy: 0.8958 - loss: 0.2682 - val_accuracy: 0.9125 - val_loss: 0.2652\n",
      "Epoch 82/100\n",
      "\u001b[1m10/10\u001b[0m \u001b[32m━━━━━━━━━━━━━━━━━━━━\u001b[0m\u001b[37m\u001b[0m \u001b[1m0s\u001b[0m 5ms/step - accuracy: 0.9112 - loss: 0.2172 - val_accuracy: 0.9125 - val_loss: 0.2649\n",
      "Epoch 83/100\n",
      "\u001b[1m10/10\u001b[0m \u001b[32m━━━━━━━━━━━━━━━━━━━━\u001b[0m\u001b[37m\u001b[0m \u001b[1m0s\u001b[0m 5ms/step - accuracy: 0.9124 - loss: 0.2243 - val_accuracy: 0.9125 - val_loss: 0.2640\n",
      "Epoch 84/100\n",
      "\u001b[1m10/10\u001b[0m \u001b[32m━━━━━━━━━━━━━━━━━━━━\u001b[0m\u001b[37m\u001b[0m \u001b[1m0s\u001b[0m 5ms/step - accuracy: 0.9012 - loss: 0.2474 - val_accuracy: 0.9125 - val_loss: 0.2654\n",
      "Epoch 85/100\n",
      "\u001b[1m10/10\u001b[0m \u001b[32m━━━━━━━━━━━━━━━━━━━━\u001b[0m\u001b[37m\u001b[0m \u001b[1m0s\u001b[0m 5ms/step - accuracy: 0.9079 - loss: 0.2498 - val_accuracy: 0.9125 - val_loss: 0.2645\n",
      "Epoch 86/100\n",
      "\u001b[1m10/10\u001b[0m \u001b[32m━━━━━━━━━━━━━━━━━━━━\u001b[0m\u001b[37m\u001b[0m \u001b[1m0s\u001b[0m 5ms/step - accuracy: 0.9202 - loss: 0.2196 - val_accuracy: 0.9125 - val_loss: 0.2665\n",
      "Epoch 87/100\n",
      "\u001b[1m10/10\u001b[0m \u001b[32m━━━━━━━━━━━━━━━━━━━━\u001b[0m\u001b[37m\u001b[0m \u001b[1m0s\u001b[0m 5ms/step - accuracy: 0.9133 - loss: 0.2338 - val_accuracy: 0.9125 - val_loss: 0.2637\n",
      "Epoch 88/100\n",
      "\u001b[1m10/10\u001b[0m \u001b[32m━━━━━━━━━━━━━━━━━━━━\u001b[0m\u001b[37m\u001b[0m \u001b[1m0s\u001b[0m 5ms/step - accuracy: 0.8957 - loss: 0.2267 - val_accuracy: 0.9125 - val_loss: 0.2648\n",
      "Epoch 89/100\n",
      "\u001b[1m10/10\u001b[0m \u001b[32m━━━━━━━━━━━━━━━━━━━━\u001b[0m\u001b[37m\u001b[0m \u001b[1m0s\u001b[0m 5ms/step - accuracy: 0.9015 - loss: 0.2443 - val_accuracy: 0.9125 - val_loss: 0.2661\n",
      "Epoch 90/100\n",
      "\u001b[1m10/10\u001b[0m \u001b[32m━━━━━━━━━━━━━━━━━━━━\u001b[0m\u001b[37m\u001b[0m \u001b[1m0s\u001b[0m 8ms/step - accuracy: 0.9265 - loss: 0.2237 - val_accuracy: 0.9125 - val_loss: 0.2676\n",
      "Epoch 91/100\n",
      "\u001b[1m10/10\u001b[0m \u001b[32m━━━━━━━━━━━━━━━━━━━━\u001b[0m\u001b[37m\u001b[0m \u001b[1m0s\u001b[0m 5ms/step - accuracy: 0.9040 - loss: 0.2264 - val_accuracy: 0.9125 - val_loss: 0.2653\n",
      "Epoch 92/100\n",
      "\u001b[1m10/10\u001b[0m \u001b[32m━━━━━━━━━━━━━━━━━━━━\u001b[0m\u001b[37m\u001b[0m \u001b[1m0s\u001b[0m 5ms/step - accuracy: 0.9339 - loss: 0.2160 - val_accuracy: 0.9125 - val_loss: 0.2650\n",
      "Epoch 93/100\n",
      "\u001b[1m10/10\u001b[0m \u001b[32m━━━━━━━━━━━━━━━━━━━━\u001b[0m\u001b[37m\u001b[0m \u001b[1m0s\u001b[0m 5ms/step - accuracy: 0.9124 - loss: 0.2261 - val_accuracy: 0.9125 - val_loss: 0.2642\n",
      "Epoch 94/100\n",
      "\u001b[1m10/10\u001b[0m \u001b[32m━━━━━━━━━━━━━━━━━━━━\u001b[0m\u001b[37m\u001b[0m \u001b[1m0s\u001b[0m 5ms/step - accuracy: 0.9334 - loss: 0.1895 - val_accuracy: 0.9125 - val_loss: 0.2647\n",
      "Epoch 95/100\n",
      "\u001b[1m10/10\u001b[0m \u001b[32m━━━━━━━━━━━━━━━━━━━━\u001b[0m\u001b[37m\u001b[0m \u001b[1m0s\u001b[0m 5ms/step - accuracy: 0.9295 - loss: 0.2116 - val_accuracy: 0.9125 - val_loss: 0.2648\n",
      "Epoch 96/100\n",
      "\u001b[1m10/10\u001b[0m \u001b[32m━━━━━━━━━━━━━━━━━━━━\u001b[0m\u001b[37m\u001b[0m \u001b[1m0s\u001b[0m 5ms/step - accuracy: 0.9186 - loss: 0.2157 - val_accuracy: 0.9125 - val_loss: 0.2647\n",
      "Epoch 97/100\n",
      "\u001b[1m10/10\u001b[0m \u001b[32m━━━━━━━━━━━━━━━━━━━━\u001b[0m\u001b[37m\u001b[0m \u001b[1m0s\u001b[0m 5ms/step - accuracy: 0.8981 - loss: 0.2826 - val_accuracy: 0.9125 - val_loss: 0.2641\n",
      "Epoch 98/100\n",
      "\u001b[1m10/10\u001b[0m \u001b[32m━━━━━━━━━━━━━━━━━━━━\u001b[0m\u001b[37m\u001b[0m \u001b[1m0s\u001b[0m 5ms/step - accuracy: 0.8943 - loss: 0.2692 - val_accuracy: 0.9125 - val_loss: 0.2644\n",
      "Epoch 99/100\n",
      "\u001b[1m10/10\u001b[0m \u001b[32m━━━━━━━━━━━━━━━━━━━━\u001b[0m\u001b[37m\u001b[0m \u001b[1m0s\u001b[0m 5ms/step - accuracy: 0.9245 - loss: 0.2046 - val_accuracy: 0.9125 - val_loss: 0.2634\n",
      "Epoch 100/100\n",
      "\u001b[1m10/10\u001b[0m \u001b[32m━━━━━━━━━━━━━━━━━━━━\u001b[0m\u001b[37m\u001b[0m \u001b[1m0s\u001b[0m 5ms/step - accuracy: 0.9099 - loss: 0.2231 - val_accuracy: 0.9125 - val_loss: 0.2645\n"
     ]
    }
   ],
   "source": [
    "model = Sequential()\n",
    "\n",
    "model.add(Dense(128,activation='relu',input_dim=2))\n",
    "model.add(Dense(1,activation='sigmoid'))\n",
    "\n",
    "model.compile(optimizer='adam',loss='binary_crossentropy',metrics=['accuracy'])\n",
    "history = model.fit(X_train_scaled,y_train,validation_data=(X_test_scaled,y_test),epochs=100)"
   ]
  },
  {
   "cell_type": "code",
   "execution_count": 18,
   "id": "a3ca086b",
   "metadata": {
    "execution": {
     "iopub.execute_input": "2024-10-04T04:09:42.358714Z",
     "iopub.status.busy": "2024-10-04T04:09:42.358276Z",
     "iopub.status.idle": "2024-10-04T04:09:42.613817Z",
     "shell.execute_reply": "2024-10-04T04:09:42.612496Z"
    },
    "papermill": {
     "duration": 0.308921,
     "end_time": "2024-10-04T04:09:42.616320",
     "exception": false,
     "start_time": "2024-10-04T04:09:42.307399",
     "status": "completed"
    },
    "tags": []
   },
   "outputs": [
    {
     "data": {
      "text/plain": [
       "Text(0.5, 1.0, 'Validation Accuracy after Feature Scaling')"
      ]
     },
     "execution_count": 18,
     "metadata": {},
     "output_type": "execute_result"
    },
    {
     "data": {
      "image/png": "[encoded data removed]",
      "text/plain": [
       "<Figure size 640x480 with 1 Axes>"
      ]
     },
     "metadata": {},
     "output_type": "display_data"
    }
   ],
   "source": [
    "plt.plot(history.history['val_accuracy'])\n",
    "plt.title(\"Validation Accuracy after Feature Scaling\")"
   ]
  },
  {
   "cell_type": "code",
   "execution_count": null,
   "id": "887e6842",
   "metadata": {
    "papermill": {
     "duration": 0.049402,
     "end_time": "2024-10-04T04:09:42.714298",
     "exception": false,
     "start_time": "2024-10-04T04:09:42.664896",
     "status": "completed"
    },
    "tags": []
   },
   "outputs": [],
   "source": []
  }
 ],
 "metadata": {
  "kaggle": {
   "accelerator": "none",
   "dataSources": [
    {
     "datasetId": 3646011,
     "sourceId": 6333866,
     "sourceType": "datasetVersion"
    }
   ],
   "dockerImageVersionId": 30786,
   "isGpuEnabled": false,
   "isInternetEnabled": true,
   "language": "python",
   "sourceType": "notebook"
  },
  "kernelspec": {
   "display_name": "Python 3",
   "language": "python",
   "name": "python3"
  },
  "language_info": {
   "codemirror_mode": {
    "name": "ipython",
    "version": 3
   },
   "file_extension": ".py",
   "mimetype": "text/x-python",
   "name": "python",
   "nbconvert_exporter": "python",
   "pygments_lexer": "ipython3",
   "version": "3.10.14"
  },
  "papermill": {
   "default_parameters": {},
   "duration": 41.827531,
   "end_time": "2024-10-04T04:09:45.061808",
   "environment_variables": {},
   "exception": null,
   "input_path": "__notebook__.ipynb",
   "output_path": "__notebook__.ipynb",
   "parameters": {},
   "start_time": "2024-10-04T04:09:03.234277",
   "version": "2.6.0"
  }
 },
 "nbformat": 4,
 "nbformat_minor": 5
}
