{
 "cells": [
  {
   "cell_type": "markdown",
   "id": "ff2844da",
   "metadata": {
    "papermill": {
     "duration": 0.006352,
     "end_time": "2024-10-16T05:29:56.047758",
     "exception": false,
     "start_time": "2024-10-16T05:29:56.041406",
     "status": "completed"
    },
    "tags": []
   },
   "source": [
    "# Exponentially Weighted Moving Average (EWMA):\n",
    "- EWMA is techniqe that is used to find hidden trend in **Time Series Data**. \n",
    "- More weightage to upcoming points rather than previous points.\n",
    "- Overtime Weightage of any point is decreasing.\n",
    "# EWMA Used in:\n",
    "- time series data\n",
    "- signal processing\n",
    "- optimizers\n",
    "- financial\n",
    "- deep learning\n",
    "# How it is work ?\n",
    "for weightage moving average of time series data at time t is given by,\n",
    "- **V)t = B* V)t-1 + (1-B) * θ)t** , where\n",
    "    - B(Beta) , is constant lie between is 0 to 1\n",
    "    - V)t , is current weightage moving average of time series data at time **t**\n",
    "    - V)t-1 , is previous weightage moving average of time series data at time **t-1**\n",
    "- **if value of Beta(B) is High** means that we are giving more value to previous point\n",
    "- **if value of Beta(B) is low** means that we are giving more value to current point\n",
    "\n",
    "# EWMA concept is used during optimizers in deep learning like momentum, SGD momentum, NAG, Adagrad, RMprop and Adam\n"
   ]
  },
  {
   "cell_type": "code",
   "execution_count": 1,
   "id": "5ebd4f9b",
   "metadata": {
    "_cell_guid": "b1076dfc-b9ad-4769-8c92-a6c4dae69d19",
    "_uuid": "8f2839f25d086af736a60e9eeb907d3b93b6e0e5",
    "execution": {
     "iopub.execute_input": "2024-10-16T05:29:56.061467Z",
     "iopub.status.busy": "2024-10-16T05:29:56.060886Z",
     "iopub.status.idle": "2024-10-16T05:29:57.299171Z",
     "shell.execute_reply": "2024-10-16T05:29:57.297797Z"
    },
    "papermill": {
     "duration": 1.248228,
     "end_time": "2024-10-16T05:29:57.301855",
     "exception": false,
     "start_time": "2024-10-16T05:29:56.053627",
     "status": "completed"
    },
    "tags": []
   },
   "outputs": [
    {
     "name": "stdout",
     "output_type": "stream",
     "text": [
      "/kaggle/input/dailydelhiclimatetrain-t2/DailyDelhiClimateTest.csv\n"
     ]
    }
   ],
   "source": [
    "import numpy as np # linear algebra\n",
    "import pandas as pd # data processing, CSV file I/O (e.g. pd.read_csv)\n",
    "\n",
    "\n",
    "import os\n",
    "for dirname, _, filenames in os.walk('/kaggle/input'):\n",
    "    for filename in filenames:\n",
    "        print(os.path.join(dirname, filename))"
   ]
  },
  {
   "cell_type": "code",
   "execution_count": 2,
   "id": "e30cae83",
   "metadata": {
    "execution": {
     "iopub.execute_input": "2024-10-16T05:29:57.315484Z",
     "iopub.status.busy": "2024-10-16T05:29:57.314873Z",
     "iopub.status.idle": "2024-10-16T05:29:57.336808Z",
     "shell.execute_reply": "2024-10-16T05:29:57.335633Z"
    },
    "papermill": {
     "duration": 0.031874,
     "end_time": "2024-10-16T05:29:57.339674",
     "exception": false,
     "start_time": "2024-10-16T05:29:57.307800",
     "status": "completed"
    },
    "tags": []
   },
   "outputs": [],
   "source": [
    "df = pd.read_csv(\"/kaggle/input/dailydelhiclimatetrain-t2/DailyDelhiClimateTest.csv\")"
   ]
  },
  {
   "cell_type": "code",
   "execution_count": 3,
   "id": "0d6defbf",
   "metadata": {
    "execution": {
     "iopub.execute_input": "2024-10-16T05:29:57.353290Z",
     "iopub.status.busy": "2024-10-16T05:29:57.352766Z",
     "iopub.status.idle": "2024-10-16T05:29:57.383631Z",
     "shell.execute_reply": "2024-10-16T05:29:57.382471Z"
    },
    "papermill": {
     "duration": 0.040788,
     "end_time": "2024-10-16T05:29:57.386329",
     "exception": false,
     "start_time": "2024-10-16T05:29:57.345541",
     "status": "completed"
    },
    "tags": []
   },
   "outputs": [
    {
     "data": {
      "text/html": [
       "<div>\n",
       "<style scoped>\n",
       "    .dataframe tbody tr th:only-of-type {\n",
       "        vertical-align: middle;\n",
       "    }\n",
       "\n",
       "    .dataframe tbody tr th {\n",
       "        vertical-align: top;\n",
       "    }\n",
       "\n",
       "    .dataframe thead th {\n",
       "        text-align: right;\n",
       "    }\n",
       "</style>\n",
       "<table border=\"1\" class=\"dataframe\">\n",
       "  <thead>\n",
       "    <tr style=\"text-align: right;\">\n",
       "      <th></th>\n",
       "      <th>date</th>\n",
       "      <th>meantemp</th>\n",
       "      <th>humidity</th>\n",
       "      <th>wind_speed</th>\n",
       "      <th>meanpressure</th>\n",
       "    </tr>\n",
       "  </thead>\n",
       "  <tbody>\n",
       "    <tr>\n",
       "      <th>0</th>\n",
       "      <td>2017-01-01</td>\n",
       "      <td>15.913043</td>\n",
       "      <td>85.869565</td>\n",
       "      <td>2.743478</td>\n",
       "      <td>59.000000</td>\n",
       "    </tr>\n",
       "    <tr>\n",
       "      <th>1</th>\n",
       "      <td>2017-01-02</td>\n",
       "      <td>18.500000</td>\n",
       "      <td>77.222222</td>\n",
       "      <td>2.894444</td>\n",
       "      <td>1018.277778</td>\n",
       "    </tr>\n",
       "    <tr>\n",
       "      <th>2</th>\n",
       "      <td>2017-01-03</td>\n",
       "      <td>17.111111</td>\n",
       "      <td>81.888889</td>\n",
       "      <td>4.016667</td>\n",
       "      <td>1018.333333</td>\n",
       "    </tr>\n",
       "    <tr>\n",
       "      <th>3</th>\n",
       "      <td>2017-01-04</td>\n",
       "      <td>18.700000</td>\n",
       "      <td>70.050000</td>\n",
       "      <td>4.545000</td>\n",
       "      <td>1015.700000</td>\n",
       "    </tr>\n",
       "    <tr>\n",
       "      <th>4</th>\n",
       "      <td>2017-01-05</td>\n",
       "      <td>18.388889</td>\n",
       "      <td>74.944444</td>\n",
       "      <td>3.300000</td>\n",
       "      <td>1014.333333</td>\n",
       "    </tr>\n",
       "  </tbody>\n",
       "</table>\n",
       "</div>"
      ],
      "text/plain": [
       "         date   meantemp   humidity  wind_speed  meanpressure\n",
       "0  2017-01-01  15.913043  85.869565    2.743478     59.000000\n",
       "1  2017-01-02  18.500000  77.222222    2.894444   1018.277778\n",
       "2  2017-01-03  17.111111  81.888889    4.016667   1018.333333\n",
       "3  2017-01-04  18.700000  70.050000    4.545000   1015.700000\n",
       "4  2017-01-05  18.388889  74.944444    3.300000   1014.333333"
      ]
     },
     "execution_count": 3,
     "metadata": {},
     "output_type": "execute_result"
    }
   ],
   "source": [
    "df.head()"
   ]
  },
  {
   "cell_type": "code",
   "execution_count": 4,
   "id": "ffc1b781",
   "metadata": {
    "execution": {
     "iopub.execute_input": "2024-10-16T05:29:57.400467Z",
     "iopub.status.busy": "2024-10-16T05:29:57.399984Z",
     "iopub.status.idle": "2024-10-16T05:29:58.629066Z",
     "shell.execute_reply": "2024-10-16T05:29:58.627799Z"
    },
    "papermill": {
     "duration": 1.239441,
     "end_time": "2024-10-16T05:29:58.632017",
     "exception": false,
     "start_time": "2024-10-16T05:29:57.392576",
     "status": "completed"
    },
    "tags": []
   },
   "outputs": [
    {
     "data": {
      "text/plain": [
       "<matplotlib.collections.PathCollection at 0x7df4991bd240>"
      ]
     },
     "execution_count": 4,
     "metadata": {},
     "output_type": "execute_result"
    },
    {
     "data": {
      "image/png": "[encoded data removed]",
      "text/plain": [
       "<Figure size 640x480 with 1 Axes>"
      ]
     },
     "metadata": {},
     "output_type": "display_data"
    }
   ],
   "source": [
    "import matplotlib.pyplot as plt\n",
    "plt.scatter(df['date'],df['meantemp'],color='purple')"
   ]
  },
  {
   "cell_type": "markdown",
   "id": "cc49dcb4",
   "metadata": {
    "papermill": {
     "duration": 0.00638,
     "end_time": "2024-10-16T05:29:58.645183",
     "exception": false,
     "start_time": "2024-10-16T05:29:58.638803",
     "status": "completed"
    },
    "tags": []
   },
   "source": [
    "# Implement Python code for EWMA"
   ]
  },
  {
   "cell_type": "code",
   "execution_count": 5,
   "id": "fe2b7271",
   "metadata": {
    "execution": {
     "iopub.execute_input": "2024-10-16T05:29:58.660374Z",
     "iopub.status.busy": "2024-10-16T05:29:58.659924Z",
     "iopub.status.idle": "2024-10-16T05:29:58.666891Z",
     "shell.execute_reply": "2024-10-16T05:29:58.665675Z"
    },
    "papermill": {
     "duration": 0.017634,
     "end_time": "2024-10-16T05:29:58.669558",
     "exception": false,
     "start_time": "2024-10-16T05:29:58.651924",
     "status": "completed"
    },
    "tags": []
   },
   "outputs": [],
   "source": [
    "def ewma(beta,data):\n",
    "    V = [data[0]]\n",
    "    for i in range(1,len(data)):\n",
    "        V_new = beta * V[i-1] + (1-beta) * data[i]\n",
    "        V.append(V_new)\n",
    "    return V\n",
    "        "
   ]
  },
  {
   "cell_type": "code",
   "execution_count": 6,
   "id": "4cbec18d",
   "metadata": {
    "execution": {
     "iopub.execute_input": "2024-10-16T05:29:58.684927Z",
     "iopub.status.busy": "2024-10-16T05:29:58.684478Z",
     "iopub.status.idle": "2024-10-16T05:29:58.691813Z",
     "shell.execute_reply": "2024-10-16T05:29:58.690362Z"
    },
    "papermill": {
     "duration": 0.018174,
     "end_time": "2024-10-16T05:29:58.694377",
     "exception": false,
     "start_time": "2024-10-16T05:29:58.676203",
     "status": "completed"
    },
    "tags": []
   },
   "outputs": [],
   "source": [
    "beta = 0.9\n",
    "data = df['meantemp']\n",
    "EWMA = pd.DataFrame(list(ewma(beta,data)))"
   ]
  },
  {
   "cell_type": "code",
   "execution_count": 7,
   "id": "78b8fb29",
   "metadata": {
    "execution": {
     "iopub.execute_input": "2024-10-16T05:29:58.710702Z",
     "iopub.status.busy": "2024-10-16T05:29:58.710199Z",
     "iopub.status.idle": "2024-10-16T05:29:58.726863Z",
     "shell.execute_reply": "2024-10-16T05:29:58.725620Z"
    },
    "papermill": {
     "duration": 0.027191,
     "end_time": "2024-10-16T05:29:58.729299",
     "exception": false,
     "start_time": "2024-10-16T05:29:58.702108",
     "status": "completed"
    },
    "tags": []
   },
   "outputs": [
    {
     "data": {
      "text/html": [
       "<div>\n",
       "<style scoped>\n",
       "    .dataframe tbody tr th:only-of-type {\n",
       "        vertical-align: middle;\n",
       "    }\n",
       "\n",
       "    .dataframe tbody tr th {\n",
       "        vertical-align: top;\n",
       "    }\n",
       "\n",
       "    .dataframe thead th {\n",
       "        text-align: right;\n",
       "    }\n",
       "</style>\n",
       "<table border=\"1\" class=\"dataframe\">\n",
       "  <thead>\n",
       "    <tr style=\"text-align: right;\">\n",
       "      <th></th>\n",
       "      <th>0</th>\n",
       "    </tr>\n",
       "  </thead>\n",
       "  <tbody>\n",
       "    <tr>\n",
       "      <th>0</th>\n",
       "      <td>15.913043</td>\n",
       "    </tr>\n",
       "    <tr>\n",
       "      <th>1</th>\n",
       "      <td>16.171739</td>\n",
       "    </tr>\n",
       "    <tr>\n",
       "      <th>2</th>\n",
       "      <td>16.265676</td>\n",
       "    </tr>\n",
       "    <tr>\n",
       "      <th>3</th>\n",
       "      <td>16.509109</td>\n",
       "    </tr>\n",
       "    <tr>\n",
       "      <th>4</th>\n",
       "      <td>16.697087</td>\n",
       "    </tr>\n",
       "    <tr>\n",
       "      <th>...</th>\n",
       "      <td>...</td>\n",
       "    </tr>\n",
       "    <tr>\n",
       "      <th>109</th>\n",
       "      <td>30.640030</td>\n",
       "    </tr>\n",
       "    <tr>\n",
       "      <th>110</th>\n",
       "      <td>31.001027</td>\n",
       "    </tr>\n",
       "    <tr>\n",
       "      <th>111</th>\n",
       "      <td>31.190924</td>\n",
       "    </tr>\n",
       "    <tr>\n",
       "      <th>112</th>\n",
       "      <td>31.359332</td>\n",
       "    </tr>\n",
       "    <tr>\n",
       "      <th>113</th>\n",
       "      <td>31.423398</td>\n",
       "    </tr>\n",
       "  </tbody>\n",
       "</table>\n",
       "<p>114 rows × 1 columns</p>\n",
       "</div>"
      ],
      "text/plain": [
       "             0\n",
       "0    15.913043\n",
       "1    16.171739\n",
       "2    16.265676\n",
       "3    16.509109\n",
       "4    16.697087\n",
       "..         ...\n",
       "109  30.640030\n",
       "110  31.001027\n",
       "111  31.190924\n",
       "112  31.359332\n",
       "113  31.423398\n",
       "\n",
       "[114 rows x 1 columns]"
      ]
     },
     "execution_count": 7,
     "metadata": {},
     "output_type": "execute_result"
    }
   ],
   "source": [
    "EWMA"
   ]
  },
  {
   "cell_type": "markdown",
   "id": "c8883061",
   "metadata": {
    "papermill": {
     "duration": 0.006558,
     "end_time": "2024-10-16T05:29:58.742906",
     "exception": false,
     "start_time": "2024-10-16T05:29:58.736348",
     "status": "completed"
    },
    "tags": []
   },
   "source": [
    "# EWMA using Panda"
   ]
  },
  {
   "cell_type": "code",
   "execution_count": 8,
   "id": "f1c2a073",
   "metadata": {
    "execution": {
     "iopub.execute_input": "2024-10-16T05:29:58.758574Z",
     "iopub.status.busy": "2024-10-16T05:29:58.758127Z",
     "iopub.status.idle": "2024-10-16T05:29:58.764379Z",
     "shell.execute_reply": "2024-10-16T05:29:58.763273Z"
    },
    "papermill": {
     "duration": 0.017027,
     "end_time": "2024-10-16T05:29:58.766881",
     "exception": false,
     "start_time": "2024-10-16T05:29:58.749854",
     "status": "completed"
    },
    "tags": []
   },
   "outputs": [],
   "source": [
    "\n",
    "x1 = df['meantemp'].ewm(alpha=0.9).mean()"
   ]
  },
  {
   "cell_type": "code",
   "execution_count": 9,
   "id": "58ccb021",
   "metadata": {
    "execution": {
     "iopub.execute_input": "2024-10-16T05:29:58.782927Z",
     "iopub.status.busy": "2024-10-16T05:29:58.782509Z",
     "iopub.status.idle": "2024-10-16T05:29:58.793176Z",
     "shell.execute_reply": "2024-10-16T05:29:58.791831Z"
    },
    "papermill": {
     "duration": 0.022062,
     "end_time": "2024-10-16T05:29:58.795824",
     "exception": false,
     "start_time": "2024-10-16T05:29:58.773762",
     "status": "completed"
    },
    "tags": []
   },
   "outputs": [
    {
     "data": {
      "text/plain": [
       "0      15.913043\n",
       "1      18.264822\n",
       "2      17.225443\n",
       "3      18.552677\n",
       "4      18.405266\n",
       "         ...    \n",
       "109    34.403401\n",
       "110    34.265340\n",
       "111    33.036534\n",
       "112    32.891153\n",
       "113    32.089115\n",
       "Name: meantemp, Length: 114, dtype: float64"
      ]
     },
     "execution_count": 9,
     "metadata": {},
     "output_type": "execute_result"
    }
   ],
   "source": [
    "x1"
   ]
  },
  {
   "cell_type": "code",
   "execution_count": 10,
   "id": "55a1adcb",
   "metadata": {
    "execution": {
     "iopub.execute_input": "2024-10-16T05:29:58.812185Z",
     "iopub.status.busy": "2024-10-16T05:29:58.811795Z",
     "iopub.status.idle": "2024-10-16T05:29:58.827803Z",
     "shell.execute_reply": "2024-10-16T05:29:58.826582Z"
    },
    "papermill": {
     "duration": 0.027404,
     "end_time": "2024-10-16T05:29:58.830374",
     "exception": false,
     "start_time": "2024-10-16T05:29:58.802970",
     "status": "completed"
    },
    "tags": []
   },
   "outputs": [
    {
     "data": {
      "text/html": [
       "<div>\n",
       "<style scoped>\n",
       "    .dataframe tbody tr th:only-of-type {\n",
       "        vertical-align: middle;\n",
       "    }\n",
       "\n",
       "    .dataframe tbody tr th {\n",
       "        vertical-align: top;\n",
       "    }\n",
       "\n",
       "    .dataframe thead th {\n",
       "        text-align: right;\n",
       "    }\n",
       "</style>\n",
       "<table border=\"1\" class=\"dataframe\">\n",
       "  <thead>\n",
       "    <tr style=\"text-align: right;\">\n",
       "      <th></th>\n",
       "      <th>date</th>\n",
       "      <th>meantemp</th>\n",
       "      <th>humidity</th>\n",
       "      <th>wind_speed</th>\n",
       "      <th>meanpressure</th>\n",
       "      <th>ewm</th>\n",
       "    </tr>\n",
       "  </thead>\n",
       "  <tbody>\n",
       "    <tr>\n",
       "      <th>0</th>\n",
       "      <td>2017-01-01</td>\n",
       "      <td>15.913043</td>\n",
       "      <td>85.869565</td>\n",
       "      <td>2.743478</td>\n",
       "      <td>59.000000</td>\n",
       "      <td>15.913043</td>\n",
       "    </tr>\n",
       "    <tr>\n",
       "      <th>1</th>\n",
       "      <td>2017-01-02</td>\n",
       "      <td>18.500000</td>\n",
       "      <td>77.222222</td>\n",
       "      <td>2.894444</td>\n",
       "      <td>1018.277778</td>\n",
       "      <td>18.264822</td>\n",
       "    </tr>\n",
       "    <tr>\n",
       "      <th>2</th>\n",
       "      <td>2017-01-03</td>\n",
       "      <td>17.111111</td>\n",
       "      <td>81.888889</td>\n",
       "      <td>4.016667</td>\n",
       "      <td>1018.333333</td>\n",
       "      <td>17.225443</td>\n",
       "    </tr>\n",
       "    <tr>\n",
       "      <th>3</th>\n",
       "      <td>2017-01-04</td>\n",
       "      <td>18.700000</td>\n",
       "      <td>70.050000</td>\n",
       "      <td>4.545000</td>\n",
       "      <td>1015.700000</td>\n",
       "      <td>18.552677</td>\n",
       "    </tr>\n",
       "    <tr>\n",
       "      <th>4</th>\n",
       "      <td>2017-01-05</td>\n",
       "      <td>18.388889</td>\n",
       "      <td>74.944444</td>\n",
       "      <td>3.300000</td>\n",
       "      <td>1014.333333</td>\n",
       "      <td>18.405266</td>\n",
       "    </tr>\n",
       "  </tbody>\n",
       "</table>\n",
       "</div>"
      ],
      "text/plain": [
       "         date   meantemp   humidity  wind_speed  meanpressure        ewm\n",
       "0  2017-01-01  15.913043  85.869565    2.743478     59.000000  15.913043\n",
       "1  2017-01-02  18.500000  77.222222    2.894444   1018.277778  18.264822\n",
       "2  2017-01-03  17.111111  81.888889    4.016667   1018.333333  17.225443\n",
       "3  2017-01-04  18.700000  70.050000    4.545000   1015.700000  18.552677\n",
       "4  2017-01-05  18.388889  74.944444    3.300000   1014.333333  18.405266"
      ]
     },
     "execution_count": 10,
     "metadata": {},
     "output_type": "execute_result"
    }
   ],
   "source": [
    "df['ewm'] = x1\n",
    "df.head()"
   ]
  },
  {
   "cell_type": "code",
   "execution_count": 11,
   "id": "d01972a7",
   "metadata": {
    "execution": {
     "iopub.execute_input": "2024-10-16T05:29:58.846846Z",
     "iopub.status.busy": "2024-10-16T05:29:58.846423Z",
     "iopub.status.idle": "2024-10-16T05:29:59.825785Z",
     "shell.execute_reply": "2024-10-16T05:29:59.824201Z"
    },
    "papermill": {
     "duration": 0.99129,
     "end_time": "2024-10-16T05:29:59.829028",
     "exception": false,
     "start_time": "2024-10-16T05:29:58.837738",
     "status": "completed"
    },
    "tags": []
   },
   "outputs": [
    {
     "data": {
      "image/png": "[encoded data removed]",
      "text/plain": [
       "<Figure size 640x480 with 1 Axes>"
      ]
     },
     "metadata": {},
     "output_type": "display_data"
    }
   ],
   "source": [
    "plt.scatter(df['date'],df['ewm'],color='red')\n",
    "plt.plot(df['date'],x1,color='black',label='alpha=0.9')\n",
    "plt.legend()\n",
    "plt.show()"
   ]
  },
  {
   "cell_type": "code",
   "execution_count": null,
   "id": "21f8a090",
   "metadata": {
    "papermill": {
     "duration": 0.00778,
     "end_time": "2024-10-16T05:29:59.845348",
     "exception": false,
     "start_time": "2024-10-16T05:29:59.837568",
     "status": "completed"
    },
    "tags": []
   },
   "outputs": [],
   "source": []
  }
 ],
 "metadata": {
  "kaggle": {
   "accelerator": "none",
   "dataSources": [
    {
     "datasetId": 4592738,
     "sourceId": 7835422,
     "sourceType": "datasetVersion"
    }
   ],
   "dockerImageVersionId": 30786,
   "isGpuEnabled": false,
   "isInternetEnabled": true,
   "language": "python",
   "sourceType": "notebook"
  },
  "kernelspec": {
   "display_name": "Python 3",
   "language": "python",
   "name": "python3"
  },
  "language_info": {
   "codemirror_mode": {
    "name": "ipython",
    "version": 3
   },
   "file_extension": ".py",
   "mimetype": "text/x-python",
   "name": "python",
   "nbconvert_exporter": "python",
   "pygments_lexer": "ipython3",
   "version": "3.10.14"
  },
  "papermill": {
   "default_parameters": {},
   "duration": 7.982469,
   "end_time": "2024-10-16T05:30:00.479004",
   "environment_variables": {},
   "exception": null,
   "input_path": "__notebook__.ipynb",
   "output_path": "__notebook__.ipynb",
   "parameters": {},
   "start_time": "2024-10-16T05:29:52.496535",
   "version": "2.6.0"
  }
 },
 "nbformat": 4,
 "nbformat_minor": 5
}
