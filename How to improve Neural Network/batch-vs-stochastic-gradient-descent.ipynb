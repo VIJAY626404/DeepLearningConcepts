{
 "cells": [
  {
   "cell_type": "markdown",
   "id": "8ae5087c",
   "metadata": {
    "papermill": {
     "duration": 0.007482,
     "end_time": "2024-10-01T04:53:12.460953",
     "exception": false,
     "start_time": "2024-10-01T04:53:12.453471",
     "status": "completed"
    },
    "tags": []
   },
   "source": [
    "# Problem Statement: \n",
    "    which is faster Batch Gradient Descent or Stochastic Gradient Descent if given number of epochs is same for both ?\n",
    "# Solution:\n",
    "    Batch GD is faster than Stochastic GD because Batch GD has less number of update weight and bias."
   ]
  },
  {
   "cell_type": "markdown",
   "id": "ff5898ac",
   "metadata": {
    "papermill": {
     "duration": 0.005745,
     "end_time": "2024-10-01T04:53:12.473136",
     "exception": false,
     "start_time": "2024-10-01T04:53:12.467391",
     "status": "completed"
    },
    "tags": []
   },
   "source": [
    "# Import Libaries and load Dataset:"
   ]
  },
  {
   "cell_type": "code",
   "execution_count": 1,
   "id": "7cf9c347",
   "metadata": {
    "_cell_guid": "b1076dfc-b9ad-4769-8c92-a6c4dae69d19",
    "_uuid": "8f2839f25d086af736a60e9eeb907d3b93b6e0e5",
    "execution": {
     "iopub.execute_input": "2024-10-01T04:53:12.487565Z",
     "iopub.status.busy": "2024-10-01T04:53:12.487150Z",
     "iopub.status.idle": "2024-10-01T04:53:13.342383Z",
     "shell.execute_reply": "2024-10-01T04:53:13.341111Z"
    },
    "papermill": {
     "duration": 0.865167,
     "end_time": "2024-10-01T04:53:13.344926",
     "exception": false,
     "start_time": "2024-10-01T04:53:12.479759",
     "status": "completed"
    },
    "tags": []
   },
   "outputs": [
    {
     "name": "stdout",
     "output_type": "stream",
     "text": [
      "/kaggle/input/social-network-ads/Social_Network_Ads.csv\n"
     ]
    }
   ],
   "source": [
    "import numpy as np # linear algebra\n",
    "import pandas as pd # data processing, CSV file I/O (e.g. pd.read_csv)\n",
    "\n",
    "import warnings\n",
    "warnings.filterwarnings(\"ignore\")\n",
    "\n",
    "\n",
    "import os\n",
    "for dirname, _, filenames in os.walk('/kaggle/input'):\n",
    "    for filename in filenames:\n",
    "        print(os.path.join(dirname, filename))\n"
   ]
  },
  {
   "cell_type": "code",
   "execution_count": 2,
   "id": "e1b1276f",
   "metadata": {
    "execution": {
     "iopub.execute_input": "2024-10-01T04:53:13.358671Z",
     "iopub.status.busy": "2024-10-01T04:53:13.358171Z",
     "iopub.status.idle": "2024-10-01T04:53:13.375604Z",
     "shell.execute_reply": "2024-10-01T04:53:13.374418Z"
    },
    "papermill": {
     "duration": 0.027187,
     "end_time": "2024-10-01T04:53:13.378245",
     "exception": false,
     "start_time": "2024-10-01T04:53:13.351058",
     "status": "completed"
    },
    "tags": []
   },
   "outputs": [],
   "source": [
    "df = pd.read_csv(\"/kaggle/input/social-network-ads/Social_Network_Ads.csv\")"
   ]
  },
  {
   "cell_type": "code",
   "execution_count": 3,
   "id": "bd30495f",
   "metadata": {
    "execution": {
     "iopub.execute_input": "2024-10-01T04:53:13.392037Z",
     "iopub.status.busy": "2024-10-01T04:53:13.391618Z",
     "iopub.status.idle": "2024-10-01T04:53:13.412083Z",
     "shell.execute_reply": "2024-10-01T04:53:13.410981Z"
    },
    "papermill": {
     "duration": 0.030268,
     "end_time": "2024-10-01T04:53:13.414601",
     "exception": false,
     "start_time": "2024-10-01T04:53:13.384333",
     "status": "completed"
    },
    "tags": []
   },
   "outputs": [
    {
     "data": {
      "text/html": [
       "<div>\n",
       "<style scoped>\n",
       "    .dataframe tbody tr th:only-of-type {\n",
       "        vertical-align: middle;\n",
       "    }\n",
       "\n",
       "    .dataframe tbody tr th {\n",
       "        vertical-align: top;\n",
       "    }\n",
       "\n",
       "    .dataframe thead th {\n",
       "        text-align: right;\n",
       "    }\n",
       "</style>\n",
       "<table border=\"1\" class=\"dataframe\">\n",
       "  <thead>\n",
       "    <tr style=\"text-align: right;\">\n",
       "      <th></th>\n",
       "      <th>User ID</th>\n",
       "      <th>Gender</th>\n",
       "      <th>Age</th>\n",
       "      <th>EstimatedSalary</th>\n",
       "      <th>Purchased</th>\n",
       "    </tr>\n",
       "  </thead>\n",
       "  <tbody>\n",
       "    <tr>\n",
       "      <th>0</th>\n",
       "      <td>15624510</td>\n",
       "      <td>Male</td>\n",
       "      <td>19</td>\n",
       "      <td>19000</td>\n",
       "      <td>0</td>\n",
       "    </tr>\n",
       "    <tr>\n",
       "      <th>1</th>\n",
       "      <td>15810944</td>\n",
       "      <td>Male</td>\n",
       "      <td>35</td>\n",
       "      <td>20000</td>\n",
       "      <td>0</td>\n",
       "    </tr>\n",
       "    <tr>\n",
       "      <th>2</th>\n",
       "      <td>15668575</td>\n",
       "      <td>Female</td>\n",
       "      <td>26</td>\n",
       "      <td>43000</td>\n",
       "      <td>0</td>\n",
       "    </tr>\n",
       "    <tr>\n",
       "      <th>3</th>\n",
       "      <td>15603246</td>\n",
       "      <td>Female</td>\n",
       "      <td>27</td>\n",
       "      <td>57000</td>\n",
       "      <td>0</td>\n",
       "    </tr>\n",
       "    <tr>\n",
       "      <th>4</th>\n",
       "      <td>15804002</td>\n",
       "      <td>Male</td>\n",
       "      <td>19</td>\n",
       "      <td>76000</td>\n",
       "      <td>0</td>\n",
       "    </tr>\n",
       "  </tbody>\n",
       "</table>\n",
       "</div>"
      ],
      "text/plain": [
       "    User ID  Gender  Age  EstimatedSalary  Purchased\n",
       "0  15624510    Male   19            19000          0\n",
       "1  15810944    Male   35            20000          0\n",
       "2  15668575  Female   26            43000          0\n",
       "3  15603246  Female   27            57000          0\n",
       "4  15804002    Male   19            76000          0"
      ]
     },
     "execution_count": 3,
     "metadata": {},
     "output_type": "execute_result"
    }
   ],
   "source": [
    "df.head()"
   ]
  },
  {
   "cell_type": "code",
   "execution_count": 4,
   "id": "e75d91dd",
   "metadata": {
    "execution": {
     "iopub.execute_input": "2024-10-01T04:53:13.428598Z",
     "iopub.status.busy": "2024-10-01T04:53:13.428188Z",
     "iopub.status.idle": "2024-10-01T04:53:13.438388Z",
     "shell.execute_reply": "2024-10-01T04:53:13.437372Z"
    },
    "papermill": {
     "duration": 0.019907,
     "end_time": "2024-10-01T04:53:13.440711",
     "exception": false,
     "start_time": "2024-10-01T04:53:13.420804",
     "status": "completed"
    },
    "tags": []
   },
   "outputs": [],
   "source": [
    "df = df[['Age','EstimatedSalary','Purchased']]"
   ]
  },
  {
   "cell_type": "code",
   "execution_count": 5,
   "id": "14a1cc51",
   "metadata": {
    "execution": {
     "iopub.execute_input": "2024-10-01T04:53:13.455833Z",
     "iopub.status.busy": "2024-10-01T04:53:13.455410Z",
     "iopub.status.idle": "2024-10-01T04:53:13.465796Z",
     "shell.execute_reply": "2024-10-01T04:53:13.464738Z"
    },
    "papermill": {
     "duration": 0.020294,
     "end_time": "2024-10-01T04:53:13.468222",
     "exception": false,
     "start_time": "2024-10-01T04:53:13.447928",
     "status": "completed"
    },
    "tags": []
   },
   "outputs": [
    {
     "data": {
      "text/html": [
       "<div>\n",
       "<style scoped>\n",
       "    .dataframe tbody tr th:only-of-type {\n",
       "        vertical-align: middle;\n",
       "    }\n",
       "\n",
       "    .dataframe tbody tr th {\n",
       "        vertical-align: top;\n",
       "    }\n",
       "\n",
       "    .dataframe thead th {\n",
       "        text-align: right;\n",
       "    }\n",
       "</style>\n",
       "<table border=\"1\" class=\"dataframe\">\n",
       "  <thead>\n",
       "    <tr style=\"text-align: right;\">\n",
       "      <th></th>\n",
       "      <th>Age</th>\n",
       "      <th>EstimatedSalary</th>\n",
       "      <th>Purchased</th>\n",
       "    </tr>\n",
       "  </thead>\n",
       "  <tbody>\n",
       "    <tr>\n",
       "      <th>0</th>\n",
       "      <td>19</td>\n",
       "      <td>19000</td>\n",
       "      <td>0</td>\n",
       "    </tr>\n",
       "    <tr>\n",
       "      <th>1</th>\n",
       "      <td>35</td>\n",
       "      <td>20000</td>\n",
       "      <td>0</td>\n",
       "    </tr>\n",
       "    <tr>\n",
       "      <th>2</th>\n",
       "      <td>26</td>\n",
       "      <td>43000</td>\n",
       "      <td>0</td>\n",
       "    </tr>\n",
       "    <tr>\n",
       "      <th>3</th>\n",
       "      <td>27</td>\n",
       "      <td>57000</td>\n",
       "      <td>0</td>\n",
       "    </tr>\n",
       "    <tr>\n",
       "      <th>4</th>\n",
       "      <td>19</td>\n",
       "      <td>76000</td>\n",
       "      <td>0</td>\n",
       "    </tr>\n",
       "  </tbody>\n",
       "</table>\n",
       "</div>"
      ],
      "text/plain": [
       "   Age  EstimatedSalary  Purchased\n",
       "0   19            19000          0\n",
       "1   35            20000          0\n",
       "2   26            43000          0\n",
       "3   27            57000          0\n",
       "4   19            76000          0"
      ]
     },
     "execution_count": 5,
     "metadata": {},
     "output_type": "execute_result"
    }
   ],
   "source": [
    "df.head()"
   ]
  },
  {
   "cell_type": "code",
   "execution_count": 6,
   "id": "50d5d8f1",
   "metadata": {
    "execution": {
     "iopub.execute_input": "2024-10-01T04:53:13.484000Z",
     "iopub.status.busy": "2024-10-01T04:53:13.482818Z",
     "iopub.status.idle": "2024-10-01T04:53:13.487907Z",
     "shell.execute_reply": "2024-10-01T04:53:13.486753Z"
    },
    "papermill": {
     "duration": 0.015495,
     "end_time": "2024-10-01T04:53:13.490474",
     "exception": false,
     "start_time": "2024-10-01T04:53:13.474979",
     "status": "completed"
    },
    "tags": []
   },
   "outputs": [],
   "source": [
    "# Split Data into X & Y"
   ]
  },
  {
   "cell_type": "code",
   "execution_count": 7,
   "id": "a5435086",
   "metadata": {
    "execution": {
     "iopub.execute_input": "2024-10-01T04:53:13.505075Z",
     "iopub.status.busy": "2024-10-01T04:53:13.504650Z",
     "iopub.status.idle": "2024-10-01T04:53:13.510174Z",
     "shell.execute_reply": "2024-10-01T04:53:13.509103Z"
    },
    "papermill": {
     "duration": 0.01577,
     "end_time": "2024-10-01T04:53:13.512716",
     "exception": false,
     "start_time": "2024-10-01T04:53:13.496946",
     "status": "completed"
    },
    "tags": []
   },
   "outputs": [],
   "source": [
    "X = df.iloc[:,0:2]\n",
    "y = df.iloc[:,-1]"
   ]
  },
  {
   "cell_type": "code",
   "execution_count": 8,
   "id": "47a701ac",
   "metadata": {
    "execution": {
     "iopub.execute_input": "2024-10-01T04:53:13.528078Z",
     "iopub.status.busy": "2024-10-01T04:53:13.526816Z",
     "iopub.status.idle": "2024-10-01T04:53:13.541441Z",
     "shell.execute_reply": "2024-10-01T04:53:13.540273Z"
    },
    "papermill": {
     "duration": 0.024438,
     "end_time": "2024-10-01T04:53:13.543742",
     "exception": false,
     "start_time": "2024-10-01T04:53:13.519304",
     "status": "completed"
    },
    "tags": []
   },
   "outputs": [
    {
     "data": {
      "text/html": [
       "<div>\n",
       "<style scoped>\n",
       "    .dataframe tbody tr th:only-of-type {\n",
       "        vertical-align: middle;\n",
       "    }\n",
       "\n",
       "    .dataframe tbody tr th {\n",
       "        vertical-align: top;\n",
       "    }\n",
       "\n",
       "    .dataframe thead th {\n",
       "        text-align: right;\n",
       "    }\n",
       "</style>\n",
       "<table border=\"1\" class=\"dataframe\">\n",
       "  <thead>\n",
       "    <tr style=\"text-align: right;\">\n",
       "      <th></th>\n",
       "      <th>Age</th>\n",
       "      <th>EstimatedSalary</th>\n",
       "    </tr>\n",
       "  </thead>\n",
       "  <tbody>\n",
       "    <tr>\n",
       "      <th>0</th>\n",
       "      <td>19</td>\n",
       "      <td>19000</td>\n",
       "    </tr>\n",
       "    <tr>\n",
       "      <th>1</th>\n",
       "      <td>35</td>\n",
       "      <td>20000</td>\n",
       "    </tr>\n",
       "    <tr>\n",
       "      <th>2</th>\n",
       "      <td>26</td>\n",
       "      <td>43000</td>\n",
       "    </tr>\n",
       "    <tr>\n",
       "      <th>3</th>\n",
       "      <td>27</td>\n",
       "      <td>57000</td>\n",
       "    </tr>\n",
       "    <tr>\n",
       "      <th>4</th>\n",
       "      <td>19</td>\n",
       "      <td>76000</td>\n",
       "    </tr>\n",
       "    <tr>\n",
       "      <th>...</th>\n",
       "      <td>...</td>\n",
       "      <td>...</td>\n",
       "    </tr>\n",
       "    <tr>\n",
       "      <th>395</th>\n",
       "      <td>46</td>\n",
       "      <td>41000</td>\n",
       "    </tr>\n",
       "    <tr>\n",
       "      <th>396</th>\n",
       "      <td>51</td>\n",
       "      <td>23000</td>\n",
       "    </tr>\n",
       "    <tr>\n",
       "      <th>397</th>\n",
       "      <td>50</td>\n",
       "      <td>20000</td>\n",
       "    </tr>\n",
       "    <tr>\n",
       "      <th>398</th>\n",
       "      <td>36</td>\n",
       "      <td>33000</td>\n",
       "    </tr>\n",
       "    <tr>\n",
       "      <th>399</th>\n",
       "      <td>49</td>\n",
       "      <td>36000</td>\n",
       "    </tr>\n",
       "  </tbody>\n",
       "</table>\n",
       "<p>400 rows × 2 columns</p>\n",
       "</div>"
      ],
      "text/plain": [
       "     Age  EstimatedSalary\n",
       "0     19            19000\n",
       "1     35            20000\n",
       "2     26            43000\n",
       "3     27            57000\n",
       "4     19            76000\n",
       "..   ...              ...\n",
       "395   46            41000\n",
       "396   51            23000\n",
       "397   50            20000\n",
       "398   36            33000\n",
       "399   49            36000\n",
       "\n",
       "[400 rows x 2 columns]"
      ]
     },
     "execution_count": 8,
     "metadata": {},
     "output_type": "execute_result"
    }
   ],
   "source": [
    "X"
   ]
  },
  {
   "cell_type": "markdown",
   "id": "4f582691",
   "metadata": {
    "papermill": {
     "duration": 0.006323,
     "end_time": "2024-10-01T04:53:13.556666",
     "exception": false,
     "start_time": "2024-10-01T04:53:13.550343",
     "status": "completed"
    },
    "tags": []
   },
   "source": [
    "# Apply Standard Scaler\n",
    "1. for input as same label"
   ]
  },
  {
   "cell_type": "code",
   "execution_count": 9,
   "id": "28befdc5",
   "metadata": {
    "execution": {
     "iopub.execute_input": "2024-10-01T04:53:13.572179Z",
     "iopub.status.busy": "2024-10-01T04:53:13.571317Z",
     "iopub.status.idle": "2024-10-01T04:53:14.811524Z",
     "shell.execute_reply": "2024-10-01T04:53:14.810297Z"
    },
    "papermill": {
     "duration": 1.250715,
     "end_time": "2024-10-01T04:53:14.814217",
     "exception": false,
     "start_time": "2024-10-01T04:53:13.563502",
     "status": "completed"
    },
    "tags": []
   },
   "outputs": [],
   "source": [
    "from sklearn.preprocessing import StandardScaler\n",
    "scaler = StandardScaler()\n",
    "\n",
    "X_scaled = scaler.fit_transform(X)"
   ]
  },
  {
   "cell_type": "markdown",
   "id": "2146b536",
   "metadata": {
    "papermill": {
     "duration": 0.006224,
     "end_time": "2024-10-01T04:53:14.827041",
     "exception": false,
     "start_time": "2024-10-01T04:53:14.820817",
     "status": "completed"
    },
    "tags": []
   },
   "source": [
    "# Train Test Split"
   ]
  },
  {
   "cell_type": "code",
   "execution_count": 10,
   "id": "abf7a786",
   "metadata": {
    "execution": {
     "iopub.execute_input": "2024-10-01T04:53:14.842236Z",
     "iopub.status.busy": "2024-10-01T04:53:14.841680Z",
     "iopub.status.idle": "2024-10-01T04:53:14.956790Z",
     "shell.execute_reply": "2024-10-01T04:53:14.955514Z"
    },
    "papermill": {
     "duration": 0.126139,
     "end_time": "2024-10-01T04:53:14.959687",
     "exception": false,
     "start_time": "2024-10-01T04:53:14.833548",
     "status": "completed"
    },
    "tags": []
   },
   "outputs": [],
   "source": [
    "from sklearn.model_selection import train_test_split\n",
    "X_train,X_test,Y_train,Y_test = train_test_split(X,y,test_size=0.2,random_state=2)"
   ]
  },
  {
   "cell_type": "code",
   "execution_count": 11,
   "id": "47d6b8ed",
   "metadata": {
    "execution": {
     "iopub.execute_input": "2024-10-01T04:53:14.974625Z",
     "iopub.status.busy": "2024-10-01T04:53:14.974226Z",
     "iopub.status.idle": "2024-10-01T04:53:14.981224Z",
     "shell.execute_reply": "2024-10-01T04:53:14.979988Z"
    },
    "papermill": {
     "duration": 0.017137,
     "end_time": "2024-10-01T04:53:14.983557",
     "exception": false,
     "start_time": "2024-10-01T04:53:14.966420",
     "status": "completed"
    },
    "tags": []
   },
   "outputs": [
    {
     "data": {
      "text/plain": [
       "(320, 2)"
      ]
     },
     "execution_count": 11,
     "metadata": {},
     "output_type": "execute_result"
    }
   ],
   "source": [
    "X_train.shape"
   ]
  },
  {
   "cell_type": "markdown",
   "id": "9ad86582",
   "metadata": {
    "papermill": {
     "duration": 0.006407,
     "end_time": "2024-10-01T04:53:14.997316",
     "exception": false,
     "start_time": "2024-10-01T04:53:14.990909",
     "status": "completed"
    },
    "tags": []
   },
   "source": [
    "# Import Tensor flow"
   ]
  },
  {
   "cell_type": "code",
   "execution_count": 12,
   "id": "2995c69b",
   "metadata": {
    "execution": {
     "iopub.execute_input": "2024-10-01T04:53:15.012552Z",
     "iopub.status.busy": "2024-10-01T04:53:15.012167Z",
     "iopub.status.idle": "2024-10-01T04:53:29.539201Z",
     "shell.execute_reply": "2024-10-01T04:53:29.538056Z"
    },
    "papermill": {
     "duration": 14.538112,
     "end_time": "2024-10-01T04:53:29.542370",
     "exception": false,
     "start_time": "2024-10-01T04:53:15.004258",
     "status": "completed"
    },
    "tags": []
   },
   "outputs": [],
   "source": [
    "import tensorflow as tf\n",
    "from tensorflow import keras\n",
    "from keras import Sequential\n",
    "from keras.layers import Dense"
   ]
  },
  {
   "cell_type": "markdown",
   "id": "bd304152",
   "metadata": {
    "papermill": {
     "duration": 0.006497,
     "end_time": "2024-10-01T04:53:29.555931",
     "exception": false,
     "start_time": "2024-10-01T04:53:29.549434",
     "status": "completed"
    },
    "tags": []
   },
   "source": [
    "# Define Neural Network Model"
   ]
  },
  {
   "cell_type": "code",
   "execution_count": 13,
   "id": "430c77ad",
   "metadata": {
    "execution": {
     "iopub.execute_input": "2024-10-01T04:53:29.571651Z",
     "iopub.status.busy": "2024-10-01T04:53:29.571005Z",
     "iopub.status.idle": "2024-10-01T04:53:29.667763Z",
     "shell.execute_reply": "2024-10-01T04:53:29.666443Z"
    },
    "papermill": {
     "duration": 0.107815,
     "end_time": "2024-10-01T04:53:29.670422",
     "exception": false,
     "start_time": "2024-10-01T04:53:29.562607",
     "status": "completed"
    },
    "tags": []
   },
   "outputs": [],
   "source": [
    "model = Sequential()\n",
    "\n",
    "model.add(Dense(10,activation='relu',input_dim = 2))\n",
    "model.add(Dense(10,activation='relu'))\n",
    "model.add(Dense(1,activation='sigmoid'))"
   ]
  },
  {
   "cell_type": "code",
   "execution_count": 14,
   "id": "bc1ec338",
   "metadata": {
    "execution": {
     "iopub.execute_input": "2024-10-01T04:53:29.686418Z",
     "iopub.status.busy": "2024-10-01T04:53:29.685695Z",
     "iopub.status.idle": "2024-10-01T04:53:29.707350Z",
     "shell.execute_reply": "2024-10-01T04:53:29.706294Z"
    },
    "papermill": {
     "duration": 0.03177,
     "end_time": "2024-10-01T04:53:29.709557",
     "exception": false,
     "start_time": "2024-10-01T04:53:29.677787",
     "status": "completed"
    },
    "tags": []
   },
   "outputs": [
    {
     "data": {
      "text/html": [
       "<pre style=\"white-space:pre;overflow-x:auto;line-height:normal;font-family:Menlo,'DejaVu Sans Mono',consolas,'Courier New',monospace\"><span style=\"font-weight: bold\">Model: \"sequential\"</span>\n",
       "</pre>\n"
      ],
      "text/plain": [
       "\u001b[1mModel: \"sequential\"\u001b[0m\n"
      ]
     },
     "metadata": {},
     "output_type": "display_data"
    },
    {
     "data": {
      "text/html": [
       "<pre style=\"white-space:pre;overflow-x:auto;line-height:normal;font-family:Menlo,'DejaVu Sans Mono',consolas,'Courier New',monospace\">┏━━━━━━━━━━━━━━━━━━━━━━━━━━━━━━━━━┳━━━━━━━━━━━━━━━━━━━━━━━━┳━━━━━━━━━━━━━━━┓\n",
       "┃<span style=\"font-weight: bold\"> Layer (type)                    </span>┃<span style=\"font-weight: bold\"> Output Shape           </span>┃<span style=\"font-weight: bold\">       Param # </span>┃\n",
       "┡━━━━━━━━━━━━━━━━━━━━━━━━━━━━━━━━━╇━━━━━━━━━━━━━━━━━━━━━━━━╇━━━━━━━━━━━━━━━┩\n",
       "│ dense (<span style=\"color: #0087ff; text-decoration-color: #0087ff\">Dense</span>)                   │ (<span style=\"color: #00d7ff; text-decoration-color: #00d7ff\">None</span>, <span style=\"color: #00af00; text-decoration-color: #00af00\">10</span>)             │            <span style=\"color: #00af00; text-decoration-color: #00af00\">30</span> │\n",
       "├─────────────────────────────────┼────────────────────────┼───────────────┤\n",
       "│ dense_1 (<span style=\"color: #0087ff; text-decoration-color: #0087ff\">Dense</span>)                 │ (<span style=\"color: #00d7ff; text-decoration-color: #00d7ff\">None</span>, <span style=\"color: #00af00; text-decoration-color: #00af00\">10</span>)             │           <span style=\"color: #00af00; text-decoration-color: #00af00\">110</span> │\n",
       "├─────────────────────────────────┼────────────────────────┼───────────────┤\n",
       "│ dense_2 (<span style=\"color: #0087ff; text-decoration-color: #0087ff\">Dense</span>)                 │ (<span style=\"color: #00d7ff; text-decoration-color: #00d7ff\">None</span>, <span style=\"color: #00af00; text-decoration-color: #00af00\">1</span>)              │            <span style=\"color: #00af00; text-decoration-color: #00af00\">11</span> │\n",
       "└─────────────────────────────────┴────────────────────────┴───────────────┘\n",
       "</pre>\n"
      ],
      "text/plain": [
       "┏━━━━━━━━━━━━━━━━━━━━━━━━━━━━━━━━━┳━━━━━━━━━━━━━━━━━━━━━━━━┳━━━━━━━━━━━━━━━┓\n",
       "┃\u001b[1m \u001b[0m\u001b[1mLayer (type)                   \u001b[0m\u001b[1m \u001b[0m┃\u001b[1m \u001b[0m\u001b[1mOutput Shape          \u001b[0m\u001b[1m \u001b[0m┃\u001b[1m \u001b[0m\u001b[1m      Param #\u001b[0m\u001b[1m \u001b[0m┃\n",
       "┡━━━━━━━━━━━━━━━━━━━━━━━━━━━━━━━━━╇━━━━━━━━━━━━━━━━━━━━━━━━╇━━━━━━━━━━━━━━━┩\n",
       "│ dense (\u001b[38;5;33mDense\u001b[0m)                   │ (\u001b[38;5;45mNone\u001b[0m, \u001b[38;5;34m10\u001b[0m)             │            \u001b[38;5;34m30\u001b[0m │\n",
       "├─────────────────────────────────┼────────────────────────┼───────────────┤\n",
       "│ dense_1 (\u001b[38;5;33mDense\u001b[0m)                 │ (\u001b[38;5;45mNone\u001b[0m, \u001b[38;5;34m10\u001b[0m)             │           \u001b[38;5;34m110\u001b[0m │\n",
       "├─────────────────────────────────┼────────────────────────┼───────────────┤\n",
       "│ dense_2 (\u001b[38;5;33mDense\u001b[0m)                 │ (\u001b[38;5;45mNone\u001b[0m, \u001b[38;5;34m1\u001b[0m)              │            \u001b[38;5;34m11\u001b[0m │\n",
       "└─────────────────────────────────┴────────────────────────┴───────────────┘\n"
      ]
     },
     "metadata": {},
     "output_type": "display_data"
    },
    {
     "data": {
      "text/html": [
       "<pre style=\"white-space:pre;overflow-x:auto;line-height:normal;font-family:Menlo,'DejaVu Sans Mono',consolas,'Courier New',monospace\"><span style=\"font-weight: bold\"> Total params: </span><span style=\"color: #00af00; text-decoration-color: #00af00\">151</span> (604.00 B)\n",
       "</pre>\n"
      ],
      "text/plain": [
       "\u001b[1m Total params: \u001b[0m\u001b[38;5;34m151\u001b[0m (604.00 B)\n"
      ]
     },
     "metadata": {},
     "output_type": "display_data"
    },
    {
     "data": {
      "text/html": [
       "<pre style=\"white-space:pre;overflow-x:auto;line-height:normal;font-family:Menlo,'DejaVu Sans Mono',consolas,'Courier New',monospace\"><span style=\"font-weight: bold\"> Trainable params: </span><span style=\"color: #00af00; text-decoration-color: #00af00\">151</span> (604.00 B)\n",
       "</pre>\n"
      ],
      "text/plain": [
       "\u001b[1m Trainable params: \u001b[0m\u001b[38;5;34m151\u001b[0m (604.00 B)\n"
      ]
     },
     "metadata": {},
     "output_type": "display_data"
    },
    {
     "data": {
      "text/html": [
       "<pre style=\"white-space:pre;overflow-x:auto;line-height:normal;font-family:Menlo,'DejaVu Sans Mono',consolas,'Courier New',monospace\"><span style=\"font-weight: bold\"> Non-trainable params: </span><span style=\"color: #00af00; text-decoration-color: #00af00\">0</span> (0.00 B)\n",
       "</pre>\n"
      ],
      "text/plain": [
       "\u001b[1m Non-trainable params: \u001b[0m\u001b[38;5;34m0\u001b[0m (0.00 B)\n"
      ]
     },
     "metadata": {},
     "output_type": "display_data"
    }
   ],
   "source": [
    "model.summary()"
   ]
  },
  {
   "cell_type": "markdown",
   "id": "51b82347",
   "metadata": {
    "papermill": {
     "duration": 0.007063,
     "end_time": "2024-10-01T04:53:29.723967",
     "exception": false,
     "start_time": "2024-10-01T04:53:29.716904",
     "status": "completed"
    },
    "tags": []
   },
   "source": [
    "# Compile and Train Model"
   ]
  },
  {
   "cell_type": "code",
   "execution_count": 15,
   "id": "24bd2302",
   "metadata": {
    "execution": {
     "iopub.execute_input": "2024-10-01T04:53:29.740218Z",
     "iopub.status.busy": "2024-10-01T04:53:29.739796Z",
     "iopub.status.idle": "2024-10-01T04:53:29.745311Z",
     "shell.execute_reply": "2024-10-01T04:53:29.744119Z"
    },
    "papermill": {
     "duration": 0.016575,
     "end_time": "2024-10-01T04:53:29.747835",
     "exception": false,
     "start_time": "2024-10-01T04:53:29.731260",
     "status": "completed"
    },
    "tags": []
   },
   "outputs": [],
   "source": [
    "import time"
   ]
  },
  {
   "cell_type": "markdown",
   "id": "e8f6ed07",
   "metadata": {
    "papermill": {
     "duration": 0.008274,
     "end_time": "2024-10-01T04:53:29.763613",
     "exception": false,
     "start_time": "2024-10-01T04:53:29.755339",
     "status": "completed"
    },
    "tags": []
   },
   "source": [
    "# For Batch Gradient Descent\n",
    "1. total time taken is : 1.1129779815673828 "
   ]
  },
  {
   "cell_type": "code",
   "execution_count": 16,
   "id": "b6d1f804",
   "metadata": {
    "execution": {
     "iopub.execute_input": "2024-10-01T04:53:29.780451Z",
     "iopub.status.busy": "2024-10-01T04:53:29.780057Z",
     "iopub.status.idle": "2024-10-01T04:53:31.089143Z",
     "shell.execute_reply": "2024-10-01T04:53:31.087953Z"
    },
    "papermill": {
     "duration": 1.320634,
     "end_time": "2024-10-01T04:53:31.091591",
     "exception": false,
     "start_time": "2024-10-01T04:53:29.770957",
     "status": "completed"
    },
    "tags": []
   },
   "outputs": [
    {
     "name": "stdout",
     "output_type": "stream",
     "text": [
      "Epoch 1/10\n",
      "\u001b[1m1/1\u001b[0m \u001b[32m━━━━━━━━━━━━━━━━━━━━\u001b[0m\u001b[37m\u001b[0m \u001b[1m1s\u001b[0m 924ms/step - accuracy: 0.3469 - loss: 10828.3223\n",
      "Epoch 2/10\n",
      "\u001b[1m1/1\u001b[0m \u001b[32m━━━━━━━━━━━━━━━━━━━━\u001b[0m\u001b[37m\u001b[0m \u001b[1m0s\u001b[0m 26ms/step - accuracy: 0.3469 - loss: 10507.4688\n",
      "Epoch 3/10\n",
      "\u001b[1m1/1\u001b[0m \u001b[32m━━━━━━━━━━━━━━━━━━━━\u001b[0m\u001b[37m\u001b[0m \u001b[1m0s\u001b[0m 27ms/step - accuracy: 0.3469 - loss: 10279.4912\n",
      "Epoch 4/10\n",
      "\u001b[1m1/1\u001b[0m \u001b[32m━━━━━━━━━━━━━━━━━━━━\u001b[0m\u001b[37m\u001b[0m \u001b[1m0s\u001b[0m 29ms/step - accuracy: 0.3469 - loss: 10091.3965\n",
      "Epoch 5/10\n",
      "\u001b[1m1/1\u001b[0m \u001b[32m━━━━━━━━━━━━━━━━━━━━\u001b[0m\u001b[37m\u001b[0m \u001b[1m0s\u001b[0m 29ms/step - accuracy: 0.3469 - loss: 9926.4502\n",
      "Epoch 6/10\n",
      "\u001b[1m1/1\u001b[0m \u001b[32m━━━━━━━━━━━━━━━━━━━━\u001b[0m\u001b[37m\u001b[0m \u001b[1m0s\u001b[0m 26ms/step - accuracy: 0.3469 - loss: 9776.9082\n",
      "Epoch 7/10\n",
      "\u001b[1m1/1\u001b[0m \u001b[32m━━━━━━━━━━━━━━━━━━━━\u001b[0m\u001b[37m\u001b[0m \u001b[1m0s\u001b[0m 30ms/step - accuracy: 0.3469 - loss: 9638.4590\n",
      "Epoch 8/10\n",
      "\u001b[1m1/1\u001b[0m \u001b[32m━━━━━━━━━━━━━━━━━━━━\u001b[0m\u001b[37m\u001b[0m \u001b[1m0s\u001b[0m 31ms/step - accuracy: 0.3469 - loss: 9508.4336\n",
      "Epoch 9/10\n",
      "\u001b[1m1/1\u001b[0m \u001b[32m━━━━━━━━━━━━━━━━━━━━\u001b[0m\u001b[37m\u001b[0m \u001b[1m0s\u001b[0m 27ms/step - accuracy: 0.3469 - loss: 9385.0410\n",
      "Epoch 10/10\n",
      "\u001b[1m1/1\u001b[0m \u001b[32m━━━━━━━━━━━━━━━━━━━━\u001b[0m\u001b[37m\u001b[0m \u001b[1m0s\u001b[0m 27ms/step - accuracy: 0.3469 - loss: 9267.0215\n",
      "1.2901115417480469\n"
     ]
    }
   ],
   "source": [
    "model.compile(loss='binary_crossentropy',metrics=['accuracy'])\n",
    "start = time.time()\n",
    "history = model.fit(X_train,Y_train,epochs=10,batch_size=320)\n",
    "print(time.time()- start)"
   ]
  },
  {
   "cell_type": "markdown",
   "id": "8666f776",
   "metadata": {
    "papermill": {
     "duration": 0.009556,
     "end_time": "2024-10-01T04:53:31.111248",
     "exception": false,
     "start_time": "2024-10-01T04:53:31.101692",
     "status": "completed"
    },
    "tags": []
   },
   "source": [
    "# For Stochastic Gradient Descent\n",
    "1. total time taken is : 5.488513231277466"
   ]
  },
  {
   "cell_type": "code",
   "execution_count": 17,
   "id": "fb88fc14",
   "metadata": {
    "execution": {
     "iopub.execute_input": "2024-10-01T04:53:31.132862Z",
     "iopub.status.busy": "2024-10-01T04:53:31.132434Z",
     "iopub.status.idle": "2024-10-01T04:53:36.627796Z",
     "shell.execute_reply": "2024-10-01T04:53:36.626445Z"
    },
    "papermill": {
     "duration": 5.509011,
     "end_time": "2024-10-01T04:53:36.630392",
     "exception": false,
     "start_time": "2024-10-01T04:53:31.121381",
     "status": "completed"
    },
    "tags": []
   },
   "outputs": [
    {
     "name": "stdout",
     "output_type": "stream",
     "text": [
      "Epoch 1/10\n",
      "\u001b[1m320/320\u001b[0m \u001b[32m━━━━━━━━━━━━━━━━━━━━\u001b[0m\u001b[37m\u001b[0m \u001b[1m1s\u001b[0m 2ms/step - accuracy: 0.3913 - loss: 4107.8003\n",
      "Epoch 2/10\n",
      "\u001b[1m320/320\u001b[0m \u001b[32m━━━━━━━━━━━━━━━━━━━━\u001b[0m\u001b[37m\u001b[0m \u001b[1m1s\u001b[0m 2ms/step - accuracy: 0.5486 - loss: 70.8624\n",
      "Epoch 3/10\n",
      "\u001b[1m320/320\u001b[0m \u001b[32m━━━━━━━━━━━━━━━━━━━━\u001b[0m\u001b[37m\u001b[0m \u001b[1m0s\u001b[0m 1ms/step - accuracy: 0.5052 - loss: 70.8041\n",
      "Epoch 4/10\n",
      "\u001b[1m320/320\u001b[0m \u001b[32m━━━━━━━━━━━━━━━━━━━━\u001b[0m\u001b[37m\u001b[0m \u001b[1m0s\u001b[0m 1ms/step - accuracy: 0.5489 - loss: 57.9656\n",
      "Epoch 5/10\n",
      "\u001b[1m320/320\u001b[0m \u001b[32m━━━━━━━━━━━━━━━━━━━━\u001b[0m\u001b[37m\u001b[0m \u001b[1m0s\u001b[0m 1ms/step - accuracy: 0.4710 - loss: 81.7835\n",
      "Epoch 6/10\n",
      "\u001b[1m320/320\u001b[0m \u001b[32m━━━━━━━━━━━━━━━━━━━━\u001b[0m\u001b[37m\u001b[0m \u001b[1m0s\u001b[0m 1ms/step - accuracy: 0.4714 - loss: 75.8886\n",
      "Epoch 7/10\n",
      "\u001b[1m320/320\u001b[0m \u001b[32m━━━━━━━━━━━━━━━━━━━━\u001b[0m\u001b[37m\u001b[0m \u001b[1m0s\u001b[0m 1ms/step - accuracy: 0.5243 - loss: 62.3452\n",
      "Epoch 8/10\n",
      "\u001b[1m320/320\u001b[0m \u001b[32m━━━━━━━━━━━━━━━━━━━━\u001b[0m\u001b[37m\u001b[0m \u001b[1m0s\u001b[0m 1ms/step - accuracy: 0.5222 - loss: 61.5504\n",
      "Epoch 9/10\n",
      "\u001b[1m320/320\u001b[0m \u001b[32m━━━━━━━━━━━━━━━━━━━━\u001b[0m\u001b[37m\u001b[0m \u001b[1m0s\u001b[0m 1ms/step - accuracy: 0.4850 - loss: 68.7122\n",
      "Epoch 10/10\n",
      "\u001b[1m320/320\u001b[0m \u001b[32m━━━━━━━━━━━━━━━━━━━━\u001b[0m\u001b[37m\u001b[0m \u001b[1m0s\u001b[0m 1ms/step - accuracy: 0.5038 - loss: 64.8773\n",
      "5.48289942741394\n"
     ]
    }
   ],
   "source": [
    "model.compile(loss='binary_crossentropy',metrics=['accuracy'])\n",
    "start = time.time()\n",
    "history = model.fit(X_train,Y_train,epochs=10,batch_size=1)\n",
    "print(time.time()- start)"
   ]
  },
  {
   "cell_type": "code",
   "execution_count": null,
   "id": "99d50ae6",
   "metadata": {
    "papermill": {
     "duration": 0.01703,
     "end_time": "2024-10-01T04:53:36.665161",
     "exception": false,
     "start_time": "2024-10-01T04:53:36.648131",
     "status": "completed"
    },
    "tags": []
   },
   "outputs": [],
   "source": []
  }
 ],
 "metadata": {
  "kaggle": {
   "accelerator": "none",
   "dataSources": [
    {
     "datasetId": 3646011,
     "sourceId": 6333866,
     "sourceType": "datasetVersion"
    }
   ],
   "dockerImageVersionId": 30775,
   "isGpuEnabled": false,
   "isInternetEnabled": false,
   "language": "python",
   "sourceType": "notebook"
  },
  "kernelspec": {
   "display_name": "Python 3",
   "language": "python",
   "name": "python3"
  },
  "language_info": {
   "codemirror_mode": {
    "name": "ipython",
    "version": 3
   },
   "file_extension": ".py",
   "mimetype": "text/x-python",
   "name": "python",
   "nbconvert_exporter": "python",
   "pygments_lexer": "ipython3",
   "version": "3.10.14"
  },
  "papermill": {
   "default_parameters": {},
   "duration": 29.509685,
   "end_time": "2024-10-01T04:53:39.121285",
   "environment_variables": {},
   "exception": null,
   "input_path": "__notebook__.ipynb",
   "output_path": "__notebook__.ipynb",
   "parameters": {},
   "start_time": "2024-10-01T04:53:09.611600",
   "version": "2.6.0"
  }
 },
 "nbformat": 4,
 "nbformat_minor": 5
}
